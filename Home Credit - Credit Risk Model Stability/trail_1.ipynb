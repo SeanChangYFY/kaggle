{
 "cells": [
  {
   "cell_type": "markdown",
   "metadata": {},
   "source": [
    "- Read data\n",
    "- Filter the data by too much missing values\n",
    "- Aggregation pipeline\n",
    "- Merge pipeline\n",
    "- Train base line model"
   ]
  },
  {
   "cell_type": "code",
   "execution_count": 1,
   "metadata": {},
   "outputs": [],
   "source": [
    "import pandas as pd\n",
    "import polars as pl\n",
    "import time"
   ]
  },
  {
   "cell_type": "markdown",
   "metadata": {},
   "source": [
    "Config"
   ]
  },
  {
   "cell_type": "code",
   "execution_count": 4,
   "metadata": {},
   "outputs": [],
   "source": [
    "train_path = './home-credit-credit-risk-model-stability/csv_files/train/'\n",
    "test_path = './home-credit-credit-risk-model-stability/csv_files/test/'"
   ]
  },
  {
   "cell_type": "markdown",
   "metadata": {},
   "source": [
    "### Help functions"
   ]
  },
  {
   "cell_type": "code",
   "execution_count": 5,
   "metadata": {},
   "outputs": [],
   "source": [
    "def set_dtypes(df : pl.DataFrame) -> pl.DataFrame:\n",
    "    for col in df.columns:\n",
    "        if col[-1] in (\"P\", \"A\"):\n",
    "            df = df.with_columns(pl.col(col).cast(pl.Float64))\n",
    "        elif col[-1] in (\"D\"):\n",
    "            df = df.with_columns(pl.col(col).cast(pl.Date))\n",
    "        elif col[-1] in (\"M\"):\n",
    "            df = df.with_columns(pl.col(col).cast(pl.String))\n",
    "        elif col in ['date_decision']:\n",
    "            df = df.with_columns(pl.col(col).cast(pl.Date))\n",
    "            \n",
    "    return df"
   ]
  },
  {
   "cell_type": "code",
   "execution_count": 6,
   "metadata": {},
   "outputs": [],
   "source": [
    "# drop the column which has 95% null\n",
    "\n",
    "def missing_value_pct(df : pl.DataFrame, base_columns : list, target_columns : list, threshold : float) -> pl.DataFrame:\n",
    "    df_base = df.select(pl.col(base_columns).n_unique())\n",
    "    \n",
    "    df_sele = df.select(target_columns)\n",
    "    df_missing = df_sele.select([pl.col(col).is_null().sum() for col in target_columns])\n",
    "    \n",
    "    result = pl.concat([df_base, df_missing], how='horizontal')\n",
    "    \n",
    "    uni_base = df.select(pl.col(base_columns)).n_unique()\n",
    "    \n",
    "    result = result.select([\n",
    "        pl.col(col)/uni_base for col in result.columns\n",
    "    ])\n",
    "    \n",
    "    result = result.transpose(include_header=True).rename({\"column\":\"column_name\", \"column_0\":\"missing_pct\"}) \\\n",
    "                    .sort(by='missing_pct', descending=True)\n",
    "    \n",
    "    sele_cols = result.filter(pl.col('missing_pct') < threshold).select(pl.col('column_name'))\n",
    "\n",
    "    df_result = df.select(pl.col(base_columns + [col for col in target_columns if col in sele_cols.select(pl.col('column_name')).to_series()]))\n",
    "    \n",
    "    return df_result  "
   ]
  },
  {
   "cell_type": "markdown",
   "metadata": {},
   "source": [
    "### Depth 0"
   ]
  },
  {
   "cell_type": "markdown",
   "metadata": {},
   "source": [
    "base "
   ]
  },
  {
   "cell_type": "code",
   "execution_count": 7,
   "metadata": {},
   "outputs": [
    {
     "data": {
      "text/html": [
       "<div><style>\n",
       ".dataframe > thead > tr,\n",
       ".dataframe > tbody > tr {\n",
       "  text-align: right;\n",
       "  white-space: pre-wrap;\n",
       "}\n",
       "</style>\n",
       "<small>shape: (5, 5)</small><table border=\"1\" class=\"dataframe\"><thead><tr><th>case_id</th><th>date_decision</th><th>MONTH</th><th>WEEK_NUM</th><th>target</th></tr><tr><td>i64</td><td>str</td><td>i64</td><td>i64</td><td>i64</td></tr></thead><tbody><tr><td>0</td><td>&quot;2019-01-03&quot;</td><td>201901</td><td>0</td><td>0</td></tr><tr><td>1</td><td>&quot;2019-01-03&quot;</td><td>201901</td><td>0</td><td>0</td></tr><tr><td>2</td><td>&quot;2019-01-04&quot;</td><td>201901</td><td>0</td><td>0</td></tr><tr><td>3</td><td>&quot;2019-01-03&quot;</td><td>201901</td><td>0</td><td>0</td></tr><tr><td>4</td><td>&quot;2019-01-04&quot;</td><td>201901</td><td>0</td><td>1</td></tr></tbody></table></div>"
      ],
      "text/plain": [
       "shape: (5, 5)\n",
       "┌─────────┬───────────────┬────────┬──────────┬────────┐\n",
       "│ case_id ┆ date_decision ┆ MONTH  ┆ WEEK_NUM ┆ target │\n",
       "│ ---     ┆ ---           ┆ ---    ┆ ---      ┆ ---    │\n",
       "│ i64     ┆ str           ┆ i64    ┆ i64      ┆ i64    │\n",
       "╞═════════╪═══════════════╪════════╪══════════╪════════╡\n",
       "│ 0       ┆ 2019-01-03    ┆ 201901 ┆ 0        ┆ 0      │\n",
       "│ 1       ┆ 2019-01-03    ┆ 201901 ┆ 0        ┆ 0      │\n",
       "│ 2       ┆ 2019-01-04    ┆ 201901 ┆ 0        ┆ 0      │\n",
       "│ 3       ┆ 2019-01-03    ┆ 201901 ┆ 0        ┆ 0      │\n",
       "│ 4       ┆ 2019-01-04    ┆ 201901 ┆ 0        ┆ 1      │\n",
       "└─────────┴───────────────┴────────┴──────────┴────────┘"
      ]
     },
     "execution_count": 7,
     "metadata": {},
     "output_type": "execute_result"
    }
   ],
   "source": [
    "train_base = pl.read_csv(train_path +'train_base.csv')\n",
    "train_base.head(5)"
   ]
  },
  {
   "cell_type": "code",
   "execution_count": 8,
   "metadata": {},
   "outputs": [
    {
     "data": {
      "text/plain": [
       "(1526659, 5)"
      ]
     },
     "execution_count": 8,
     "metadata": {},
     "output_type": "execute_result"
    }
   ],
   "source": [
    "train_base.shape"
   ]
  },
  {
   "cell_type": "code",
   "execution_count": 9,
   "metadata": {},
   "outputs": [],
   "source": [
    "train_statistic_0 = pl.read_csv(train_path + 'train_static_0_0.csv').pipe(set_dtypes)\n",
    "train_statistic_1 = pl.read_csv(train_path + 'train_static_0_1.csv').pipe(set_dtypes)\n",
    "train_statistic = pl.concat([train_statistic_0, train_statistic_1], how='vertical_relaxed')"
   ]
  },
  {
   "cell_type": "code",
   "execution_count": 10,
   "metadata": {},
   "outputs": [],
   "source": [
    "train_cb_0 = pl.read_csv(train_path + 'train_static_cb_0.csv')"
   ]
  },
  {
   "cell_type": "code",
   "execution_count": 11,
   "metadata": {},
   "outputs": [],
   "source": [
    "train_statistic_miss_fil = missing_value_pct(train_statistic, ['case_id'], [col for col in train_statistic.columns if col != 'case_id'], 0.90)\n",
    "train_cb_miss_fil = missing_value_pct(train_cb_0, ['case_id'], [col for col in train_cb_0.columns if col != \"case_id\"], 0.90)"
   ]
  },
  {
   "cell_type": "markdown",
   "metadata": {},
   "source": [
    "### Depth 1\n",
    "\n",
    "- aggregate by case_is, num_group1"
   ]
  },
  {
   "cell_type": "markdown",
   "metadata": {},
   "source": [
    "applprev_1"
   ]
  },
  {
   "cell_type": "code",
   "execution_count": 12,
   "metadata": {},
   "outputs": [],
   "source": [
    "train_applprev_1_0 = pl.read_csv(train_path + 'train_applprev_1_0.csv').pipe(set_dtypes)\n",
    "train_applprev_1_1 = pl.read_csv(train_path + 'train_applprev_1_1.csv').pipe(set_dtypes)\n",
    "train_applprev = pl.concat([train_applprev_1_0, train_applprev_1_1], how='vertical_relaxed')"
   ]
  },
  {
   "cell_type": "code",
   "execution_count": 13,
   "metadata": {},
   "outputs": [],
   "source": [
    "base_columns = ['case_id', 'num_group1']\n",
    "tar_columns = [col for col in train_applprev.columns if col not in base_columns]\n",
    "\n",
    "train_applprev_miss_fil = missing_value_pct(train_applprev, base_columns, tar_columns, 0.90)"
   ]
  },
  {
   "cell_type": "markdown",
   "metadata": {},
   "source": [
    "other"
   ]
  },
  {
   "cell_type": "code",
   "execution_count": 14,
   "metadata": {},
   "outputs": [],
   "source": [
    "train_other = pl.read_csv(train_path + 'train_other_1.csv').pipe(set_dtypes)"
   ]
  },
  {
   "cell_type": "code",
   "execution_count": 15,
   "metadata": {},
   "outputs": [],
   "source": [
    "base_columns = ['case_id', 'num_group1']\n",
    "tar_columns = [col for col in train_other.columns if col not in base_columns]\n",
    "train_other_miss_fil = missing_value_pct(train_other, base_columns, tar_columns, 0.90)"
   ]
  },
  {
   "cell_type": "markdown",
   "metadata": {},
   "source": [
    "tax_registry_a_1"
   ]
  },
  {
   "cell_type": "code",
   "execution_count": 17,
   "metadata": {},
   "outputs": [],
   "source": [
    "tax_registry_a_1 = pl.read_csv(train_path + 'train_tax_registry_a_1.csv').pipe(set_dtypes)"
   ]
  },
  {
   "cell_type": "code",
   "execution_count": 39,
   "metadata": {},
   "outputs": [],
   "source": [
    "train_credit_bureau_a_1_0 = pl.read_csv(train_path + 'train_credit_bureau_a_1_0.csv').pipe(set_dtypes)"
   ]
  },
  {
   "cell_type": "code",
   "execution_count": 40,
   "metadata": {},
   "outputs": [],
   "source": [
    "base_columns = ['case_id', 'num_group1']\n",
    "tar_columns = [col for col in train_credit_bureau_a_1_0.columns if col not in base_columns]\n",
    "train_credit_bureau_a_10_miss_fil = missing_value_pct(train_credit_bureau_a_1_0, base_columns, tar_columns, 0.90)"
   ]
  },
  {
   "cell_type": "code",
   "execution_count": 42,
   "metadata": {},
   "outputs": [
    {
     "data": {
      "text/plain": [
       "335275"
      ]
     },
     "execution_count": 42,
     "metadata": {},
     "output_type": "execute_result"
    }
   ],
   "source": [
    "train_credit_bureau_a_10_miss_fil[['case_id']].n_unique()"
   ]
  },
  {
   "cell_type": "markdown",
   "metadata": {},
   "source": [
    "### Depth 2\n",
    "\n",
    "- aggregate by case_is, num_group1"
   ]
  },
  {
   "cell_type": "markdown",
   "metadata": {},
   "source": [
    "applprev_2"
   ]
  },
  {
   "cell_type": "code",
   "execution_count": 43,
   "metadata": {},
   "outputs": [],
   "source": [
    "train_applprev_2 = pl.read_csv(train_path + 'train_applprev_2.csv').pipe(set_dtypes)"
   ]
  },
  {
   "cell_type": "code",
   "execution_count": 59,
   "metadata": {},
   "outputs": [],
   "source": [
    "base_columns = ['case_id', 'num_group1', 'num_group2']\n",
    "tar_columns = [col for col in train_applprev_2.columns if col not in base_columns]\n",
    "train_applprev_2_miss_fil = missing_value_pct(train_applprev_2, base_columns, tar_columns, 0.90)"
   ]
  },
  {
   "cell_type": "code",
   "execution_count": 63,
   "metadata": {},
   "outputs": [
    {
     "name": "stderr",
     "output_type": "stream",
     "text": [
      "C:\\Users\\sean.chang\\AppData\\Local\\Temp\\ipykernel_20240\\398549162.py:3: DeprecationWarning: `pl.count()` is deprecated. Please use `pl.len()` instead.\n",
      "  train_applprev_2_miss_fil.group_by(['case_id','conts_type_509L']).agg(pl.count().alias('type_count'))\n"
     ]
    },
    {
     "data": {
      "text/html": [
       "<div><style>\n",
       ".dataframe > thead > tr,\n",
       ".dataframe > tbody > tr {\n",
       "  text-align: right;\n",
       "  white-space: pre-wrap;\n",
       "}\n",
       "</style>\n",
       "<small>shape: (3_848_778, 3)</small><table border=\"1\" class=\"dataframe\"><thead><tr><th>case_id</th><th>conts_type_509L</th><th>type_count</th></tr><tr><td>i64</td><td>str</td><td>u32</td></tr></thead><tbody><tr><td>3</td><td>&quot;PRIMARY_EMAIL&quot;</td><td>1</td></tr><tr><td>4</td><td>&quot;PRIMARY_MOBILE…</td><td>1</td></tr><tr><td>23</td><td>&quot;PRIMARY_MOBILE…</td><td>1</td></tr><tr><td>24</td><td>&quot;HOME_PHONE&quot;</td><td>2</td></tr><tr><td>90</td><td>&quot;HOME_PHONE&quot;</td><td>2</td></tr><tr><td>&hellip;</td><td>&hellip;</td><td>&hellip;</td></tr><tr><td>2703435</td><td>&quot;PHONE&quot;</td><td>2</td></tr><tr><td>2703437</td><td>&quot;HOME_PHONE&quot;</td><td>6</td></tr><tr><td>2703439</td><td>&quot;PRIMARY_EMAIL&quot;</td><td>2</td></tr><tr><td>2703443</td><td>&quot;HOME_PHONE&quot;</td><td>4</td></tr><tr><td>2703448</td><td>&quot;PRIMARY_MOBILE…</td><td>6</td></tr></tbody></table></div>"
      ],
      "text/plain": [
       "shape: (3_848_778, 3)\n",
       "┌─────────┬─────────────────┬────────────┐\n",
       "│ case_id ┆ conts_type_509L ┆ type_count │\n",
       "│ ---     ┆ ---             ┆ ---        │\n",
       "│ i64     ┆ str             ┆ u32        │\n",
       "╞═════════╪═════════════════╪════════════╡\n",
       "│ 3       ┆ PRIMARY_EMAIL   ┆ 1          │\n",
       "│ 4       ┆ PRIMARY_MOBILE  ┆ 1          │\n",
       "│ 23      ┆ PRIMARY_MOBILE  ┆ 1          │\n",
       "│ 24      ┆ HOME_PHONE      ┆ 2          │\n",
       "│ 90      ┆ HOME_PHONE      ┆ 2          │\n",
       "│ …       ┆ …               ┆ …          │\n",
       "│ 2703435 ┆ PHONE           ┆ 2          │\n",
       "│ 2703437 ┆ HOME_PHONE      ┆ 6          │\n",
       "│ 2703439 ┆ PRIMARY_EMAIL   ┆ 2          │\n",
       "│ 2703443 ┆ HOME_PHONE      ┆ 4          │\n",
       "│ 2703448 ┆ PRIMARY_MOBILE  ┆ 6          │\n",
       "└─────────┴─────────────────┴────────────┘"
      ]
     },
     "execution_count": 63,
     "metadata": {},
     "output_type": "execute_result"
    }
   ],
   "source": [
    "# conts_type_50L is Person contact type in previous application.\n",
    "# Aggregate by the mode times of the type\n",
    "train_applprev_2_miss_fil.group_by(['case_id','conts_type_509L']).agg(pl.count().alias('type_count'))"
   ]
  }
 ],
 "metadata": {
  "kernelspec": {
   "display_name": "base",
   "language": "python",
   "name": "python3"
  },
  "language_info": {
   "codemirror_mode": {
    "name": "ipython",
    "version": 3
   },
   "file_extension": ".py",
   "mimetype": "text/x-python",
   "name": "python",
   "nbconvert_exporter": "python",
   "pygments_lexer": "ipython3",
   "version": "3.11.5"
  }
 },
 "nbformat": 4,
 "nbformat_minor": 2
}
