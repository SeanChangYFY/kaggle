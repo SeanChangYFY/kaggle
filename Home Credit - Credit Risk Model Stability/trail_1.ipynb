{
 "cells": [
  {
   "cell_type": "markdown",
   "metadata": {},
   "source": [
    "- Read data\n",
    "- Filter the data by too much missing values\n",
    "- Aggregation pipeline\n",
    "- Merge pipeline\n",
    "- Train base line model"
   ]
  },
  {
   "cell_type": "code",
   "execution_count": 1,
   "metadata": {},
   "outputs": [],
   "source": [
    "import pandas as pd\n",
    "import polars as pl\n",
    "import glob"
   ]
  },
  {
   "cell_type": "markdown",
   "metadata": {},
   "source": [
    "Config"
   ]
  },
  {
   "cell_type": "code",
   "execution_count": 2,
   "metadata": {},
   "outputs": [],
   "source": [
    "train_path = './home-credit-credit-risk-model-stability/csv_files/train/'\n",
    "test_path = './home-credit-credit-risk-model-stability/csv_files/test/'\n",
    "result_path = './home-credit-credit-risk-model-stability/csv_files/results/'\n",
    "\n",
    "missing_filter_threshold = 0.9"
   ]
  },
  {
   "cell_type": "markdown",
   "metadata": {},
   "source": [
    "### Help functions"
   ]
  },
  {
   "cell_type": "code",
   "execution_count": 3,
   "metadata": {},
   "outputs": [],
   "source": [
    "def set_dtypes(df : pl.DataFrame) -> pl.DataFrame:\n",
    "    for col in df.columns:\n",
    "        if col[-1] in (\"P\", \"A\"):\n",
    "            df = df.with_columns(pl.col(col).cast(pl.Float64))\n",
    "        elif col[-1] in (\"D\"):\n",
    "            df = df.with_columns(pl.col(col).cast(pl.Date))\n",
    "        elif col[-1] in (\"M\"):\n",
    "            df = df.with_columns(pl.col(col).cast(pl.String))\n",
    "        elif col in ['date_decision']:\n",
    "            df = df.with_columns(pl.col(col).cast(pl.Date))\n",
    "            \n",
    "    return df"
   ]
  },
  {
   "cell_type": "code",
   "execution_count": 4,
   "metadata": {},
   "outputs": [],
   "source": [
    "# drop the column which has 95% null\n",
    "\n",
    "def col_filter_by_high_missing_pct(df : pl.DataFrame, base_columns : list, target_columns : list, threshold : float) -> pl.DataFrame:\n",
    "    df_base = df.select(pl.col(base_columns).n_unique())\n",
    "    \n",
    "    df_sele = df.select(target_columns)\n",
    "    df_missing = df_sele.select([pl.col(col).is_null().sum() for col in target_columns])\n",
    "    \n",
    "    result = pl.concat([df_base, df_missing], how='horizontal')\n",
    "    \n",
    "    uni_base = df.select(pl.col(base_columns)).n_unique()\n",
    "    \n",
    "    result = result.select([\n",
    "        pl.col(col)/uni_base for col in result.columns\n",
    "    ])\n",
    "    \n",
    "    result = result.transpose(include_header=True).rename({\"column\":\"column_name\", \"column_0\":\"missing_pct\"}) \\\n",
    "                    .sort(by='missing_pct', descending=True)\n",
    "    \n",
    "    sele_cols = result.filter(pl.col('missing_pct') < threshold).select(pl.col('column_name'))\n",
    "\n",
    "    df_result = df.select(pl.col(base_columns + [col for col in target_columns if col in sele_cols.select(pl.col('column_name')).to_series()]))\n",
    "    \n",
    "    return df_result  "
   ]
  },
  {
   "cell_type": "code",
   "execution_count": 5,
   "metadata": {},
   "outputs": [],
   "source": [
    "def extract_tar_columns(df, base_columns):\n",
    "    return  [col for col in df.columns if col not in base_columns]"
   ]
  },
  {
   "cell_type": "code",
   "execution_count": 6,
   "metadata": {},
   "outputs": [],
   "source": [
    "def data_cleaning(target_file, base_columns, missing_filter_threshold, train_path, result_path):\n",
    "    file_pattern = f'{train_path}{target_file}*.csv'\n",
    "    files = glob.glob(file_pattern)\n",
    "    df = pl.concat([\n",
    "        pl.read_csv(file).pipe(set_dtypes) for file in files\n",
    "    ], how='vertical_relaxed')\n",
    "\n",
    "    tar_columns = extract_tar_columns(df, base_columns)\n",
    "    df_miss_fil = col_filter_by_high_missing_pct(df, base_columns, tar_columns, missing_filter_threshold)\n",
    "    df_miss_fil.write_csv(f'{result_path}{target_file}_miss_fil.csv')"
   ]
  },
  {
   "cell_type": "markdown",
   "metadata": {},
   "source": [
    "### Depth 0"
   ]
  },
  {
   "cell_type": "code",
   "execution_count": 8,
   "metadata": {},
   "outputs": [],
   "source": [
    "base_columns_depth0 = ['case_id']"
   ]
  },
  {
   "cell_type": "markdown",
   "metadata": {},
   "source": [
    "base "
   ]
  },
  {
   "cell_type": "code",
   "execution_count": 9,
   "metadata": {},
   "outputs": [
    {
     "data": {
      "text/html": [
       "<div><style>\n",
       ".dataframe > thead > tr,\n",
       ".dataframe > tbody > tr {\n",
       "  text-align: right;\n",
       "  white-space: pre-wrap;\n",
       "}\n",
       "</style>\n",
       "<small>shape: (5, 5)</small><table border=\"1\" class=\"dataframe\"><thead><tr><th>case_id</th><th>date_decision</th><th>MONTH</th><th>WEEK_NUM</th><th>target</th></tr><tr><td>i64</td><td>str</td><td>i64</td><td>i64</td><td>i64</td></tr></thead><tbody><tr><td>0</td><td>&quot;2019-01-03&quot;</td><td>201901</td><td>0</td><td>0</td></tr><tr><td>1</td><td>&quot;2019-01-03&quot;</td><td>201901</td><td>0</td><td>0</td></tr><tr><td>2</td><td>&quot;2019-01-04&quot;</td><td>201901</td><td>0</td><td>0</td></tr><tr><td>3</td><td>&quot;2019-01-03&quot;</td><td>201901</td><td>0</td><td>0</td></tr><tr><td>4</td><td>&quot;2019-01-04&quot;</td><td>201901</td><td>0</td><td>1</td></tr></tbody></table></div>"
      ],
      "text/plain": [
       "shape: (5, 5)\n",
       "┌─────────┬───────────────┬────────┬──────────┬────────┐\n",
       "│ case_id ┆ date_decision ┆ MONTH  ┆ WEEK_NUM ┆ target │\n",
       "│ ---     ┆ ---           ┆ ---    ┆ ---      ┆ ---    │\n",
       "│ i64     ┆ str           ┆ i64    ┆ i64      ┆ i64    │\n",
       "╞═════════╪═══════════════╪════════╪══════════╪════════╡\n",
       "│ 0       ┆ 2019-01-03    ┆ 201901 ┆ 0        ┆ 0      │\n",
       "│ 1       ┆ 2019-01-03    ┆ 201901 ┆ 0        ┆ 0      │\n",
       "│ 2       ┆ 2019-01-04    ┆ 201901 ┆ 0        ┆ 0      │\n",
       "│ 3       ┆ 2019-01-03    ┆ 201901 ┆ 0        ┆ 0      │\n",
       "│ 4       ┆ 2019-01-04    ┆ 201901 ┆ 0        ┆ 1      │\n",
       "└─────────┴───────────────┴────────┴──────────┴────────┘"
      ]
     },
     "execution_count": 9,
     "metadata": {},
     "output_type": "execute_result"
    }
   ],
   "source": [
    "train_base = pl.read_csv(train_path +'train_base.csv')\n",
    "train_base.head(5)"
   ]
  },
  {
   "cell_type": "code",
   "execution_count": 10,
   "metadata": {},
   "outputs": [
    {
     "data": {
      "text/plain": [
       "(1526659, 5)"
      ]
     },
     "execution_count": 10,
     "metadata": {},
     "output_type": "execute_result"
    }
   ],
   "source": [
    "train_base.shape"
   ]
  },
  {
   "cell_type": "code",
   "execution_count": 8,
   "metadata": {},
   "outputs": [],
   "source": [
    "data_cleaning('train_static_0', base_columns_depth0, missing_filter_threshold, train_path, result_path)"
   ]
  },
  {
   "cell_type": "code",
   "execution_count": 9,
   "metadata": {},
   "outputs": [],
   "source": [
    "data_cleaning('train_static_cb_0', base_columns_depth0, missing_filter_threshold, train_path, result_path)"
   ]
  },
  {
   "cell_type": "markdown",
   "metadata": {},
   "source": [
    "### Depth 1\n",
    "\n",
    "- aggregate by case_is, num_group1"
   ]
  },
  {
   "cell_type": "code",
   "execution_count": 42,
   "metadata": {},
   "outputs": [],
   "source": [
    "base_columns_depth1 = ['case_id', 'num_group1']"
   ]
  },
  {
   "cell_type": "markdown",
   "metadata": {},
   "source": [
    "applprev_1"
   ]
  },
  {
   "cell_type": "code",
   "execution_count": 13,
   "metadata": {},
   "outputs": [],
   "source": [
    "data_cleaning('train_applprev_1', base_columns_depth1, missing_filter_threshold, train_path, result_path)"
   ]
  },
  {
   "cell_type": "markdown",
   "metadata": {},
   "source": [
    "other"
   ]
  },
  {
   "cell_type": "code",
   "execution_count": 14,
   "metadata": {},
   "outputs": [],
   "source": [
    "data_cleaning('train_other_1', base_columns_depth1, missing_filter_threshold, train_path, result_path)"
   ]
  },
  {
   "cell_type": "markdown",
   "metadata": {},
   "source": [
    "credit_bureau_a_1"
   ]
  },
  {
   "cell_type": "code",
   "execution_count": 15,
   "metadata": {},
   "outputs": [],
   "source": [
    "data_cleaning('train_credit_bureau_a_1', base_columns_depth1, missing_filter_threshold, train_path, result_path)"
   ]
  },
  {
   "cell_type": "markdown",
   "metadata": {},
   "source": [
    "credit_bureau_a_2"
   ]
  },
  {
   "cell_type": "code",
   "execution_count": null,
   "metadata": {},
   "outputs": [],
   "source": [
    "# too big\n",
    "# data_cleaning('train_credit_bureau_a_2', base_columns_depth1, missing_filter_threshold, train_path, result_path)"
   ]
  },
  {
   "cell_type": "markdown",
   "metadata": {},
   "source": [
    "credit_bureau_b_1"
   ]
  },
  {
   "cell_type": "code",
   "execution_count": 16,
   "metadata": {},
   "outputs": [],
   "source": [
    "data_cleaning('train_credit_bureau_b_1', base_columns_depth1, missing_filter_threshold, train_path, result_path)"
   ]
  },
  {
   "cell_type": "markdown",
   "metadata": {},
   "source": [
    "tax_registry_a_1"
   ]
  },
  {
   "cell_type": "code",
   "execution_count": 17,
   "metadata": {},
   "outputs": [],
   "source": [
    "data_cleaning('train_tax_registry_a_1', base_columns_depth1, missing_filter_threshold, train_path, result_path)"
   ]
  },
  {
   "cell_type": "markdown",
   "metadata": {},
   "source": [
    "### Depth 2\n",
    "\n",
    "- aggregate by case_is, num_group1"
   ]
  },
  {
   "cell_type": "code",
   "execution_count": 18,
   "metadata": {},
   "outputs": [],
   "source": [
    "base_columns_depth2 = ['case_id', 'num_group1', 'num_group2']"
   ]
  },
  {
   "cell_type": "markdown",
   "metadata": {},
   "source": [
    "applprev_2"
   ]
  },
  {
   "cell_type": "code",
   "execution_count": 20,
   "metadata": {},
   "outputs": [],
   "source": [
    "data_cleaning('train_applprev_2', base_columns_depth2, missing_filter_threshold, train_path, result_path)"
   ]
  },
  {
   "cell_type": "markdown",
   "metadata": {},
   "source": [
    "person_2"
   ]
  },
  {
   "cell_type": "code",
   "execution_count": 21,
   "metadata": {},
   "outputs": [],
   "source": [
    "data_cleaning('train_person_2', base_columns_depth2, missing_filter_threshold, train_path, result_path)"
   ]
  },
  {
   "cell_type": "markdown",
   "metadata": {},
   "source": [
    "# Feature Engineering"
   ]
  },
  {
   "cell_type": "markdown",
   "metadata": {},
   "source": [
    "### Depth 1"
   ]
  },
  {
   "cell_type": "markdown",
   "metadata": {},
   "source": [
    "applprev_1\n",
    "\n",
    "- rm: \n",
    "    - approvaldate_319D, credacc_credlmt_575A, dtlastpmt_581D, dtlastpmtallstes_3545839D\n",
    "    - case_id and num_group1 where creationdate_885D == null\n",
    "- fill_0: childnum_21L\n",
    "- max, min, mean, std: \n",
    "    - actualdpd_943P, annuity_853A, byoccupationinc_3656910L, childnum_21L, credamount_590A, currdebt_94A, credacc_credlmt_575A, downpmt_134A\n",
    "- mode: credtype_587L, district_544M\n",
    "- last_value: currdebt_94A, childnum_21L, education_1138M\n",
    "\n",
    "- check_later: employedfrom_700D, familystate_726L"
   ]
  },
  {
   "cell_type": "code",
   "execution_count": 28,
   "metadata": {},
   "outputs": [],
   "source": [
    "train_applprev_1 = pl.read_csv(result_path + 'train_applprev_1_miss_fil.csv')"
   ]
  },
  {
   "cell_type": "code",
   "execution_count": 73,
   "metadata": {},
   "outputs": [],
   "source": [
    "# train_applprev_1.select(pl.col('credacc_credlmt_575A')).describe()"
   ]
  },
  {
   "cell_type": "code",
   "execution_count": 78,
   "metadata": {},
   "outputs": [
    {
     "data": {
      "text/html": [
       "<div><style>\n",
       ".dataframe > thead > tr,\n",
       ".dataframe > tbody > tr {\n",
       "  text-align: right;\n",
       "  white-space: pre-wrap;\n",
       "}\n",
       "</style>\n",
       "<small>shape: (13, 38)</small><table border=\"1\" class=\"dataframe\"><thead><tr><th>case_id</th><th>num_group1</th><th>actualdpd_943P</th><th>annuity_853A</th><th>approvaldate_319D</th><th>byoccupationinc_3656910L</th><th>cancelreason_3545846M</th><th>childnum_21L</th><th>creationdate_885D</th><th>credacc_credlmt_575A</th><th>credamount_590A</th><th>credtype_587L</th><th>currdebt_94A</th><th>dateactivated_425D</th><th>district_544M</th><th>downpmt_134A</th><th>dtlastpmt_581D</th><th>dtlastpmtallstes_3545839D</th><th>education_1138M</th><th>employedfrom_700D</th><th>familystate_726L</th><th>firstnonzeroinstldate_307D</th><th>inittransactioncode_279L</th><th>isbidproduct_390L</th><th>mainoccupationinc_437A</th><th>maxdpdtolerance_577P</th><th>outstandingdebt_522A</th><th>pmtnum_8L</th><th>postype_4733339M</th><th>profession_152M</th><th>rejectreason_755M</th><th>rejectreasonclient_4145042M</th><th>status_219L</th><th>tenor_203L</th><th>date_decision</th><th>MONTH</th><th>WEEK_NUM</th><th>target</th></tr><tr><td>i64</td><td>i64</td><td>f64</td><td>f64</td><td>str</td><td>f64</td><td>str</td><td>f64</td><td>str</td><td>f64</td><td>f64</td><td>str</td><td>f64</td><td>str</td><td>str</td><td>f64</td><td>str</td><td>str</td><td>str</td><td>str</td><td>str</td><td>str</td><td>str</td><td>bool</td><td>f64</td><td>f64</td><td>f64</td><td>f64</td><td>str</td><td>str</td><td>str</td><td>str</td><td>str</td><td>f64</td><td>str</td><td>i64</td><td>i64</td><td>i64</td></tr></thead><tbody><tr><td>2703450</td><td>0</td><td>0.0</td><td>2102.2</td><td>&quot;2019-10-09&quot;</td><td>null</td><td>&quot;a55475b1&quot;</td><td>null</td><td>&quot;2019-10-09&quot;</td><td>0.0</td><td>20020.0</td><td>&quot;COL&quot;</td><td>0.0</td><td>&quot;2019-10-16&quot;</td><td>&quot;P123_39_170&quot;</td><td>0.0</td><td>&quot;2020-09-08&quot;</td><td>&quot;2020-09-08&quot;</td><td>&quot;a55475b1&quot;</td><td>null</td><td>null</td><td>&quot;2019-11-08&quot;</td><td>&quot;POS&quot;</td><td>false</td><td>36000.0</td><td>0.0</td><td>0.0</td><td>12.0</td><td>&quot;P177_117_192&quot;</td><td>&quot;a55475b1&quot;</td><td>&quot;a55475b1&quot;</td><td>&quot;a55475b1&quot;</td><td>&quot;K&quot;</td><td>12.0</td><td>&quot;2020-10-05&quot;</td><td>202010</td><td>91</td><td>0</td></tr><tr><td>2703450</td><td>1</td><td>0.0</td><td>0.0</td><td>&quot;2019-01-07&quot;</td><td>null</td><td>&quot;a55475b1&quot;</td><td>null</td><td>&quot;2019-01-07&quot;</td><td>0.0</td><td>0.0</td><td>&quot;REL&quot;</td><td>0.0</td><td>&quot;2019-01-22&quot;</td><td>&quot;P123_39_170&quot;</td><td>0.0</td><td>null</td><td>&quot;2019-01-07&quot;</td><td>&quot;a55475b1&quot;</td><td>null</td><td>null</td><td>null</td><td>&quot;NDF&quot;</td><td>false</td><td>null</td><td>0.0</td><td>0.0</td><td>null</td><td>&quot;P46_145_78&quot;</td><td>&quot;a55475b1&quot;</td><td>&quot;a55475b1&quot;</td><td>&quot;a55475b1&quot;</td><td>&quot;A&quot;</td><td>null</td><td>&quot;2020-10-05&quot;</td><td>202010</td><td>91</td><td>0</td></tr><tr><td>2703450</td><td>2</td><td>0.0</td><td>3773.6</td><td>&quot;2019-01-07&quot;</td><td>null</td><td>&quot;a55475b1&quot;</td><td>null</td><td>&quot;2019-01-07&quot;</td><td>0.0</td><td>60602.0</td><td>&quot;CAL&quot;</td><td>0.0</td><td>&quot;2019-01-22&quot;</td><td>&quot;P123_39_170&quot;</td><td>0.0</td><td>&quot;2020-10-08&quot;</td><td>&quot;2020-10-08&quot;</td><td>&quot;a55475b1&quot;</td><td>null</td><td>null</td><td>&quot;2019-02-07&quot;</td><td>&quot;CASH&quot;</td><td>false</td><td>24000.0</td><td>0.0</td><td>0.0</td><td>24.0</td><td>&quot;P46_145_78&quot;</td><td>&quot;a55475b1&quot;</td><td>&quot;P94_109_143&quot;</td><td>&quot;a55475b1&quot;</td><td>&quot;K&quot;</td><td>24.0</td><td>&quot;2020-10-05&quot;</td><td>202010</td><td>91</td><td>0</td></tr><tr><td>2703450</td><td>3</td><td>0.0</td><td>2474.6</td><td>&quot;2018-04-16&quot;</td><td>null</td><td>&quot;a55475b1&quot;</td><td>null</td><td>&quot;2018-04-16&quot;</td><td>0.0</td><td>20000.0</td><td>&quot;CAL&quot;</td><td>0.0</td><td>&quot;2018-04-20&quot;</td><td>&quot;P123_39_170&quot;</td><td>0.0</td><td>&quot;2019-01-07&quot;</td><td>&quot;2019-01-07&quot;</td><td>&quot;a55475b1&quot;</td><td>null</td><td>&quot;MARRIED&quot;</td><td>&quot;2018-05-16&quot;</td><td>&quot;CASH&quot;</td><td>false</td><td>26000.0</td><td>0.0</td><td>0.0</td><td>12.0</td><td>&quot;P46_145_78&quot;</td><td>&quot;a55475b1&quot;</td><td>&quot;P94_109_143&quot;</td><td>&quot;a55475b1&quot;</td><td>&quot;K&quot;</td><td>12.0</td><td>&quot;2020-10-05&quot;</td><td>202010</td><td>91</td><td>0</td></tr><tr><td>2703450</td><td>4</td><td>0.0</td><td>30875.0</td><td>null</td><td>null</td><td>&quot;P94_109_143&quot;</td><td>null</td><td>&quot;2017-11-30&quot;</td><td>0.0</td><td>150000.0</td><td>&quot;CAL&quot;</td><td>null</td><td>null</td><td>&quot;P123_39_170&quot;</td><td>0.0</td><td>null</td><td>null</td><td>&quot;a55475b1&quot;</td><td>null</td><td>null</td><td>&quot;2017-12-30&quot;</td><td>&quot;CASH&quot;</td><td>true</td><td>20000.0</td><td>null</td><td>null</td><td>6.0</td><td>&quot;P46_145_78&quot;</td><td>&quot;a55475b1&quot;</td><td>&quot;P94_109_143&quot;</td><td>&quot;P94_109_143&quot;</td><td>&quot;D&quot;</td><td>6.0</td><td>&quot;2020-10-05&quot;</td><td>202010</td><td>91</td><td>0</td></tr><tr><td>&hellip;</td><td>&hellip;</td><td>&hellip;</td><td>&hellip;</td><td>&hellip;</td><td>&hellip;</td><td>&hellip;</td><td>&hellip;</td><td>&hellip;</td><td>&hellip;</td><td>&hellip;</td><td>&hellip;</td><td>&hellip;</td><td>&hellip;</td><td>&hellip;</td><td>&hellip;</td><td>&hellip;</td><td>&hellip;</td><td>&hellip;</td><td>&hellip;</td><td>&hellip;</td><td>&hellip;</td><td>&hellip;</td><td>&hellip;</td><td>&hellip;</td><td>&hellip;</td><td>&hellip;</td><td>&hellip;</td><td>&hellip;</td><td>&hellip;</td><td>&hellip;</td><td>&hellip;</td><td>&hellip;</td><td>&hellip;</td><td>&hellip;</td><td>&hellip;</td><td>&hellip;</td><td>&hellip;</td></tr><tr><td>2703450</td><td>8</td><td>0.0</td><td>3258.4001</td><td>&quot;2016-06-12&quot;</td><td>null</td><td>&quot;a55475b1&quot;</td><td>2.0</td><td>&quot;2016-06-12&quot;</td><td>0.0</td><td>24000.0</td><td>&quot;CAL&quot;</td><td>0.0</td><td>&quot;2016-06-15&quot;</td><td>&quot;P123_39_170&quot;</td><td>0.0</td><td>&quot;2017-05-08&quot;</td><td>&quot;2017-05-08&quot;</td><td>&quot;P97_36_170&quot;</td><td>&quot;1998-08-15&quot;</td><td>&quot;MARRIED&quot;</td><td>&quot;2016-07-15&quot;</td><td>&quot;CASH&quot;</td><td>true</td><td>24000.0</td><td>6.0</td><td>0.0</td><td>12.0</td><td>&quot;P46_145_78&quot;</td><td>&quot;a55475b1&quot;</td><td>&quot;a55475b1&quot;</td><td>&quot;a55475b1&quot;</td><td>&quot;K&quot;</td><td>12.0</td><td>&quot;2020-10-05&quot;</td><td>202010</td><td>91</td><td>0</td></tr><tr><td>2703450</td><td>9</td><td>0.0</td><td>null</td><td>null</td><td>null</td><td>&quot;P94_109_143&quot;</td><td>null</td><td>&quot;2016-02-02&quot;</td><td>null</td><td>null</td><td>null</td><td>null</td><td>null</td><td>&quot;P123_39_170&quot;</td><td>null</td><td>null</td><td>null</td><td>&quot;a55475b1&quot;</td><td>null</td><td>null</td><td>null</td><td>null</td><td>false</td><td>20000.0</td><td>null</td><td>null</td><td>null</td><td>&quot;P46_145_78&quot;</td><td>&quot;a55475b1&quot;</td><td>&quot;P99_56_166&quot;</td><td>&quot;P94_109_143&quot;</td><td>&quot;D&quot;</td><td>null</td><td>&quot;2020-10-05&quot;</td><td>202010</td><td>91</td><td>0</td></tr><tr><td>2703450</td><td>10</td><td>0.0</td><td>2075.4001</td><td>&quot;2016-02-02&quot;</td><td>0.0</td><td>&quot;a55475b1&quot;</td><td>0.0</td><td>&quot;2016-01-31&quot;</td><td>0.0</td><td>10000.0</td><td>&quot;CAL&quot;</td><td>0.0</td><td>&quot;2016-02-08&quot;</td><td>&quot;P123_39_170&quot;</td><td>0.0</td><td>&quot;2016-06-15&quot;</td><td>&quot;2016-06-15&quot;</td><td>&quot;P97_36_170&quot;</td><td>&quot;1998-08-15&quot;</td><td>&quot;MARRIED&quot;</td><td>&quot;2016-03-05&quot;</td><td>&quot;CASH&quot;</td><td>false</td><td>24000.0</td><td>0.0</td><td>0.0</td><td>6.0</td><td>&quot;P46_145_78&quot;</td><td>&quot;P116_130_157&quot;</td><td>&quot;a55475b1&quot;</td><td>&quot;a55475b1&quot;</td><td>&quot;K&quot;</td><td>6.0</td><td>&quot;2020-10-05&quot;</td><td>202010</td><td>91</td><td>0</td></tr><tr><td>2703450</td><td>11</td><td>0.0</td><td>1225.4</td><td>&quot;2014-10-02&quot;</td><td>1.0</td><td>&quot;a55475b1&quot;</td><td>0.0</td><td>&quot;2014-10-02&quot;</td><td>0.0</td><td>3276.0</td><td>&quot;COL&quot;</td><td>0.0</td><td>&quot;2014-10-07&quot;</td><td>&quot;P123_39_170&quot;</td><td>0.0</td><td>null</td><td>null</td><td>&quot;P97_36_170&quot;</td><td>&quot;1999-09-15&quot;</td><td>&quot;MARRIED&quot;</td><td>&quot;2014-11-01&quot;</td><td>&quot;POS&quot;</td><td>false</td><td>7000.0</td><td>0.0</td><td>0.0</td><td>3.0</td><td>&quot;P149_40_170&quot;</td><td>&quot;a55475b1&quot;</td><td>&quot;a55475b1&quot;</td><td>&quot;a55475b1&quot;</td><td>&quot;K&quot;</td><td>3.0</td><td>&quot;2020-10-05&quot;</td><td>202010</td><td>91</td><td>0</td></tr><tr><td>2703450</td><td>12</td><td>0.0</td><td>1267.8</td><td>&quot;2007-06-12&quot;</td><td>null</td><td>&quot;a55475b1&quot;</td><td>0.0</td><td>&quot;2007-06-12&quot;</td><td>0.0</td><td>6380.0</td><td>&quot;COL&quot;</td><td>0.0</td><td>&quot;2007-06-19&quot;</td><td>&quot;P123_39_170&quot;</td><td>0.0</td><td>null</td><td>null</td><td>&quot;P97_36_170&quot;</td><td>&quot;1998-08-15&quot;</td><td>&quot;MARRIED&quot;</td><td>&quot;2007-07-13&quot;</td><td>&quot;POS&quot;</td><td>false</td><td>2400.0</td><td>0.0</td><td>0.0</td><td>6.0</td><td>&quot;P149_40_170&quot;</td><td>&quot;a55475b1&quot;</td><td>&quot;a55475b1&quot;</td><td>&quot;a55475b1&quot;</td><td>&quot;K&quot;</td><td>6.0</td><td>&quot;2020-10-05&quot;</td><td>202010</td><td>91</td><td>0</td></tr></tbody></table></div>"
      ],
      "text/plain": [
       "shape: (13, 38)\n",
       "┌─────────┬────────────┬──────────────┬─────────────┬───┬─────────────┬────────┬──────────┬────────┐\n",
       "│ case_id ┆ num_group1 ┆ actualdpd_94 ┆ annuity_853 ┆ … ┆ date_decisi ┆ MONTH  ┆ WEEK_NUM ┆ target │\n",
       "│ ---     ┆ ---        ┆ 3P           ┆ A           ┆   ┆ on          ┆ ---    ┆ ---      ┆ ---    │\n",
       "│ i64     ┆ i64        ┆ ---          ┆ ---         ┆   ┆ ---         ┆ i64    ┆ i64      ┆ i64    │\n",
       "│         ┆            ┆ f64          ┆ f64         ┆   ┆ str         ┆        ┆          ┆        │\n",
       "╞═════════╪════════════╪══════════════╪═════════════╪═══╪═════════════╪════════╪══════════╪════════╡\n",
       "│ 2703450 ┆ 0          ┆ 0.0          ┆ 2102.2      ┆ … ┆ 2020-10-05  ┆ 202010 ┆ 91       ┆ 0      │\n",
       "│ 2703450 ┆ 1          ┆ 0.0          ┆ 0.0         ┆ … ┆ 2020-10-05  ┆ 202010 ┆ 91       ┆ 0      │\n",
       "│ 2703450 ┆ 2          ┆ 0.0          ┆ 3773.6      ┆ … ┆ 2020-10-05  ┆ 202010 ┆ 91       ┆ 0      │\n",
       "│ 2703450 ┆ 3          ┆ 0.0          ┆ 2474.6      ┆ … ┆ 2020-10-05  ┆ 202010 ┆ 91       ┆ 0      │\n",
       "│ 2703450 ┆ 4          ┆ 0.0          ┆ 30875.0     ┆ … ┆ 2020-10-05  ┆ 202010 ┆ 91       ┆ 0      │\n",
       "│ …       ┆ …          ┆ …            ┆ …           ┆ … ┆ …           ┆ …      ┆ …        ┆ …      │\n",
       "│ 2703450 ┆ 8          ┆ 0.0          ┆ 3258.4001   ┆ … ┆ 2020-10-05  ┆ 202010 ┆ 91       ┆ 0      │\n",
       "│ 2703450 ┆ 9          ┆ 0.0          ┆ null        ┆ … ┆ 2020-10-05  ┆ 202010 ┆ 91       ┆ 0      │\n",
       "│ 2703450 ┆ 10         ┆ 0.0          ┆ 2075.4001   ┆ … ┆ 2020-10-05  ┆ 202010 ┆ 91       ┆ 0      │\n",
       "│ 2703450 ┆ 11         ┆ 0.0          ┆ 1225.4      ┆ … ┆ 2020-10-05  ┆ 202010 ┆ 91       ┆ 0      │\n",
       "│ 2703450 ┆ 12         ┆ 0.0          ┆ 1267.8      ┆ … ┆ 2020-10-05  ┆ 202010 ┆ 91       ┆ 0      │\n",
       "└─────────┴────────────┴──────────────┴─────────────┴───┴─────────────┴────────┴──────────┴────────┘"
      ]
     },
     "execution_count": 78,
     "metadata": {},
     "output_type": "execute_result"
    }
   ],
   "source": [
    "train_applprev_1.filter(pl.col('case_id') == 2703450).join(train_base, on = ['case_id'], how='inner')"
   ]
  },
  {
   "cell_type": "code",
   "execution_count": 82,
   "metadata": {},
   "outputs": [
    {
     "data": {
      "text/html": [
       "<div><style>\n",
       ".dataframe > thead > tr,\n",
       ".dataframe > tbody > tr {\n",
       "  text-align: right;\n",
       "  white-space: pre-wrap;\n",
       "}\n",
       "</style>\n",
       "<small>shape: (1_385, 34)</small><table border=\"1\" class=\"dataframe\"><thead><tr><th>case_id</th><th>num_group1</th><th>actualdpd_943P</th><th>annuity_853A</th><th>approvaldate_319D</th><th>byoccupationinc_3656910L</th><th>cancelreason_3545846M</th><th>childnum_21L</th><th>creationdate_885D</th><th>credacc_credlmt_575A</th><th>credamount_590A</th><th>credtype_587L</th><th>currdebt_94A</th><th>dateactivated_425D</th><th>district_544M</th><th>downpmt_134A</th><th>dtlastpmt_581D</th><th>dtlastpmtallstes_3545839D</th><th>education_1138M</th><th>employedfrom_700D</th><th>familystate_726L</th><th>firstnonzeroinstldate_307D</th><th>inittransactioncode_279L</th><th>isbidproduct_390L</th><th>mainoccupationinc_437A</th><th>maxdpdtolerance_577P</th><th>outstandingdebt_522A</th><th>pmtnum_8L</th><th>postype_4733339M</th><th>profession_152M</th><th>rejectreason_755M</th><th>rejectreasonclient_4145042M</th><th>status_219L</th><th>tenor_203L</th></tr><tr><td>i64</td><td>i64</td><td>f64</td><td>f64</td><td>str</td><td>f64</td><td>str</td><td>f64</td><td>str</td><td>f64</td><td>f64</td><td>str</td><td>f64</td><td>str</td><td>str</td><td>f64</td><td>str</td><td>str</td><td>str</td><td>str</td><td>str</td><td>str</td><td>str</td><td>bool</td><td>f64</td><td>f64</td><td>f64</td><td>f64</td><td>str</td><td>str</td><td>str</td><td>str</td><td>str</td><td>f64</td></tr></thead><tbody><tr><td>1419</td><td>1</td><td>0.0</td><td>6064.0</td><td>&quot;2018-10-15&quot;</td><td>null</td><td>&quot;P94_109_143&quot;</td><td>null</td><td>&quot;2018-12-27&quot;</td><td>0.0</td><td>16400.0</td><td>&quot;COL&quot;</td><td>0.0</td><td>&quot;2018-10-17&quot;</td><td>&quot;P2_93_127&quot;</td><td>0.0</td><td>&quot;2018-12-21&quot;</td><td>&quot;2018-12-21&quot;</td><td>&quot;P33_146_175&quot;</td><td>null</td><td>&quot;MARRIED&quot;</td><td>&quot;2018-11-15&quot;</td><td>&quot;POS&quot;</td><td>false</td><td>114000.0</td><td>0.0</td><td>0.0</td><td>3.0</td><td>&quot;a55475b1&quot;</td><td>&quot;a55475b1&quot;</td><td>&quot;P94_109_143&quot;</td><td>&quot;a55475b1&quot;</td><td>&quot;K&quot;</td><td>3.0</td></tr><tr><td>1419</td><td>2</td><td>0.0</td><td>6064.0</td><td>&quot;2018-10-15&quot;</td><td>null</td><td>&quot;P94_109_143&quot;</td><td>null</td><td>&quot;2018-10-15&quot;</td><td>0.0</td><td>16400.0</td><td>&quot;COL&quot;</td><td>0.0</td><td>&quot;2018-10-17&quot;</td><td>&quot;P2_93_127&quot;</td><td>0.0</td><td>&quot;2018-12-21&quot;</td><td>&quot;2018-12-21&quot;</td><td>&quot;P33_146_175&quot;</td><td>null</td><td>&quot;MARRIED&quot;</td><td>&quot;2018-11-15&quot;</td><td>&quot;POS&quot;</td><td>false</td><td>40000.0</td><td>0.0</td><td>0.0</td><td>3.0</td><td>&quot;a55475b1&quot;</td><td>&quot;a55475b1&quot;</td><td>&quot;P94_109_143&quot;</td><td>&quot;a55475b1&quot;</td><td>&quot;K&quot;</td><td>3.0</td></tr><tr><td>10582</td><td>1</td><td>0.0</td><td>5869.4</td><td>&quot;2019-01-30&quot;</td><td>null</td><td>&quot;P94_109_143&quot;</td><td>null</td><td>&quot;2019-01-30&quot;</td><td>0.0</td><td>13680.0</td><td>&quot;COL&quot;</td><td>0.0</td><td>&quot;2019-02-22&quot;</td><td>&quot;P169_111_32&quot;</td><td>0.0</td><td>&quot;2019-04-10&quot;</td><td>&quot;2019-04-10&quot;</td><td>&quot;P97_36_170&quot;</td><td>&quot;2018-07-24&quot;</td><td>&quot;MARRIED&quot;</td><td>&quot;2019-03-02&quot;</td><td>&quot;POS&quot;</td><td>false</td><td>52600.0</td><td>0.0</td><td>0.0</td><td>30.0</td><td>&quot;a55475b1&quot;</td><td>&quot;a55475b1&quot;</td><td>&quot;P99_56_166&quot;</td><td>&quot;P94_109_143&quot;</td><td>&quot;K&quot;</td><td>30.0</td></tr><tr><td>27342</td><td>1</td><td>0.0</td><td>1742.0</td><td>&quot;2019-07-10&quot;</td><td>0.0</td><td>&quot;P94_109_143&quot;</td><td>0.0</td><td>&quot;2019-07-10&quot;</td><td>0.0</td><td>14000.0</td><td>&quot;COL&quot;</td><td>0.0</td><td>&quot;2019-07-19&quot;</td><td>&quot;P56_25_83&quot;</td><td>0.0</td><td>&quot;2019-07-24&quot;</td><td>&quot;2019-07-24&quot;</td><td>&quot;P33_146_175&quot;</td><td>&quot;2017-01-15&quot;</td><td>&quot;SINGLE&quot;</td><td>&quot;2019-08-09&quot;</td><td>&quot;POS&quot;</td><td>false</td><td>14000.0</td><td>0.0</td><td>0.0</td><td>3.0</td><td>&quot;a55475b1&quot;</td><td>&quot;P19_109_56&quot;</td><td>&quot;P45_84_106&quot;</td><td>&quot;P94_109_143&quot;</td><td>&quot;K&quot;</td><td>3.0</td></tr><tr><td>36871</td><td>0</td><td>0.0</td><td>4932.2</td><td>&quot;2019-11-21&quot;</td><td>null</td><td>&quot;P94_109_143&quot;</td><td>null</td><td>&quot;2019-11-21&quot;</td><td>0.0</td><td>90000.0</td><td>&quot;REL&quot;</td><td>0.0</td><td>null</td><td>&quot;P98_137_111&quot;</td><td>0.0</td><td>null</td><td>null</td><td>&quot;a55475b1&quot;</td><td>null</td><td>null</td><td>&quot;2019-01-28&quot;</td><td>&quot;NDF&quot;</td><td>false</td><td>28000.0</td><td>null</td><td>0.0</td><td>48.0</td><td>&quot;a55475b1&quot;</td><td>&quot;a55475b1&quot;</td><td>&quot;P198_131_9&quot;</td><td>&quot;P94_109_143&quot;</td><td>&quot;N&quot;</td><td>48.0</td></tr><tr><td>&hellip;</td><td>&hellip;</td><td>&hellip;</td><td>&hellip;</td><td>&hellip;</td><td>&hellip;</td><td>&hellip;</td><td>&hellip;</td><td>&hellip;</td><td>&hellip;</td><td>&hellip;</td><td>&hellip;</td><td>&hellip;</td><td>&hellip;</td><td>&hellip;</td><td>&hellip;</td><td>&hellip;</td><td>&hellip;</td><td>&hellip;</td><td>&hellip;</td><td>&hellip;</td><td>&hellip;</td><td>&hellip;</td><td>&hellip;</td><td>&hellip;</td><td>&hellip;</td><td>&hellip;</td><td>&hellip;</td><td>&hellip;</td><td>&hellip;</td><td>&hellip;</td><td>&hellip;</td><td>&hellip;</td><td>&hellip;</td></tr><tr><td>2701442</td><td>0</td><td>0.0</td><td>14279.4</td><td>&quot;2019-01-07&quot;</td><td>null</td><td>&quot;P94_109_143&quot;</td><td>null</td><td>&quot;2020-10-12&quot;</td><td>0.0</td><td>110000.0</td><td>&quot;CAL&quot;</td><td>0.0</td><td>&quot;2019-01-30&quot;</td><td>&quot;P194_92_171&quot;</td><td>0.0</td><td>&quot;2019-11-07&quot;</td><td>&quot;2019-11-07&quot;</td><td>&quot;a55475b1&quot;</td><td>null</td><td>null</td><td>&quot;2020-11-11&quot;</td><td>&quot;CASH&quot;</td><td>true</td><td>110000.0</td><td>0.0</td><td>0.0</td><td>12.0</td><td>&quot;P67_102_161&quot;</td><td>&quot;a55475b1&quot;</td><td>&quot;a55475b1&quot;</td><td>&quot;P94_109_143&quot;</td><td>&quot;K&quot;</td><td>12.0</td></tr><tr><td>2701571</td><td>0</td><td>0.0</td><td>10641.4</td><td>&quot;2019-09-18&quot;</td><td>null</td><td>&quot;P94_109_143&quot;</td><td>null</td><td>&quot;2020-10-09&quot;</td><td>0.0</td><td>150000.0</td><td>&quot;CAL&quot;</td><td>84078.46</td><td>&quot;2019-09-25&quot;</td><td>&quot;P188_113_3&quot;</td><td>0.0</td><td>null</td><td>&quot;2020-09-24&quot;</td><td>&quot;a55475b1&quot;</td><td>null</td><td>null</td><td>&quot;2020-11-08&quot;</td><td>&quot;CASH&quot;</td><td>true</td><td>40000.0</td><td>0.0</td><td>102716.805</td><td>30.0</td><td>&quot;P67_102_161&quot;</td><td>&quot;a55475b1&quot;</td><td>&quot;a55475b1&quot;</td><td>&quot;P94_109_143&quot;</td><td>&quot;D&quot;</td><td>30.0</td></tr><tr><td>2701980</td><td>3</td><td>0.0</td><td>0.0</td><td>&quot;2019-11-21&quot;</td><td>null</td><td>&quot;P94_109_143&quot;</td><td>null</td><td>&quot;2020-06-15&quot;</td><td>100000.0</td><td>100000.0</td><td>&quot;REL&quot;</td><td>0.0</td><td>&quot;2019-12-21&quot;</td><td>&quot;P31_88_142&quot;</td><td>0.0</td><td>null</td><td>&quot;2019-11-21&quot;</td><td>&quot;a55475b1&quot;</td><td>null</td><td>null</td><td>null</td><td>&quot;NDF&quot;</td><td>false</td><td>60000.0</td><td>0.0</td><td>0.0</td><td>null</td><td>&quot;P46_145_78&quot;</td><td>&quot;a55475b1&quot;</td><td>&quot;P99_56_166&quot;</td><td>&quot;P94_109_143&quot;</td><td>&quot;D&quot;</td><td>null</td></tr><tr><td>2701980</td><td>7</td><td>0.0</td><td>3059.8</td><td>&quot;2018-09-24&quot;</td><td>null</td><td>&quot;P94_109_143&quot;</td><td>null</td><td>&quot;2018-09-24&quot;</td><td>0.0</td><td>22000.0</td><td>&quot;CAL&quot;</td><td>0.0</td><td>&quot;2018-10-16&quot;</td><td>&quot;P31_88_142&quot;</td><td>0.0</td><td>&quot;2019-09-24&quot;</td><td>&quot;2019-09-24&quot;</td><td>&quot;a55475b1&quot;</td><td>null</td><td>null</td><td>&quot;2018-10-24&quot;</td><td>&quot;CASH&quot;</td><td>false</td><td>50000.0</td><td>1.0</td><td>0.0</td><td>12.0</td><td>&quot;P177_117_192&quot;</td><td>&quot;a55475b1&quot;</td><td>&quot;P94_109_143&quot;</td><td>&quot;P94_109_143&quot;</td><td>&quot;K&quot;</td><td>12.0</td></tr><tr><td>2701980</td><td>12</td><td>0.0</td><td>992.8</td><td>&quot;2016-10-22&quot;</td><td>null</td><td>&quot;P94_109_143&quot;</td><td>2.0</td><td>&quot;2017-06-06&quot;</td><td>0.0</td><td>90000.0</td><td>&quot;COL&quot;</td><td>0.0</td><td>&quot;2016-11-08&quot;</td><td>&quot;P31_88_142&quot;</td><td>0.0</td><td>&quot;2017-04-23&quot;</td><td>&quot;2017-04-23&quot;</td><td>&quot;P33_146_175&quot;</td><td>&quot;2003-02-15&quot;</td><td>&quot;MARRIED&quot;</td><td>&quot;2017-07-07&quot;</td><td>&quot;POS&quot;</td><td>false</td><td>44000.0</td><td>1.0</td><td>0.0</td><td>6.0</td><td>&quot;P149_40_170&quot;</td><td>&quot;a55475b1&quot;</td><td>&quot;P99_56_166&quot;</td><td>&quot;P94_109_143&quot;</td><td>&quot;K&quot;</td><td>6.0</td></tr></tbody></table></div>"
      ],
      "text/plain": [
       "shape: (1_385, 34)\n",
       "┌─────────┬────────────┬───────────┬───────────┬───┬───────────┬───────────┬───────────┬───────────┐\n",
       "│ case_id ┆ num_group1 ┆ actualdpd ┆ annuity_8 ┆ … ┆ rejectrea ┆ rejectrea ┆ status_21 ┆ tenor_203 │\n",
       "│ ---     ┆ ---        ┆ _943P     ┆ 53A       ┆   ┆ son_755M  ┆ sonclient ┆ 9L        ┆ L         │\n",
       "│ i64     ┆ i64        ┆ ---       ┆ ---       ┆   ┆ ---       ┆ _4145042M ┆ ---       ┆ ---       │\n",
       "│         ┆            ┆ f64       ┆ f64       ┆   ┆ str       ┆ ---       ┆ str       ┆ f64       │\n",
       "│         ┆            ┆           ┆           ┆   ┆           ┆ str       ┆           ┆           │\n",
       "╞═════════╪════════════╪═══════════╪═══════════╪═══╪═══════════╪═══════════╪═══════════╪═══════════╡\n",
       "│ 1419    ┆ 1          ┆ 0.0       ┆ 6064.0    ┆ … ┆ P94_109_1 ┆ a55475b1  ┆ K         ┆ 3.0       │\n",
       "│         ┆            ┆           ┆           ┆   ┆ 43        ┆           ┆           ┆           │\n",
       "│ 1419    ┆ 2          ┆ 0.0       ┆ 6064.0    ┆ … ┆ P94_109_1 ┆ a55475b1  ┆ K         ┆ 3.0       │\n",
       "│         ┆            ┆           ┆           ┆   ┆ 43        ┆           ┆           ┆           │\n",
       "│ 10582   ┆ 1          ┆ 0.0       ┆ 5869.4    ┆ … ┆ P99_56_16 ┆ P94_109_1 ┆ K         ┆ 30.0      │\n",
       "│         ┆            ┆           ┆           ┆   ┆ 6         ┆ 43        ┆           ┆           │\n",
       "│ 27342   ┆ 1          ┆ 0.0       ┆ 1742.0    ┆ … ┆ P45_84_10 ┆ P94_109_1 ┆ K         ┆ 3.0       │\n",
       "│         ┆            ┆           ┆           ┆   ┆ 6         ┆ 43        ┆           ┆           │\n",
       "│ 36871   ┆ 0          ┆ 0.0       ┆ 4932.2    ┆ … ┆ P198_131_ ┆ P94_109_1 ┆ N         ┆ 48.0      │\n",
       "│         ┆            ┆           ┆           ┆   ┆ 9         ┆ 43        ┆           ┆           │\n",
       "│ …       ┆ …          ┆ …         ┆ …         ┆ … ┆ …         ┆ …         ┆ …         ┆ …         │\n",
       "│ 2701442 ┆ 0          ┆ 0.0       ┆ 14279.4   ┆ … ┆ a55475b1  ┆ P94_109_1 ┆ K         ┆ 12.0      │\n",
       "│         ┆            ┆           ┆           ┆   ┆           ┆ 43        ┆           ┆           │\n",
       "│ 2701571 ┆ 0          ┆ 0.0       ┆ 10641.4   ┆ … ┆ a55475b1  ┆ P94_109_1 ┆ D         ┆ 30.0      │\n",
       "│         ┆            ┆           ┆           ┆   ┆           ┆ 43        ┆           ┆           │\n",
       "│ 2701980 ┆ 3          ┆ 0.0       ┆ 0.0       ┆ … ┆ P99_56_16 ┆ P94_109_1 ┆ D         ┆ null      │\n",
       "│         ┆            ┆           ┆           ┆   ┆ 6         ┆ 43        ┆           ┆           │\n",
       "│ 2701980 ┆ 7          ┆ 0.0       ┆ 3059.8    ┆ … ┆ P94_109_1 ┆ P94_109_1 ┆ K         ┆ 12.0      │\n",
       "│         ┆            ┆           ┆           ┆   ┆ 43        ┆ 43        ┆           ┆           │\n",
       "│ 2701980 ┆ 12         ┆ 0.0       ┆ 992.8     ┆ … ┆ P99_56_16 ┆ P94_109_1 ┆ K         ┆ 6.0       │\n",
       "│         ┆            ┆           ┆           ┆   ┆ 6         ┆ 43        ┆           ┆           │\n",
       "└─────────┴────────────┴───────────┴───────────┴───┴───────────┴───────────┴───────────┴───────────┘"
      ]
     },
     "execution_count": 82,
     "metadata": {},
     "output_type": "execute_result"
    }
   ],
   "source": [
    "train_applprev_1.filter(pl.col('cancelreason_3545846M') == 'P94_109_143').filter(pl.col('approvaldate_319D').is_not_null())"
   ]
  },
  {
   "cell_type": "code",
   "execution_count": 86,
   "metadata": {},
   "outputs": [
    {
     "data": {
      "text/html": [
       "<div><style>\n",
       ".dataframe > thead > tr,\n",
       ".dataframe > tbody > tr {\n",
       "  text-align: right;\n",
       "  white-space: pre-wrap;\n",
       "}\n",
       "</style>\n",
       "<small>shape: (76, 2)</small><table border=\"1\" class=\"dataframe\"><thead><tr><th>cancelreason_3545846M</th><th>case_id</th></tr><tr><td>str</td><td>u32</td></tr></thead><tbody><tr><td>&quot;P89_110_159&quot;</td><td>1</td></tr><tr><td>&quot;P65_58_157&quot;</td><td>1</td></tr><tr><td>&quot;P151_143_25&quot;</td><td>2</td></tr><tr><td>&quot;P203_151_99&quot;</td><td>2</td></tr><tr><td>&quot;P59_114_135&quot;</td><td>3</td></tr><tr><td>&hellip;</td><td>&hellip;</td></tr><tr><td>&quot;P30_86_84&quot;</td><td>55361</td></tr><tr><td>&quot;P180_60_137&quot;</td><td>57583</td></tr><tr><td>&quot;P73_130_169&quot;</td><td>59832</td></tr><tr><td>&quot;P94_109_143&quot;</td><td>559178</td></tr><tr><td>&quot;a55475b1&quot;</td><td>1122786</td></tr></tbody></table></div>"
      ],
      "text/plain": [
       "shape: (76, 2)\n",
       "┌───────────────────────┬─────────┐\n",
       "│ cancelreason_3545846M ┆ case_id │\n",
       "│ ---                   ┆ ---     │\n",
       "│ str                   ┆ u32     │\n",
       "╞═══════════════════════╪═════════╡\n",
       "│ P89_110_159           ┆ 1       │\n",
       "│ P65_58_157            ┆ 1       │\n",
       "│ P151_143_25           ┆ 2       │\n",
       "│ P203_151_99           ┆ 2       │\n",
       "│ P59_114_135           ┆ 3       │\n",
       "│ …                     ┆ …       │\n",
       "│ P30_86_84             ┆ 55361   │\n",
       "│ P180_60_137           ┆ 57583   │\n",
       "│ P73_130_169           ┆ 59832   │\n",
       "│ P94_109_143           ┆ 559178  │\n",
       "│ a55475b1              ┆ 1122786 │\n",
       "└───────────────────────┴─────────┘"
      ]
     },
     "execution_count": 86,
     "metadata": {},
     "output_type": "execute_result"
    }
   ],
   "source": [
    "train_applprev_1.group_by(['cancelreason_3545846M']).agg(pl.col('case_id').n_unique()).sort('case_id')"
   ]
  },
  {
   "cell_type": "code",
   "execution_count": 83,
   "metadata": {},
   "outputs": [
    {
     "data": {
      "text/html": [
       "<div><style>\n",
       ".dataframe > thead > tr,\n",
       ".dataframe > tbody > tr {\n",
       "  text-align: right;\n",
       "  white-space: pre-wrap;\n",
       "}\n",
       "</style>\n",
       "<small>shape: (1, 5)</small><table border=\"1\" class=\"dataframe\"><thead><tr><th>case_id</th><th>date_decision</th><th>MONTH</th><th>WEEK_NUM</th><th>target</th></tr><tr><td>i64</td><td>str</td><td>i64</td><td>i64</td><td>i64</td></tr></thead><tbody><tr><td>1419</td><td>&quot;2019-01-16&quot;</td><td>201901</td><td>2</td><td>0</td></tr></tbody></table></div>"
      ],
      "text/plain": [
       "shape: (1, 5)\n",
       "┌─────────┬───────────────┬────────┬──────────┬────────┐\n",
       "│ case_id ┆ date_decision ┆ MONTH  ┆ WEEK_NUM ┆ target │\n",
       "│ ---     ┆ ---           ┆ ---    ┆ ---      ┆ ---    │\n",
       "│ i64     ┆ str           ┆ i64    ┆ i64      ┆ i64    │\n",
       "╞═════════╪═══════════════╪════════╪══════════╪════════╡\n",
       "│ 1419    ┆ 2019-01-16    ┆ 201901 ┆ 2        ┆ 0      │\n",
       "└─────────┴───────────────┴────────┴──────────┴────────┘"
      ]
     },
     "execution_count": 83,
     "metadata": {},
     "output_type": "execute_result"
    }
   ],
   "source": [
    "train_base.filter(pl.col('case_id') == 1419)"
   ]
  },
  {
   "cell_type": "markdown",
   "metadata": {},
   "source": [
    "### Depth 2"
   ]
  },
  {
   "cell_type": "markdown",
   "metadata": {},
   "source": [
    "train_applprev_2"
   ]
  },
  {
   "cell_type": "code",
   "execution_count": 23,
   "metadata": {},
   "outputs": [],
   "source": [
    "train_applprev_2 = pl.read_csv(f'{result_path}train_applprev_2_miss_fil.csv')\n",
    "train_applprev_2_agg = train_applprev_2.group_by(['case_id','conts_type_509L']).agg(pl.len().alias('type_count'))\n",
    "train_applprev_2_agg.write_csv(result_path + 'train_applprev_2_agg.csv')"
   ]
  },
  {
   "cell_type": "markdown",
   "metadata": {},
   "source": [
    "person_2"
   ]
  },
  {
   "cell_type": "code",
   "execution_count": 10,
   "metadata": {},
   "outputs": [],
   "source": [
    "train_person_2_miss_fil = pl.read_csv(result_path + 'train_person_2_miss_fil.csv')"
   ]
  },
  {
   "cell_type": "code",
   "execution_count": 23,
   "metadata": {},
   "outputs": [],
   "source": [
    "# train_person_2_miss_fil = pl.read_csv(result_path + 'train_person_2_miss_fil.csv')\n",
    "columns_to_process = ['addres_district_368M', 'addres_zip_823M', 'conts_role_79M', 'empls_economicalst_849M', 'empls_employer_name_740M']\n",
    "train_person_2_agg = train_base.select(pl.col(['case_id']))\n",
    "for col in columns_to_process:\n",
    "    temp = train_person_2_miss_fil.group_by('case_id').agg([pl.col(col).mode().first()])\n",
    "    \n",
    "    train_person_2_agg = train_person_2_agg.join(temp, on='case_id', how='left')"
   ]
  },
  {
   "cell_type": "code",
   "execution_count": 27,
   "metadata": {},
   "outputs": [],
   "source": [
    "train_person_2_agg.write_csv(result_path + 'train_person_2_mode.csv')"
   ]
  }
 ],
 "metadata": {
  "kernelspec": {
   "display_name": "base",
   "language": "python",
   "name": "python3"
  },
  "language_info": {
   "codemirror_mode": {
    "name": "ipython",
    "version": 3
   },
   "file_extension": ".py",
   "mimetype": "text/x-python",
   "name": "python",
   "nbconvert_exporter": "python",
   "pygments_lexer": "ipython3",
   "version": "3.11.5"
  }
 },
 "nbformat": 4,
 "nbformat_minor": 2
}
