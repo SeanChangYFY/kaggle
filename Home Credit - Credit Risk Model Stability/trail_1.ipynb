{
 "cells": [
  {
   "cell_type": "markdown",
   "metadata": {},
   "source": [
    "- Read data\n",
    "- Filter the data by too much missing values\n",
    "- Aggregation pipeline\n",
    "- Merge pipeline\n",
    "- Train base line model"
   ]
  },
  {
   "cell_type": "code",
   "execution_count": 1,
   "metadata": {},
   "outputs": [],
   "source": [
    "import pandas as pd\n",
    "import polars as pl\n",
    "import glob"
   ]
  },
  {
   "cell_type": "markdown",
   "metadata": {},
   "source": [
    "Config"
   ]
  },
  {
   "cell_type": "code",
   "execution_count": 2,
   "metadata": {},
   "outputs": [],
   "source": [
    "train_path = './home-credit-credit-risk-model-stability/csv_files/train/'\n",
    "test_path = './home-credit-credit-risk-model-stability/csv_files/test/'\n",
    "result_path = './home-credit-credit-risk-model-stability/csv_files/results/'\n",
    "\n",
    "missing_filter_threshold = 0.9"
   ]
  },
  {
   "cell_type": "markdown",
   "metadata": {},
   "source": [
    "### Help functions"
   ]
  },
  {
   "cell_type": "code",
   "execution_count": 3,
   "metadata": {},
   "outputs": [],
   "source": [
    "def set_dtypes(df : pl.DataFrame) -> pl.DataFrame:\n",
    "    for col in df.columns:\n",
    "        if col[-1] in (\"P\", \"A\"):\n",
    "            df = df.with_columns(pl.col(col).cast(pl.Float64))\n",
    "        elif col[-1] in (\"D\"):\n",
    "            df = df.with_columns(pl.col(col).cast(pl.Date))\n",
    "        elif col[-1] in (\"M\"):\n",
    "            df = df.with_columns(pl.col(col).cast(pl.String))\n",
    "        elif col in ['date_decision']:\n",
    "            df = df.with_columns(pl.col(col).cast(pl.Date))\n",
    "            \n",
    "    return df"
   ]
  },
  {
   "cell_type": "code",
   "execution_count": 4,
   "metadata": {},
   "outputs": [],
   "source": [
    "# drop the column which has 95% null\n",
    "\n",
    "def col_filter_by_high_missing_pct(df : pl.DataFrame, base_columns : list, target_columns : list, threshold : float) -> pl.DataFrame:\n",
    "    df_base = df.select(pl.col(base_columns).n_unique())\n",
    "    \n",
    "    df_sele = df.select(target_columns)\n",
    "    df_missing = df_sele.select([pl.col(col).is_null().sum() for col in target_columns])\n",
    "    \n",
    "    result = pl.concat([df_base, df_missing], how='horizontal')\n",
    "    \n",
    "    uni_base = df.select(pl.col(base_columns)).n_unique()\n",
    "    \n",
    "    result = result.select([\n",
    "        pl.col(col)/uni_base for col in result.columns\n",
    "    ])\n",
    "    \n",
    "    result = result.transpose(include_header=True).rename({\"column\":\"column_name\", \"column_0\":\"missing_pct\"}) \\\n",
    "                    .sort(by='missing_pct', descending=True)\n",
    "    \n",
    "    sele_cols = result.filter(pl.col('missing_pct') < threshold).select(pl.col('column_name'))\n",
    "\n",
    "    df_result = df.select(pl.col(base_columns + [col for col in target_columns if col in sele_cols.select(pl.col('column_name')).to_series()]))\n",
    "    \n",
    "    return df_result  "
   ]
  },
  {
   "cell_type": "code",
   "execution_count": 5,
   "metadata": {},
   "outputs": [],
   "source": [
    "def extract_tar_columns(df, base_columns):\n",
    "    return  [col for col in df.columns if col not in base_columns]"
   ]
  },
  {
   "cell_type": "code",
   "execution_count": 6,
   "metadata": {},
   "outputs": [],
   "source": [
    "def data_cleaning(target_file, base_columns, missing_filter_threshold, train_path, result_path):\n",
    "    file_pattern = f'{train_path}{target_file}*.csv'\n",
    "    files = glob.glob(file_pattern)\n",
    "    df = pl.concat([\n",
    "        pl.read_csv(file).pipe(set_dtypes) for file in files\n",
    "    ], how='vertical_relaxed')\n",
    "\n",
    "    tar_columns = extract_tar_columns(df, base_columns)\n",
    "    df_miss_fil = col_filter_by_high_missing_pct(df, base_columns, tar_columns, missing_filter_threshold)\n",
    "    df_miss_fil.write_csv(f'{result_path}{target_file}_miss_fil.csv')"
   ]
  },
  {
   "cell_type": "markdown",
   "metadata": {},
   "source": [
    "### Depth 0"
   ]
  },
  {
   "cell_type": "code",
   "execution_count": 8,
   "metadata": {},
   "outputs": [],
   "source": [
    "base_columns_depth0 = ['case_id']"
   ]
  },
  {
   "cell_type": "markdown",
   "metadata": {},
   "source": [
    "base "
   ]
  },
  {
   "cell_type": "code",
   "execution_count": 9,
   "metadata": {},
   "outputs": [
    {
     "data": {
      "text/html": [
       "<div><style>\n",
       ".dataframe > thead > tr,\n",
       ".dataframe > tbody > tr {\n",
       "  text-align: right;\n",
       "  white-space: pre-wrap;\n",
       "}\n",
       "</style>\n",
       "<small>shape: (5, 5)</small><table border=\"1\" class=\"dataframe\"><thead><tr><th>case_id</th><th>date_decision</th><th>MONTH</th><th>WEEK_NUM</th><th>target</th></tr><tr><td>i64</td><td>str</td><td>i64</td><td>i64</td><td>i64</td></tr></thead><tbody><tr><td>0</td><td>&quot;2019-01-03&quot;</td><td>201901</td><td>0</td><td>0</td></tr><tr><td>1</td><td>&quot;2019-01-03&quot;</td><td>201901</td><td>0</td><td>0</td></tr><tr><td>2</td><td>&quot;2019-01-04&quot;</td><td>201901</td><td>0</td><td>0</td></tr><tr><td>3</td><td>&quot;2019-01-03&quot;</td><td>201901</td><td>0</td><td>0</td></tr><tr><td>4</td><td>&quot;2019-01-04&quot;</td><td>201901</td><td>0</td><td>1</td></tr></tbody></table></div>"
      ],
      "text/plain": [
       "shape: (5, 5)\n",
       "┌─────────┬───────────────┬────────┬──────────┬────────┐\n",
       "│ case_id ┆ date_decision ┆ MONTH  ┆ WEEK_NUM ┆ target │\n",
       "│ ---     ┆ ---           ┆ ---    ┆ ---      ┆ ---    │\n",
       "│ i64     ┆ str           ┆ i64    ┆ i64      ┆ i64    │\n",
       "╞═════════╪═══════════════╪════════╪══════════╪════════╡\n",
       "│ 0       ┆ 2019-01-03    ┆ 201901 ┆ 0        ┆ 0      │\n",
       "│ 1       ┆ 2019-01-03    ┆ 201901 ┆ 0        ┆ 0      │\n",
       "│ 2       ┆ 2019-01-04    ┆ 201901 ┆ 0        ┆ 0      │\n",
       "│ 3       ┆ 2019-01-03    ┆ 201901 ┆ 0        ┆ 0      │\n",
       "│ 4       ┆ 2019-01-04    ┆ 201901 ┆ 0        ┆ 1      │\n",
       "└─────────┴───────────────┴────────┴──────────┴────────┘"
      ]
     },
     "execution_count": 9,
     "metadata": {},
     "output_type": "execute_result"
    }
   ],
   "source": [
    "train_base = pl.read_csv(train_path +'train_base.csv')\n",
    "train_base.head(5)"
   ]
  },
  {
   "cell_type": "code",
   "execution_count": 10,
   "metadata": {},
   "outputs": [
    {
     "data": {
      "text/plain": [
       "(1526659, 5)"
      ]
     },
     "execution_count": 10,
     "metadata": {},
     "output_type": "execute_result"
    }
   ],
   "source": [
    "train_base.shape"
   ]
  },
  {
   "cell_type": "code",
   "execution_count": 8,
   "metadata": {},
   "outputs": [],
   "source": [
    "data_cleaning('train_static_0', base_columns_depth0, missing_filter_threshold, train_path, result_path)"
   ]
  },
  {
   "cell_type": "code",
   "execution_count": 9,
   "metadata": {},
   "outputs": [],
   "source": [
    "data_cleaning('train_static_cb_0', base_columns_depth0, missing_filter_threshold, train_path, result_path)"
   ]
  },
  {
   "cell_type": "markdown",
   "metadata": {},
   "source": [
    "### Depth 1\n",
    "\n",
    "- aggregate by case_is, num_group1"
   ]
  },
  {
   "cell_type": "code",
   "execution_count": 42,
   "metadata": {},
   "outputs": [],
   "source": [
    "base_columns_depth1 = ['case_id', 'num_group1']"
   ]
  },
  {
   "cell_type": "markdown",
   "metadata": {},
   "source": [
    "applprev_1"
   ]
  },
  {
   "cell_type": "code",
   "execution_count": 13,
   "metadata": {},
   "outputs": [],
   "source": [
    "data_cleaning('train_applprev_1', base_columns_depth1, missing_filter_threshold, train_path, result_path)"
   ]
  },
  {
   "cell_type": "markdown",
   "metadata": {},
   "source": [
    "other"
   ]
  },
  {
   "cell_type": "code",
   "execution_count": 14,
   "metadata": {},
   "outputs": [],
   "source": [
    "data_cleaning('train_other_1', base_columns_depth1, missing_filter_threshold, train_path, result_path)"
   ]
  },
  {
   "cell_type": "markdown",
   "metadata": {},
   "source": [
    "credit_bureau_a_1"
   ]
  },
  {
   "cell_type": "code",
   "execution_count": 15,
   "metadata": {},
   "outputs": [],
   "source": [
    "data_cleaning('train_credit_bureau_a_1', base_columns_depth1, missing_filter_threshold, train_path, result_path)"
   ]
  },
  {
   "cell_type": "markdown",
   "metadata": {},
   "source": [
    "credit_bureau_a_2"
   ]
  },
  {
   "cell_type": "code",
   "execution_count": null,
   "metadata": {},
   "outputs": [],
   "source": [
    "# too big\n",
    "# data_cleaning('train_credit_bureau_a_2', base_columns_depth1, missing_filter_threshold, train_path, result_path)"
   ]
  },
  {
   "cell_type": "markdown",
   "metadata": {},
   "source": [
    "credit_bureau_b_1"
   ]
  },
  {
   "cell_type": "code",
   "execution_count": 16,
   "metadata": {},
   "outputs": [],
   "source": [
    "data_cleaning('train_credit_bureau_b_1', base_columns_depth1, missing_filter_threshold, train_path, result_path)"
   ]
  },
  {
   "cell_type": "markdown",
   "metadata": {},
   "source": [
    "tax_registry_a_1"
   ]
  },
  {
   "cell_type": "code",
   "execution_count": 17,
   "metadata": {},
   "outputs": [],
   "source": [
    "data_cleaning('train_tax_registry_a_1', base_columns_depth1, missing_filter_threshold, train_path, result_path)"
   ]
  },
  {
   "cell_type": "markdown",
   "metadata": {},
   "source": [
    "### Depth 2\n",
    "\n",
    "- aggregate by case_is, num_group1"
   ]
  },
  {
   "cell_type": "code",
   "execution_count": 18,
   "metadata": {},
   "outputs": [],
   "source": [
    "base_columns_depth2 = ['case_id', 'num_group1', 'num_group2']"
   ]
  },
  {
   "cell_type": "markdown",
   "metadata": {},
   "source": [
    "applprev_2"
   ]
  },
  {
   "cell_type": "code",
   "execution_count": 20,
   "metadata": {},
   "outputs": [],
   "source": [
    "data_cleaning('train_applprev_2', base_columns_depth2, missing_filter_threshold, train_path, result_path)"
   ]
  },
  {
   "cell_type": "markdown",
   "metadata": {},
   "source": [
    "person_2"
   ]
  },
  {
   "cell_type": "code",
   "execution_count": 21,
   "metadata": {},
   "outputs": [],
   "source": [
    "data_cleaning('train_person_2', base_columns_depth2, missing_filter_threshold, train_path, result_path)"
   ]
  },
  {
   "cell_type": "markdown",
   "metadata": {},
   "source": [
    "# Aggregations"
   ]
  },
  {
   "cell_type": "markdown",
   "metadata": {},
   "source": [
    "### Depth 1"
   ]
  },
  {
   "cell_type": "markdown",
   "metadata": {},
   "source": [
    "applprev_1\n",
    "\n",
    "- discard: approvaldate_319D, credacc_credlmt_575A\n",
    "- max: actualdpd_943P, annuity_853A, byoccupationinc_3656910L, childnum_21L, credamount_590A, currdebt_94A\n",
    "- min: actualdpd_943P, annuity_853A, byoccupationinc_3656910L, credamount_590A, currdebt_94A\n",
    "- mode: credtype_587L\n",
    "- std: actualdpd_943P, annuity_853A, byoccupationinc_3656910L, credamount_590A, currdebt_94A\n",
    "- last_value: currdebt_94A\n",
    "\n",
    "- rm: \n",
    "    - case_id and num_group1 where creationdate_885D == null"
   ]
  },
  {
   "cell_type": "code",
   "execution_count": 28,
   "metadata": {},
   "outputs": [],
   "source": [
    "train_applprev_1 = pl.read_csv(result_path + 'train_applprev_1_miss_fil.csv')"
   ]
  },
  {
   "cell_type": "code",
   "execution_count": 63,
   "metadata": {},
   "outputs": [
    {
     "data": {
      "text/html": [
       "<div><style>\n",
       ".dataframe > thead > tr,\n",
       ".dataframe > tbody > tr {\n",
       "  text-align: right;\n",
       "  white-space: pre-wrap;\n",
       "}\n",
       "</style>\n",
       "<small>shape: (9, 38)</small><table border=\"1\" class=\"dataframe\"><thead><tr><th>case_id</th><th>num_group1</th><th>actualdpd_943P</th><th>annuity_853A</th><th>approvaldate_319D</th><th>byoccupationinc_3656910L</th><th>cancelreason_3545846M</th><th>childnum_21L</th><th>creationdate_885D</th><th>credacc_credlmt_575A</th><th>credamount_590A</th><th>credtype_587L</th><th>currdebt_94A</th><th>dateactivated_425D</th><th>district_544M</th><th>downpmt_134A</th><th>dtlastpmt_581D</th><th>dtlastpmtallstes_3545839D</th><th>education_1138M</th><th>employedfrom_700D</th><th>familystate_726L</th><th>firstnonzeroinstldate_307D</th><th>inittransactioncode_279L</th><th>isbidproduct_390L</th><th>mainoccupationinc_437A</th><th>maxdpdtolerance_577P</th><th>outstandingdebt_522A</th><th>pmtnum_8L</th><th>postype_4733339M</th><th>profession_152M</th><th>rejectreason_755M</th><th>rejectreasonclient_4145042M</th><th>status_219L</th><th>tenor_203L</th><th>date_decision</th><th>MONTH</th><th>WEEK_NUM</th><th>target</th></tr><tr><td>i64</td><td>i64</td><td>f64</td><td>f64</td><td>str</td><td>f64</td><td>str</td><td>f64</td><td>str</td><td>f64</td><td>f64</td><td>str</td><td>f64</td><td>str</td><td>str</td><td>f64</td><td>str</td><td>str</td><td>str</td><td>str</td><td>str</td><td>str</td><td>str</td><td>bool</td><td>f64</td><td>f64</td><td>f64</td><td>f64</td><td>str</td><td>str</td><td>str</td><td>str</td><td>str</td><td>f64</td><td>str</td><td>i64</td><td>i64</td><td>i64</td></tr></thead><tbody><tr><td>2703453</td><td>0</td><td>0.0</td><td>0.0</td><td>&quot;2019-12-18&quot;</td><td>null</td><td>&quot;a55475b1&quot;</td><td>null</td><td>&quot;2019-12-18&quot;</td><td>0.0</td><td>0.0</td><td>&quot;REL&quot;</td><td>0.0</td><td>&quot;2019-12-23&quot;</td><td>&quot;P123_6_84&quot;</td><td>0.0</td><td>null</td><td>&quot;2020-10-09&quot;</td><td>&quot;a55475b1&quot;</td><td>null</td><td>null</td><td>null</td><td>&quot;NDF&quot;</td><td>false</td><td>null</td><td>0.0</td><td>0.0</td><td>null</td><td>&quot;P46_145_78&quot;</td><td>&quot;a55475b1&quot;</td><td>&quot;a55475b1&quot;</td><td>&quot;a55475b1&quot;</td><td>&quot;A&quot;</td><td>null</td><td>&quot;2020-10-05&quot;</td><td>202010</td><td>91</td><td>0</td></tr><tr><td>2703453</td><td>1</td><td>0.0</td><td>2827.2</td><td>&quot;2019-12-18&quot;</td><td>null</td><td>&quot;a55475b1&quot;</td><td>null</td><td>&quot;2019-12-18&quot;</td><td>0.0</td><td>40000.0</td><td>&quot;CAL&quot;</td><td>34550.855</td><td>&quot;2019-12-23&quot;</td><td>&quot;P123_6_84&quot;</td><td>0.0</td><td>null</td><td>&quot;2020-10-09&quot;</td><td>&quot;a55475b1&quot;</td><td>null</td><td>null</td><td>&quot;2020-01-18&quot;</td><td>&quot;CASH&quot;</td><td>false</td><td>50000.0</td><td>0.0</td><td>46806.6</td><td>30.0</td><td>&quot;P46_145_78&quot;</td><td>&quot;a55475b1&quot;</td><td>&quot;a55475b1&quot;</td><td>&quot;a55475b1&quot;</td><td>&quot;A&quot;</td><td>30.0</td><td>&quot;2020-10-05&quot;</td><td>202010</td><td>91</td><td>0</td></tr><tr><td>2703453</td><td>2</td><td>0.0</td><td>5981.4</td><td>&quot;2018-11-14&quot;</td><td>null</td><td>&quot;a55475b1&quot;</td><td>null</td><td>&quot;2018-11-14&quot;</td><td>0.0</td><td>123800.0</td><td>&quot;CAL&quot;</td><td>0.0</td><td>&quot;2018-11-15&quot;</td><td>&quot;P123_6_84&quot;</td><td>0.0</td><td>&quot;2019-12-17&quot;</td><td>&quot;2019-12-17&quot;</td><td>&quot;a55475b1&quot;</td><td>null</td><td>null</td><td>&quot;2018-12-15&quot;</td><td>&quot;CASH&quot;</td><td>false</td><td>76000.0</td><td>0.0</td><td>0.0</td><td>30.0</td><td>&quot;P177_117_192&quot;</td><td>&quot;a55475b1&quot;</td><td>&quot;a55475b1&quot;</td><td>&quot;a55475b1&quot;</td><td>&quot;K&quot;</td><td>30.0</td><td>&quot;2020-10-05&quot;</td><td>202010</td><td>91</td><td>0</td></tr><tr><td>2703453</td><td>3</td><td>0.0</td><td>1292.8</td><td>&quot;2017-12-26&quot;</td><td>null</td><td>&quot;a55475b1&quot;</td><td>null</td><td>&quot;2017-12-26&quot;</td><td>0.0</td><td>8898.0</td><td>&quot;COL&quot;</td><td>0.0</td><td>&quot;2018-01-08&quot;</td><td>&quot;P123_6_84&quot;</td><td>0.0</td><td>&quot;2018-09-21&quot;</td><td>&quot;2018-09-21&quot;</td><td>&quot;a55475b1&quot;</td><td>null</td><td>&quot;MARRIED&quot;</td><td>&quot;2018-01-26&quot;</td><td>&quot;POS&quot;</td><td>false</td><td>70000.0</td><td>0.0</td><td>0.0</td><td>9.0</td><td>&quot;P177_117_192&quot;</td><td>&quot;a55475b1&quot;</td><td>&quot;a55475b1&quot;</td><td>&quot;a55475b1&quot;</td><td>&quot;K&quot;</td><td>9.0</td><td>&quot;2020-10-05&quot;</td><td>202010</td><td>91</td><td>0</td></tr><tr><td>2703453</td><td>4</td><td>0.0</td><td>1203.4</td><td>&quot;2016-12-11&quot;</td><td>null</td><td>&quot;a55475b1&quot;</td><td>null</td><td>&quot;2016-12-11&quot;</td><td>0.0</td><td>9596.0</td><td>&quot;COL&quot;</td><td>0.0</td><td>&quot;2016-12-14&quot;</td><td>&quot;P123_6_84&quot;</td><td>0.0</td><td>&quot;2017-11-10&quot;</td><td>&quot;2017-11-10&quot;</td><td>&quot;a55475b1&quot;</td><td>null</td><td>&quot;MARRIED&quot;</td><td>&quot;2017-01-10&quot;</td><td>&quot;POS&quot;</td><td>false</td><td>40000.0</td><td>0.0</td><td>0.0</td><td>12.0</td><td>&quot;P177_117_192&quot;</td><td>&quot;a55475b1&quot;</td><td>&quot;a55475b1&quot;</td><td>&quot;a55475b1&quot;</td><td>&quot;K&quot;</td><td>12.0</td><td>&quot;2020-10-05&quot;</td><td>202010</td><td>91</td><td>0</td></tr><tr><td>2703453</td><td>5</td><td>0.0</td><td>3197.6</td><td>&quot;2014-08-15&quot;</td><td>33059.0</td><td>&quot;a55475b1&quot;</td><td>0.0</td><td>&quot;2014-08-15&quot;</td><td>0.0</td><td>60000.0</td><td>&quot;CAL&quot;</td><td>0.0</td><td>&quot;2014-08-15&quot;</td><td>&quot;P123_6_84&quot;</td><td>0.0</td><td>&quot;2018-08-07&quot;</td><td>&quot;2018-08-07&quot;</td><td>&quot;P97_36_170&quot;</td><td>null</td><td>&quot;MARRIED&quot;</td><td>&quot;2014-09-15&quot;</td><td>&quot;CASH&quot;</td><td>false</td><td>28000.0</td><td>33.0</td><td>0.0</td><td>48.0</td><td>&quot;P177_117_192&quot;</td><td>&quot;a55475b1&quot;</td><td>&quot;a55475b1&quot;</td><td>&quot;a55475b1&quot;</td><td>&quot;K&quot;</td><td>48.0</td><td>&quot;2020-10-05&quot;</td><td>202010</td><td>91</td><td>0</td></tr><tr><td>2703453</td><td>6</td><td>0.0</td><td>927.8</td><td>&quot;2014-01-22&quot;</td><td>null</td><td>&quot;a55475b1&quot;</td><td>0.0</td><td>&quot;2014-01-22&quot;</td><td>0.0</td><td>10000.0</td><td>&quot;CAL&quot;</td><td>0.0</td><td>&quot;2014-01-23&quot;</td><td>&quot;P123_6_84&quot;</td><td>0.0</td><td>null</td><td>null</td><td>&quot;P97_36_170&quot;</td><td>null</td><td>&quot;MARRIED&quot;</td><td>&quot;2014-02-22&quot;</td><td>&quot;CASH&quot;</td><td>false</td><td>7000.0</td><td>7.0</td><td>0.0</td><td>18.0</td><td>&quot;P177_117_192&quot;</td><td>&quot;a55475b1&quot;</td><td>&quot;a55475b1&quot;</td><td>&quot;a55475b1&quot;</td><td>&quot;K&quot;</td><td>18.0</td><td>&quot;2020-10-05&quot;</td><td>202010</td><td>91</td><td>0</td></tr><tr><td>2703453</td><td>7</td><td>0.0</td><td>266.80002</td><td>&quot;2013-06-29&quot;</td><td>null</td><td>&quot;a55475b1&quot;</td><td>0.0</td><td>&quot;2013-06-29&quot;</td><td>0.0</td><td>2198.0</td><td>&quot;COL&quot;</td><td>0.0</td><td>&quot;2013-07-02&quot;</td><td>&quot;P123_6_84&quot;</td><td>0.0</td><td>null</td><td>null</td><td>&quot;P97_36_170&quot;</td><td>null</td><td>&quot;MARRIED&quot;</td><td>&quot;2013-07-29&quot;</td><td>&quot;POS&quot;</td><td>false</td><td>7000.0</td><td>0.0</td><td>0.0</td><td>12.0</td><td>&quot;P177_117_192&quot;</td><td>&quot;a55475b1&quot;</td><td>&quot;a55475b1&quot;</td><td>&quot;a55475b1&quot;</td><td>&quot;K&quot;</td><td>12.0</td><td>&quot;2020-10-05&quot;</td><td>202010</td><td>91</td><td>0</td></tr><tr><td>2703453</td><td>8</td><td>0.0</td><td>416.2</td><td>null</td><td>null</td><td>&quot;a55475b1&quot;</td><td>0.0</td><td>&quot;2013-06-29&quot;</td><td>0.0</td><td>2198.0</td><td>&quot;COL&quot;</td><td>0.0</td><td>null</td><td>&quot;P123_6_84&quot;</td><td>0.0</td><td>null</td><td>null</td><td>&quot;P97_36_170&quot;</td><td>null</td><td>&quot;MARRIED&quot;</td><td>&quot;2013-07-29&quot;</td><td>&quot;POS&quot;</td><td>false</td><td>7000.0</td><td>null</td><td>0.0</td><td>6.0</td><td>&quot;P177_117_192&quot;</td><td>&quot;a55475b1&quot;</td><td>&quot;a55475b1&quot;</td><td>&quot;a55475b1&quot;</td><td>&quot;D&quot;</td><td>6.0</td><td>&quot;2020-10-05&quot;</td><td>202010</td><td>91</td><td>0</td></tr></tbody></table></div>"
      ],
      "text/plain": [
       "shape: (9, 38)\n",
       "┌─────────┬────────────┬──────────────┬─────────────┬───┬─────────────┬────────┬──────────┬────────┐\n",
       "│ case_id ┆ num_group1 ┆ actualdpd_94 ┆ annuity_853 ┆ … ┆ date_decisi ┆ MONTH  ┆ WEEK_NUM ┆ target │\n",
       "│ ---     ┆ ---        ┆ 3P           ┆ A           ┆   ┆ on          ┆ ---    ┆ ---      ┆ ---    │\n",
       "│ i64     ┆ i64        ┆ ---          ┆ ---         ┆   ┆ ---         ┆ i64    ┆ i64      ┆ i64    │\n",
       "│         ┆            ┆ f64          ┆ f64         ┆   ┆ str         ┆        ┆          ┆        │\n",
       "╞═════════╪════════════╪══════════════╪═════════════╪═══╪═════════════╪════════╪══════════╪════════╡\n",
       "│ 2703453 ┆ 0          ┆ 0.0          ┆ 0.0         ┆ … ┆ 2020-10-05  ┆ 202010 ┆ 91       ┆ 0      │\n",
       "│ 2703453 ┆ 1          ┆ 0.0          ┆ 2827.2      ┆ … ┆ 2020-10-05  ┆ 202010 ┆ 91       ┆ 0      │\n",
       "│ 2703453 ┆ 2          ┆ 0.0          ┆ 5981.4      ┆ … ┆ 2020-10-05  ┆ 202010 ┆ 91       ┆ 0      │\n",
       "│ 2703453 ┆ 3          ┆ 0.0          ┆ 1292.8      ┆ … ┆ 2020-10-05  ┆ 202010 ┆ 91       ┆ 0      │\n",
       "│ 2703453 ┆ 4          ┆ 0.0          ┆ 1203.4      ┆ … ┆ 2020-10-05  ┆ 202010 ┆ 91       ┆ 0      │\n",
       "│ 2703453 ┆ 5          ┆ 0.0          ┆ 3197.6      ┆ … ┆ 2020-10-05  ┆ 202010 ┆ 91       ┆ 0      │\n",
       "│ 2703453 ┆ 6          ┆ 0.0          ┆ 927.8       ┆ … ┆ 2020-10-05  ┆ 202010 ┆ 91       ┆ 0      │\n",
       "│ 2703453 ┆ 7          ┆ 0.0          ┆ 266.80002   ┆ … ┆ 2020-10-05  ┆ 202010 ┆ 91       ┆ 0      │\n",
       "│ 2703453 ┆ 8          ┆ 0.0          ┆ 416.2       ┆ … ┆ 2020-10-05  ┆ 202010 ┆ 91       ┆ 0      │\n",
       "└─────────┴────────────┴──────────────┴─────────────┴───┴─────────────┴────────┴──────────┴────────┘"
      ]
     },
     "execution_count": 63,
     "metadata": {},
     "output_type": "execute_result"
    }
   ],
   "source": [
    "train_applprev_1.filter(pl.col('case_id') == 2703453).join(train_base, on = ['case_id'], how='inner')"
   ]
  },
  {
   "cell_type": "markdown",
   "metadata": {},
   "source": [
    "### Depth 2"
   ]
  },
  {
   "cell_type": "markdown",
   "metadata": {},
   "source": [
    "train_applprev_2"
   ]
  },
  {
   "cell_type": "code",
   "execution_count": 23,
   "metadata": {},
   "outputs": [],
   "source": [
    "train_applprev_2 = pl.read_csv(f'{result_path}train_applprev_2_miss_fil.csv')\n",
    "train_applprev_2_agg = train_applprev_2.group_by(['case_id','conts_type_509L']).agg(pl.len().alias('type_count'))\n",
    "train_applprev_2_agg.write_csv(result_path + 'train_applprev_2_agg.csv')"
   ]
  },
  {
   "cell_type": "markdown",
   "metadata": {},
   "source": [
    "person_2"
   ]
  },
  {
   "cell_type": "code",
   "execution_count": 10,
   "metadata": {},
   "outputs": [],
   "source": [
    "train_person_2_miss_fil = pl.read_csv(result_path + 'train_person_2_miss_fil.csv')"
   ]
  },
  {
   "cell_type": "code",
   "execution_count": 23,
   "metadata": {},
   "outputs": [],
   "source": [
    "# train_person_2_miss_fil = pl.read_csv(result_path + 'train_person_2_miss_fil.csv')\n",
    "columns_to_process = ['addres_district_368M', 'addres_zip_823M', 'conts_role_79M', 'empls_economicalst_849M', 'empls_employer_name_740M']\n",
    "train_person_2_agg = train_base.select(pl.col(['case_id']))\n",
    "for col in columns_to_process:\n",
    "    temp = train_person_2_miss_fil.group_by('case_id').agg([pl.col(col).mode().first()])\n",
    "    \n",
    "    train_person_2_agg = train_person_2_agg.join(temp, on='case_id', how='left')"
   ]
  },
  {
   "cell_type": "code",
   "execution_count": 27,
   "metadata": {},
   "outputs": [],
   "source": [
    "train_person_2_agg.write_csv(result_path + 'train_person_2_mode.csv')"
   ]
  }
 ],
 "metadata": {
  "kernelspec": {
   "display_name": "base",
   "language": "python",
   "name": "python3"
  },
  "language_info": {
   "codemirror_mode": {
    "name": "ipython",
    "version": 3
   },
   "file_extension": ".py",
   "mimetype": "text/x-python",
   "name": "python",
   "nbconvert_exporter": "python",
   "pygments_lexer": "ipython3",
   "version": "3.11.5"
  }
 },
 "nbformat": 4,
 "nbformat_minor": 2
}
