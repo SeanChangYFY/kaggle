{
 "cells": [
  {
   "cell_type": "markdown",
   "metadata": {},
   "source": [
    "- Read data\n",
    "- Filter the data by too much missing values\n",
    "- Aggregation pipeline\n",
    "- Merge pipeline\n",
    "- Train base line model"
   ]
  },
  {
   "cell_type": "code",
   "execution_count": 1,
   "metadata": {},
   "outputs": [],
   "source": [
    "import pandas as pd\n",
    "import polars as pl\n",
    "import time"
   ]
  },
  {
   "cell_type": "markdown",
   "metadata": {},
   "source": [
    "Config"
   ]
  },
  {
   "cell_type": "code",
   "execution_count": 2,
   "metadata": {},
   "outputs": [],
   "source": [
    "train_path = './home-credit-credit-risk-model-stability/csv_files/train/'\n",
    "test_path = './home-credit-credit-risk-model-stability/csv_files/test/'\n",
    "result_path = './home-credit-credit-risk-model-stability/csv_files/results/'"
   ]
  },
  {
   "cell_type": "markdown",
   "metadata": {},
   "source": [
    "### Help functions"
   ]
  },
  {
   "cell_type": "code",
   "execution_count": 3,
   "metadata": {},
   "outputs": [],
   "source": [
    "def set_dtypes(df : pl.DataFrame) -> pl.DataFrame:\n",
    "    for col in df.columns:\n",
    "        if col[-1] in (\"P\", \"A\"):\n",
    "            df = df.with_columns(pl.col(col).cast(pl.Float64))\n",
    "        elif col[-1] in (\"D\"):\n",
    "            df = df.with_columns(pl.col(col).cast(pl.Date))\n",
    "        elif col[-1] in (\"M\"):\n",
    "            df = df.with_columns(pl.col(col).cast(pl.String))\n",
    "        elif col in ['date_decision']:\n",
    "            df = df.with_columns(pl.col(col).cast(pl.Date))\n",
    "            \n",
    "    return df"
   ]
  },
  {
   "cell_type": "code",
   "execution_count": 4,
   "metadata": {},
   "outputs": [],
   "source": [
    "# drop the column which has 95% null\n",
    "\n",
    "def missing_value_pct(df : pl.DataFrame, base_columns : list, target_columns : list, threshold : float) -> pl.DataFrame:\n",
    "    df_base = df.select(pl.col(base_columns).n_unique())\n",
    "    \n",
    "    df_sele = df.select(target_columns)\n",
    "    df_missing = df_sele.select([pl.col(col).is_null().sum() for col in target_columns])\n",
    "    \n",
    "    result = pl.concat([df_base, df_missing], how='horizontal')\n",
    "    \n",
    "    uni_base = df.select(pl.col(base_columns)).n_unique()\n",
    "    \n",
    "    result = result.select([\n",
    "        pl.col(col)/uni_base for col in result.columns\n",
    "    ])\n",
    "    \n",
    "    result = result.transpose(include_header=True).rename({\"column\":\"column_name\", \"column_0\":\"missing_pct\"}) \\\n",
    "                    .sort(by='missing_pct', descending=True)\n",
    "    \n",
    "    sele_cols = result.filter(pl.col('missing_pct') < threshold).select(pl.col('column_name'))\n",
    "\n",
    "    df_result = df.select(pl.col(base_columns + [col for col in target_columns if col in sele_cols.select(pl.col('column_name')).to_series()]))\n",
    "    \n",
    "    return df_result  "
   ]
  },
  {
   "cell_type": "markdown",
   "metadata": {},
   "source": [
    "### Depth 0"
   ]
  },
  {
   "cell_type": "markdown",
   "metadata": {},
   "source": [
    "base "
   ]
  },
  {
   "cell_type": "code",
   "execution_count": null,
   "metadata": {},
   "outputs": [],
   "source": [
    "train_base = pl.read_csv(train_path +'train_base.csv')\n",
    "train_base.head(5)"
   ]
  },
  {
   "cell_type": "code",
   "execution_count": null,
   "metadata": {},
   "outputs": [],
   "source": [
    "train_base.shape"
   ]
  },
  {
   "cell_type": "code",
   "execution_count": null,
   "metadata": {},
   "outputs": [],
   "source": [
    "def statistic_cleaning():\n",
    "    train_statistic_0 = pl.read_csv(train_path + 'train_static_0_0.csv').pipe(set_dtypes)\n",
    "    train_statistic_1 = pl.read_csv(train_path + 'train_static_0_1.csv').pipe(set_dtypes)\n",
    "    train_statistic = pl.concat([train_statistic_0, train_statistic_1], how='vertical_relaxed')\n",
    "    train_statistic_miss_fil = missing_value_pct(train_statistic, ['case_id'], [col for col in train_statistic.columns if col != 'case_id'], 0.90)\n",
    "    train_statistic_miss_fil.write_csv('./home-credit-credit-risk-model-stability/csv_files/results/train_statistic_miss_fil.csv')\n",
    "    \n",
    "def cb_cleaning():\n",
    "    train_cb_0 = pl.read_csv(train_path + 'train_static_cb_0.csv')\n",
    "    train_cb_miss_fil = missing_value_pct(train_cb_0, ['case_id'], [col for col in train_cb_0.columns if col != \"case_id\"], 0.90)\n",
    "    train_cb_miss_fil.write_csv(result_path + 'train_cb_miss_fil.csv')\n",
    "    \n",
    "#statistic_cleaning()\n",
    "#cb_cleaning()"
   ]
  },
  {
   "cell_type": "markdown",
   "metadata": {},
   "source": [
    "### Depth 1\n",
    "\n",
    "- aggregate by case_is, num_group1"
   ]
  },
  {
   "cell_type": "markdown",
   "metadata": {},
   "source": [
    "applprev_1"
   ]
  },
  {
   "cell_type": "code",
   "execution_count": null,
   "metadata": {},
   "outputs": [],
   "source": [
    "def applprev_1_cleaning():\n",
    "    train_applprev_1_0 = pl.read_csv(train_path + 'train_applprev_1_0.csv').pipe(set_dtypes)\n",
    "    train_applprev_1_1 = pl.read_csv(train_path + 'train_applprev_1_1.csv').pipe(set_dtypes)\n",
    "    train_applprev = pl.concat([train_applprev_1_0, train_applprev_1_1], how='vertical_relaxed')\n",
    "    base_columns = ['case_id', 'num_group1']\n",
    "    tar_columns = [col for col in train_applprev.columns if col not in base_columns]\n",
    "    train_applprev_miss_fil = missing_value_pct(train_applprev, base_columns, tar_columns, 0.90)\n",
    "    train_applprev_miss_fil.write_csv(result_path + 'train_applprev_1_miss_fil.csv')\n",
    "\n",
    "# applprev_1_cleaning()"
   ]
  },
  {
   "cell_type": "markdown",
   "metadata": {},
   "source": [
    "other"
   ]
  },
  {
   "cell_type": "code",
   "execution_count": null,
   "metadata": {},
   "outputs": [],
   "source": [
    "def other_cleaning():\n",
    "    train_other = pl.read_csv(train_path + 'train_other_1.csv').pipe(set_dtypes)\n",
    "    base_columns = ['case_id', 'num_group1']\n",
    "    tar_columns = [col for col in train_other.columns if col not in base_columns]\n",
    "    train_other_miss_fil = missing_value_pct(train_other, base_columns, tar_columns, 0.90)\n",
    "    train_other_miss_fil.write_csv(result_path + 'train_other_miss_fil.csv')\n",
    "    \n",
    "# other_cleaning()"
   ]
  },
  {
   "cell_type": "markdown",
   "metadata": {},
   "source": [
    "credit_bureau_a_1"
   ]
  },
  {
   "cell_type": "code",
   "execution_count": null,
   "metadata": {},
   "outputs": [],
   "source": [
    "def credit_bureau_a_1_cleaning():\n",
    "    train_credit_bureau_a_1_0 = pl.read_csv(train_path + 'train_credit_bureau_a_1_0.csv').pipe(set_dtypes)\n",
    "    train_credit_bureau_a_1_1 = pl.read_csv(train_path + 'train_credit_bureau_a_1_1.csv').pipe(set_dtypes)\n",
    "    train_credit_bureau_a_1_2 = pl.read_csv(train_path + 'train_credit_bureau_a_1_2.csv').pipe(set_dtypes)\n",
    "    train_credit_bureau_a_1 = pl.concat([train_credit_bureau_a_1_0, train_credit_bureau_a_1_1, train_credit_bureau_a_1_2], how='vertical_relaxed')\n",
    "    base_columns = ['case_id', 'num_group1']\n",
    "    tar_columns = [col for col in train_credit_bureau_a_1.columns if col not in base_columns]\n",
    "    train_credit_bureau_a_1_miss_fil = missing_value_pct(train_credit_bureau_a_1, base_columns, tar_columns, 0.90)\n",
    "    train_credit_bureau_a_1_miss_fil.write_csv(result_path + 'train_credit_bureau_a_1_miss_fil.csv')\n",
    "\n",
    "credit_bureau_a_1_cleaning()"
   ]
  },
  {
   "cell_type": "code",
   "execution_count": 5,
   "metadata": {},
   "outputs": [],
   "source": [
    "train_credit_bureau_a_1_0 = pl.read_csv(train_path + 'train_credit_bureau_a_1_0.csv').pipe(set_dtypes)"
   ]
  },
  {
   "cell_type": "code",
   "execution_count": 6,
   "metadata": {},
   "outputs": [
    {
     "data": {
      "text/html": [
       "<div><style>\n",
       ".dataframe > thead > tr,\n",
       ".dataframe > tbody > tr {\n",
       "  text-align: right;\n",
       "  white-space: pre-wrap;\n",
       "}\n",
       "</style>\n",
       "<small>shape: (4_108_212, 79)</small><table border=\"1\" class=\"dataframe\"><thead><tr><th>case_id</th><th>annualeffectiverate_199L</th><th>annualeffectiverate_63L</th><th>classificationofcontr_13M</th><th>classificationofcontr_400M</th><th>contractst_545M</th><th>contractst_964M</th><th>contractsum_5085717L</th><th>credlmt_230A</th><th>credlmt_935A</th><th>dateofcredend_289D</th><th>dateofcredend_353D</th><th>dateofcredstart_181D</th><th>dateofcredstart_739D</th><th>dateofrealrepmt_138D</th><th>debtoutstand_525A</th><th>debtoverdue_47A</th><th>description_351M</th><th>dpdmax_139P</th><th>dpdmax_757P</th><th>dpdmaxdatemonth_442T</th><th>dpdmaxdatemonth_89T</th><th>dpdmaxdateyear_596T</th><th>dpdmaxdateyear_896T</th><th>financialinstitution_382M</th><th>financialinstitution_591M</th><th>instlamount_768A</th><th>instlamount_852A</th><th>interestrate_508L</th><th>lastupdate_1112D</th><th>lastupdate_388D</th><th>monthlyinstlamount_332A</th><th>monthlyinstlamount_674A</th><th>nominalrate_281L</th><th>nominalrate_498L</th><th>num_group1</th><th>numberofcontrsvalue_258L</th><th>&hellip;</th><th>numberofoverdueinstlmax_1039L</th><th>numberofoverdueinstlmax_1151L</th><th>numberofoverdueinstlmaxdat_148D</th><th>numberofoverdueinstlmaxdat_641D</th><th>numberofoverdueinstls_725L</th><th>numberofoverdueinstls_834L</th><th>outstandingamount_354A</th><th>outstandingamount_362A</th><th>overdueamount_31A</th><th>overdueamount_659A</th><th>overdueamountmax2_14A</th><th>overdueamountmax2_398A</th><th>overdueamountmax2date_1002D</th><th>overdueamountmax2date_1142D</th><th>overdueamountmax_155A</th><th>overdueamountmax_35A</th><th>overdueamountmaxdatemonth_284T</th><th>overdueamountmaxdatemonth_365T</th><th>overdueamountmaxdateyear_2T</th><th>overdueamountmaxdateyear_994T</th><th>periodicityofpmts_1102L</th><th>periodicityofpmts_837L</th><th>prolongationcount_1120L</th><th>prolongationcount_599L</th><th>purposeofcred_426M</th><th>purposeofcred_874M</th><th>refreshdate_3813885D</th><th>residualamount_488A</th><th>residualamount_856A</th><th>subjectrole_182M</th><th>subjectrole_93M</th><th>totalamount_6A</th><th>totalamount_996A</th><th>totaldebtoverduevalue_178A</th><th>totaldebtoverduevalue_718A</th><th>totaloutstanddebtvalue_39A</th><th>totaloutstanddebtvalue_668A</th></tr><tr><td>i64</td><td>str</td><td>f64</td><td>str</td><td>str</td><td>str</td><td>str</td><td>str</td><td>f64</td><td>f64</td><td>date</td><td>date</td><td>date</td><td>date</td><td>date</td><td>f64</td><td>f64</td><td>str</td><td>f64</td><td>f64</td><td>str</td><td>f64</td><td>f64</td><td>str</td><td>str</td><td>str</td><td>f64</td><td>f64</td><td>str</td><td>date</td><td>date</td><td>f64</td><td>f64</td><td>f64</td><td>str</td><td>i64</td><td>f64</td><td>&hellip;</td><td>f64</td><td>str</td><td>date</td><td>date</td><td>f64</td><td>str</td><td>f64</td><td>f64</td><td>f64</td><td>f64</td><td>f64</td><td>f64</td><td>date</td><td>date</td><td>f64</td><td>f64</td><td>str</td><td>f64</td><td>f64</td><td>str</td><td>str</td><td>f64</td><td>str</td><td>str</td><td>str</td><td>str</td><td>date</td><td>f64</td><td>f64</td><td>str</td><td>str</td><td>f64</td><td>f64</td><td>f64</td><td>f64</td><td>f64</td><td>f64</td></tr></thead><tbody><tr><td>388</td><td>null</td><td>null</td><td>&quot;4408ff0f&quot;</td><td>&quot;a55475b1&quot;</td><td>&quot;7241344e&quot;</td><td>&quot;a55475b1&quot;</td><td>null</td><td>null</td><td>null</td><td>2023-06-20</td><td>null</td><td>null</td><td>2018-06-20</td><td>null</td><td>374419.5</td><td>0.0</td><td>&quot;a55475b1&quot;</td><td>0.0</td><td>null</td><td>null</td><td>7.0</td><td>2018.0</td><td>null</td><td>&quot;a55475b1&quot;</td><td>&quot;55b002a9&quot;</td><td>null</td><td>null</td><td>null</td><td>2019-01-24</td><td>null</td><td>7811.4463</td><td>null</td><td>null</td><td>null</td><td>0</td><td>2.0</td><td>&hellip;</td><td>0.0</td><td>null</td><td>null</td><td>null</td><td>0.0</td><td>null</td><td>null</td><td>260093.7</td><td>null</td><td>0.0</td><td>0.0</td><td>null</td><td>null</td><td>null</td><td>0.0</td><td>null</td><td>null</td><td>7.0</td><td>2018.0</td><td>null</td><td>null</td><td>30.0</td><td>null</td><td>null</td><td>&quot;96a8fdfe&quot;</td><td>&quot;a55475b1&quot;</td><td>null</td><td>null</td><td>null</td><td>&quot;ab3c25cf&quot;</td><td>&quot;ab3c25cf&quot;</td><td>null</td><td>268897.62</td><td>0.0</td><td>0.0</td><td>374419.5</td><td>0.0</td></tr><tr><td>388</td><td>null</td><td>null</td><td>&quot;ea6782cc&quot;</td><td>&quot;a55475b1&quot;</td><td>&quot;7241344e&quot;</td><td>&quot;a55475b1&quot;</td><td>null</td><td>null</td><td>135806.0</td><td>2020-08-06</td><td>null</td><td>null</td><td>2018-08-06</td><td>null</td><td>null</td><td>null</td><td>&quot;a55475b1&quot;</td><td>0.0</td><td>null</td><td>null</td><td>8.0</td><td>2018.0</td><td>null</td><td>&quot;a55475b1&quot;</td><td>&quot;P204_66_73&quot;</td><td>8742.8</td><td>null</td><td>null</td><td>2019-01-11</td><td>null</td><td>8742.8</td><td>null</td><td>null</td><td>null</td><td>1</td><td>null</td><td>&hellip;</td><td>0.0</td><td>null</td><td>null</td><td>null</td><td>0.0</td><td>null</td><td>null</td><td>null</td><td>null</td><td>0.0</td><td>0.0</td><td>null</td><td>null</td><td>null</td><td>0.0</td><td>null</td><td>null</td><td>8.0</td><td>2018.0</td><td>null</td><td>null</td><td>null</td><td>null</td><td>null</td><td>&quot;60c73645&quot;</td><td>&quot;a55475b1&quot;</td><td>null</td><td>null</td><td>114325.805</td><td>&quot;a55475b1&quot;</td><td>&quot;a55475b1&quot;</td><td>null</td><td>null</td><td>null</td><td>null</td><td>null</td><td>null</td></tr><tr><td>388</td><td>null</td><td>null</td><td>&quot;a55475b1&quot;</td><td>&quot;a55475b1&quot;</td><td>&quot;a55475b1&quot;</td><td>&quot;a55475b1&quot;</td><td>null</td><td>null</td><td>null</td><td>null</td><td>null</td><td>null</td><td>null</td><td>null</td><td>null</td><td>null</td><td>&quot;a55475b1&quot;</td><td>null</td><td>null</td><td>null</td><td>null</td><td>null</td><td>null</td><td>&quot;a55475b1&quot;</td><td>&quot;a55475b1&quot;</td><td>null</td><td>null</td><td>null</td><td>null</td><td>null</td><td>null</td><td>null</td><td>null</td><td>null</td><td>2</td><td>null</td><td>&hellip;</td><td>null</td><td>null</td><td>null</td><td>null</td><td>null</td><td>null</td><td>null</td><td>null</td><td>null</td><td>null</td><td>null</td><td>null</td><td>null</td><td>null</td><td>null</td><td>null</td><td>null</td><td>null</td><td>null</td><td>null</td><td>null</td><td>null</td><td>null</td><td>null</td><td>&quot;a55475b1&quot;</td><td>&quot;a55475b1&quot;</td><td>2019-01-28</td><td>null</td><td>null</td><td>&quot;a55475b1&quot;</td><td>&quot;a55475b1&quot;</td><td>null</td><td>null</td><td>null</td><td>null</td><td>null</td><td>null</td></tr><tr><td>388</td><td>null</td><td>null</td><td>&quot;a55475b1&quot;</td><td>&quot;a55475b1&quot;</td><td>&quot;a55475b1&quot;</td><td>&quot;a55475b1&quot;</td><td>null</td><td>null</td><td>null</td><td>null</td><td>null</td><td>null</td><td>null</td><td>null</td><td>null</td><td>null</td><td>&quot;a55475b1&quot;</td><td>null</td><td>null</td><td>null</td><td>null</td><td>null</td><td>null</td><td>&quot;a55475b1&quot;</td><td>&quot;a55475b1&quot;</td><td>null</td><td>null</td><td>null</td><td>null</td><td>null</td><td>null</td><td>null</td><td>null</td><td>null</td><td>3</td><td>null</td><td>&hellip;</td><td>null</td><td>null</td><td>null</td><td>null</td><td>null</td><td>null</td><td>null</td><td>null</td><td>null</td><td>null</td><td>null</td><td>null</td><td>null</td><td>null</td><td>null</td><td>null</td><td>null</td><td>null</td><td>null</td><td>null</td><td>null</td><td>null</td><td>null</td><td>null</td><td>&quot;a55475b1&quot;</td><td>&quot;a55475b1&quot;</td><td>2019-01-28</td><td>null</td><td>null</td><td>&quot;a55475b1&quot;</td><td>&quot;a55475b1&quot;</td><td>null</td><td>null</td><td>null</td><td>null</td><td>null</td><td>null</td></tr><tr><td>388</td><td>null</td><td>null</td><td>&quot;a55475b1&quot;</td><td>&quot;a55475b1&quot;</td><td>&quot;a55475b1&quot;</td><td>&quot;a55475b1&quot;</td><td>null</td><td>null</td><td>null</td><td>null</td><td>null</td><td>null</td><td>null</td><td>null</td><td>null</td><td>null</td><td>&quot;a55475b1&quot;</td><td>null</td><td>null</td><td>null</td><td>null</td><td>null</td><td>null</td><td>&quot;a55475b1&quot;</td><td>&quot;a55475b1&quot;</td><td>null</td><td>null</td><td>null</td><td>null</td><td>null</td><td>null</td><td>null</td><td>null</td><td>null</td><td>4</td><td>null</td><td>&hellip;</td><td>null</td><td>null</td><td>null</td><td>null</td><td>null</td><td>null</td><td>null</td><td>null</td><td>null</td><td>null</td><td>null</td><td>null</td><td>null</td><td>null</td><td>null</td><td>null</td><td>null</td><td>null</td><td>null</td><td>null</td><td>null</td><td>null</td><td>null</td><td>null</td><td>&quot;a55475b1&quot;</td><td>&quot;a55475b1&quot;</td><td>2019-01-28</td><td>null</td><td>null</td><td>&quot;a55475b1&quot;</td><td>&quot;a55475b1&quot;</td><td>null</td><td>null</td><td>null</td><td>null</td><td>null</td><td>null</td></tr><tr><td>388</td><td>null</td><td>null</td><td>&quot;a55475b1&quot;</td><td>&quot;a55475b1&quot;</td><td>&quot;a55475b1&quot;</td><td>&quot;a55475b1&quot;</td><td>null</td><td>null</td><td>null</td><td>null</td><td>null</td><td>null</td><td>null</td><td>null</td><td>null</td><td>null</td><td>&quot;a55475b1&quot;</td><td>null</td><td>null</td><td>null</td><td>null</td><td>null</td><td>null</td><td>&quot;a55475b1&quot;</td><td>&quot;a55475b1&quot;</td><td>null</td><td>null</td><td>null</td><td>null</td><td>null</td><td>null</td><td>null</td><td>null</td><td>null</td><td>5</td><td>null</td><td>&hellip;</td><td>null</td><td>null</td><td>null</td><td>null</td><td>null</td><td>null</td><td>null</td><td>null</td><td>null</td><td>null</td><td>null</td><td>null</td><td>null</td><td>null</td><td>null</td><td>null</td><td>null</td><td>null</td><td>null</td><td>null</td><td>null</td><td>null</td><td>null</td><td>null</td><td>&quot;a55475b1&quot;</td><td>&quot;a55475b1&quot;</td><td>null</td><td>null</td><td>null</td><td>&quot;a55475b1&quot;</td><td>&quot;a55475b1&quot;</td><td>null</td><td>null</td><td>null</td><td>null</td><td>null</td><td>null</td></tr><tr><td>388</td><td>null</td><td>null</td><td>&quot;a55475b1&quot;</td><td>&quot;a55475b1&quot;</td><td>&quot;a55475b1&quot;</td><td>&quot;a55475b1&quot;</td><td>null</td><td>null</td><td>null</td><td>null</td><td>null</td><td>null</td><td>null</td><td>null</td><td>null</td><td>null</td><td>&quot;a55475b1&quot;</td><td>null</td><td>null</td><td>null</td><td>null</td><td>null</td><td>null</td><td>&quot;a55475b1&quot;</td><td>&quot;a55475b1&quot;</td><td>null</td><td>null</td><td>null</td><td>null</td><td>null</td><td>null</td><td>null</td><td>null</td><td>null</td><td>6</td><td>null</td><td>&hellip;</td><td>null</td><td>null</td><td>null</td><td>null</td><td>null</td><td>null</td><td>null</td><td>null</td><td>null</td><td>null</td><td>null</td><td>null</td><td>null</td><td>null</td><td>null</td><td>null</td><td>null</td><td>null</td><td>null</td><td>null</td><td>null</td><td>null</td><td>null</td><td>null</td><td>&quot;a55475b1&quot;</td><td>&quot;a55475b1&quot;</td><td>2019-01-03</td><td>null</td><td>null</td><td>&quot;a55475b1&quot;</td><td>&quot;a55475b1&quot;</td><td>null</td><td>null</td><td>null</td><td>null</td><td>null</td><td>null</td></tr><tr><td>388</td><td>null</td><td>null</td><td>&quot;a55475b1&quot;</td><td>&quot;a55475b1&quot;</td><td>&quot;a55475b1&quot;</td><td>&quot;a55475b1&quot;</td><td>null</td><td>null</td><td>null</td><td>null</td><td>null</td><td>null</td><td>null</td><td>null</td><td>null</td><td>null</td><td>&quot;a55475b1&quot;</td><td>null</td><td>null</td><td>null</td><td>null</td><td>null</td><td>null</td><td>&quot;a55475b1&quot;</td><td>&quot;a55475b1&quot;</td><td>null</td><td>null</td><td>null</td><td>null</td><td>null</td><td>null</td><td>null</td><td>null</td><td>null</td><td>7</td><td>null</td><td>&hellip;</td><td>null</td><td>null</td><td>null</td><td>null</td><td>null</td><td>null</td><td>null</td><td>null</td><td>null</td><td>null</td><td>null</td><td>null</td><td>null</td><td>null</td><td>null</td><td>null</td><td>null</td><td>null</td><td>null</td><td>null</td><td>null</td><td>null</td><td>null</td><td>null</td><td>&quot;a55475b1&quot;</td><td>&quot;a55475b1&quot;</td><td>2019-01-24</td><td>null</td><td>null</td><td>&quot;a55475b1&quot;</td><td>&quot;a55475b1&quot;</td><td>null</td><td>null</td><td>null</td><td>null</td><td>null</td><td>null</td></tr><tr><td>388</td><td>null</td><td>null</td><td>&quot;a55475b1&quot;</td><td>&quot;a55475b1&quot;</td><td>&quot;a55475b1&quot;</td><td>&quot;a55475b1&quot;</td><td>null</td><td>null</td><td>null</td><td>null</td><td>null</td><td>null</td><td>null</td><td>null</td><td>null</td><td>null</td><td>&quot;a55475b1&quot;</td><td>null</td><td>null</td><td>null</td><td>null</td><td>null</td><td>null</td><td>&quot;a55475b1&quot;</td><td>&quot;a55475b1&quot;</td><td>null</td><td>null</td><td>null</td><td>null</td><td>null</td><td>null</td><td>null</td><td>null</td><td>null</td><td>8</td><td>null</td><td>&hellip;</td><td>null</td><td>null</td><td>null</td><td>null</td><td>null</td><td>null</td><td>null</td><td>null</td><td>null</td><td>null</td><td>null</td><td>null</td><td>null</td><td>null</td><td>null</td><td>null</td><td>null</td><td>null</td><td>null</td><td>null</td><td>null</td><td>null</td><td>null</td><td>null</td><td>&quot;a55475b1&quot;</td><td>&quot;a55475b1&quot;</td><td>2018-11-02</td><td>null</td><td>null</td><td>&quot;a55475b1&quot;</td><td>&quot;a55475b1&quot;</td><td>null</td><td>null</td><td>null</td><td>null</td><td>null</td><td>null</td></tr><tr><td>388</td><td>null</td><td>null</td><td>&quot;a55475b1&quot;</td><td>&quot;a55475b1&quot;</td><td>&quot;a55475b1&quot;</td><td>&quot;a55475b1&quot;</td><td>null</td><td>null</td><td>null</td><td>null</td><td>null</td><td>null</td><td>null</td><td>null</td><td>null</td><td>null</td><td>&quot;a55475b1&quot;</td><td>null</td><td>null</td><td>null</td><td>null</td><td>null</td><td>null</td><td>&quot;a55475b1&quot;</td><td>&quot;a55475b1&quot;</td><td>null</td><td>null</td><td>null</td><td>null</td><td>null</td><td>null</td><td>null</td><td>null</td><td>null</td><td>9</td><td>null</td><td>&hellip;</td><td>null</td><td>null</td><td>null</td><td>null</td><td>null</td><td>null</td><td>null</td><td>null</td><td>null</td><td>null</td><td>null</td><td>null</td><td>null</td><td>null</td><td>null</td><td>null</td><td>null</td><td>null</td><td>null</td><td>null</td><td>null</td><td>null</td><td>null</td><td>null</td><td>&quot;a55475b1&quot;</td><td>&quot;a55475b1&quot;</td><td>2019-01-09</td><td>null</td><td>null</td><td>&quot;a55475b1&quot;</td><td>&quot;a55475b1&quot;</td><td>null</td><td>null</td><td>null</td><td>null</td><td>null</td><td>null</td></tr><tr><td>388</td><td>null</td><td>null</td><td>&quot;a55475b1&quot;</td><td>&quot;a55475b1&quot;</td><td>&quot;a55475b1&quot;</td><td>&quot;a55475b1&quot;</td><td>null</td><td>null</td><td>null</td><td>null</td><td>null</td><td>null</td><td>null</td><td>null</td><td>null</td><td>null</td><td>&quot;a55475b1&quot;</td><td>null</td><td>null</td><td>null</td><td>null</td><td>null</td><td>null</td><td>&quot;a55475b1&quot;</td><td>&quot;a55475b1&quot;</td><td>null</td><td>null</td><td>null</td><td>null</td><td>null</td><td>null</td><td>null</td><td>null</td><td>null</td><td>10</td><td>null</td><td>&hellip;</td><td>null</td><td>null</td><td>null</td><td>null</td><td>null</td><td>null</td><td>null</td><td>null</td><td>null</td><td>null</td><td>null</td><td>null</td><td>null</td><td>null</td><td>null</td><td>null</td><td>null</td><td>null</td><td>null</td><td>null</td><td>null</td><td>null</td><td>null</td><td>null</td><td>&quot;a55475b1&quot;</td><td>&quot;a55475b1&quot;</td><td>2018-12-19</td><td>null</td><td>null</td><td>&quot;a55475b1&quot;</td><td>&quot;a55475b1&quot;</td><td>null</td><td>null</td><td>null</td><td>null</td><td>null</td><td>null</td></tr><tr><td>405</td><td>null</td><td>null</td><td>&quot;ea6782cc&quot;</td><td>&quot;a55475b1&quot;</td><td>&quot;7241344e&quot;</td><td>&quot;a55475b1&quot;</td><td>null</td><td>null</td><td>0.0</td><td>2020-06-06</td><td>null</td><td>null</td><td>2012-06-06</td><td>null</td><td>224467.5</td><td>0.0</td><td>&quot;a55475b1&quot;</td><td>0.0</td><td>null</td><td>null</td><td>2.0</td><td>2017.0</td><td>null</td><td>&quot;a55475b1&quot;</td><td>&quot;P204_66_73&quot;</td><td>0.0</td><td>null</td><td>null</td><td>2019-01-11</td><td>null</td><td>0.0</td><td>null</td><td>null</td><td>null</td><td>0</td><td>2.0</td><td>&hellip;</td><td>0.0</td><td>null</td><td>null</td><td>null</td><td>0.0</td><td>null</td><td>null</td><td>null</td><td>null</td><td>0.0</td><td>0.0</td><td>null</td><td>null</td><td>null</td><td>0.0</td><td>null</td><td>null</td><td>2.0</td><td>2017.0</td><td>null</td><td>null</td><td>null</td><td>null</td><td>null</td><td>&quot;60c73645&quot;</td><td>&quot;a55475b1&quot;</td><td>null</td><td>null</td><td>0.0</td><td>&quot;ab3c25cf&quot;</td><td>&quot;a55475b1&quot;</td><td>null</td><td>null</td><td>0.0</td><td>null</td><td>224467.5</td><td>null</td></tr><tr><td>&hellip;</td><td>&hellip;</td><td>&hellip;</td><td>&hellip;</td><td>&hellip;</td><td>&hellip;</td><td>&hellip;</td><td>&hellip;</td><td>&hellip;</td><td>&hellip;</td><td>&hellip;</td><td>&hellip;</td><td>&hellip;</td><td>&hellip;</td><td>&hellip;</td><td>&hellip;</td><td>&hellip;</td><td>&hellip;</td><td>&hellip;</td><td>&hellip;</td><td>&hellip;</td><td>&hellip;</td><td>&hellip;</td><td>&hellip;</td><td>&hellip;</td><td>&hellip;</td><td>&hellip;</td><td>&hellip;</td><td>&hellip;</td><td>&hellip;</td><td>&hellip;</td><td>&hellip;</td><td>&hellip;</td><td>&hellip;</td><td>&hellip;</td><td>&hellip;</td><td>&hellip;</td><td>&hellip;</td><td>&hellip;</td><td>&hellip;</td><td>&hellip;</td><td>&hellip;</td><td>&hellip;</td><td>&hellip;</td><td>&hellip;</td><td>&hellip;</td><td>&hellip;</td><td>&hellip;</td><td>&hellip;</td><td>&hellip;</td><td>&hellip;</td><td>&hellip;</td><td>&hellip;</td><td>&hellip;</td><td>&hellip;</td><td>&hellip;</td><td>&hellip;</td><td>&hellip;</td><td>&hellip;</td><td>&hellip;</td><td>&hellip;</td><td>&hellip;</td><td>&hellip;</td><td>&hellip;</td><td>&hellip;</td><td>&hellip;</td><td>&hellip;</td><td>&hellip;</td><td>&hellip;</td><td>&hellip;</td><td>&hellip;</td><td>&hellip;</td><td>&hellip;</td><td>&hellip;</td><td>&hellip;</td></tr><tr><td>2588480</td><td>null</td><td>null</td><td>&quot;a55475b1&quot;</td><td>&quot;a55475b1&quot;</td><td>&quot;a55475b1&quot;</td><td>&quot;a55475b1&quot;</td><td>null</td><td>null</td><td>null</td><td>null</td><td>null</td><td>null</td><td>null</td><td>null</td><td>null</td><td>null</td><td>&quot;a55475b1&quot;</td><td>null</td><td>null</td><td>null</td><td>null</td><td>null</td><td>null</td><td>&quot;a55475b1&quot;</td><td>&quot;a55475b1&quot;</td><td>null</td><td>null</td><td>null</td><td>null</td><td>null</td><td>null</td><td>null</td><td>null</td><td>null</td><td>11</td><td>null</td><td>&hellip;</td><td>null</td><td>null</td><td>null</td><td>null</td><td>null</td><td>null</td><td>null</td><td>null</td><td>null</td><td>null</td><td>null</td><td>null</td><td>null</td><td>null</td><td>null</td><td>null</td><td>null</td><td>null</td><td>null</td><td>null</td><td>null</td><td>null</td><td>null</td><td>null</td><td>&quot;a55475b1&quot;</td><td>&quot;a55475b1&quot;</td><td>null</td><td>null</td><td>null</td><td>&quot;a55475b1&quot;</td><td>&quot;a55475b1&quot;</td><td>null</td><td>null</td><td>null</td><td>null</td><td>null</td><td>null</td></tr><tr><td>2588481</td><td>null</td><td>null</td><td>&quot;ea6782cc&quot;</td><td>&quot;ea6782cc&quot;</td><td>&quot;7241344e&quot;</td><td>&quot;7241344e&quot;</td><td>null</td><td>null</td><td>26380.0</td><td>2020-10-02</td><td>2016-03-28</td><td>2015-12-28</td><td>2018-10-02</td><td>2016-03-25</td><td>23712.791</td><td>0.0</td><td>&quot;a55475b1&quot;</td><td>0.0</td><td>0.0</td><td>&quot;1.0&quot;</td><td>10.0</td><td>2018.0</td><td>&quot;2016.0&quot;</td><td>&quot;Home Credit&quot;</td><td>&quot;P204_66_73&quot;</td><td>3132.0</td><td>null</td><td>null</td><td>2019-06-27</td><td>2016-03-26</td><td>3132.0</td><td>2059.6</td><td>null</td><td>&quot;45.0&quot;</td><td>0</td><td>2.0</td><td>&hellip;</td><td>0.0</td><td>&quot;0.0&quot;</td><td>null</td><td>null</td><td>0.0</td><td>&quot;0.0&quot;</td><td>0.0</td><td>null</td><td>0.0</td><td>0.0</td><td>0.0</td><td>0.0</td><td>null</td><td>null</td><td>0.0</td><td>0.0</td><td>&quot;1.0&quot;</td><td>10.0</td><td>2018.0</td><td>&quot;2016.0&quot;</td><td>&quot;30.0&quot;</td><td>null</td><td>null</td><td>null</td><td>&quot;60c73645&quot;</td><td>&quot;60c73645&quot;</td><td>null</td><td>null</td><td>12416.88</td><td>&quot;ab3c25cf&quot;</td><td>&quot;ab3c25cf&quot;</td><td>5740.8003</td><td>null</td><td>0.0</td><td>0.0</td><td>23712.791</td><td>0.0</td></tr><tr><td>2588481</td><td>null</td><td>null</td><td>&quot;ea6782cc&quot;</td><td>&quot;a55475b1&quot;</td><td>&quot;7241344e&quot;</td><td>&quot;a55475b1&quot;</td><td>null</td><td>null</td><td>null</td><td>2019-11-07</td><td>null</td><td>null</td><td>2018-11-07</td><td>null</td><td>null</td><td>null</td><td>&quot;a55475b1&quot;</td><td>14.0</td><td>null</td><td>null</td><td>4.0</td><td>2019.0</td><td>null</td><td>&quot;a55475b1&quot;</td><td>&quot;Home Credit&quot;</td><td>null</td><td>null</td><td>null</td><td>2019-06-25</td><td>null</td><td>2451.0</td><td>null</td><td>42.0</td><td>null</td><td>1</td><td>null</td><td>&hellip;</td><td>16.0</td><td>null</td><td>null</td><td>2019-03-26</td><td>0.0</td><td>null</td><td>null</td><td>11295.91</td><td>null</td><td>0.0</td><td>4.0</td><td>null</td><td>null</td><td>2019-03-26</td><td>4.0</td><td>null</td><td>null</td><td>4.0</td><td>2019.0</td><td>null</td><td>null</td><td>30.0</td><td>null</td><td>null</td><td>&quot;60c73645&quot;</td><td>&quot;a55475b1&quot;</td><td>null</td><td>null</td><td>null</td><td>&quot;a55475b1&quot;</td><td>&quot;a55475b1&quot;</td><td>null</td><td>23682.8</td><td>null</td><td>null</td><td>null</td><td>null</td></tr><tr><td>2588481</td><td>null</td><td>null</td><td>&quot;a55475b1&quot;</td><td>&quot;a55475b1&quot;</td><td>&quot;a55475b1&quot;</td><td>&quot;a55475b1&quot;</td><td>null</td><td>null</td><td>null</td><td>null</td><td>null</td><td>null</td><td>null</td><td>null</td><td>null</td><td>null</td><td>&quot;a55475b1&quot;</td><td>null</td><td>null</td><td>null</td><td>null</td><td>null</td><td>null</td><td>&quot;a55475b1&quot;</td><td>&quot;a55475b1&quot;</td><td>null</td><td>null</td><td>null</td><td>null</td><td>null</td><td>null</td><td>null</td><td>null</td><td>null</td><td>2</td><td>null</td><td>&hellip;</td><td>null</td><td>null</td><td>null</td><td>null</td><td>null</td><td>null</td><td>null</td><td>null</td><td>null</td><td>null</td><td>null</td><td>null</td><td>null</td><td>null</td><td>null</td><td>null</td><td>null</td><td>null</td><td>null</td><td>null</td><td>null</td><td>null</td><td>null</td><td>null</td><td>&quot;a55475b1&quot;</td><td>&quot;a55475b1&quot;</td><td>2019-07-07</td><td>null</td><td>null</td><td>&quot;a55475b1&quot;</td><td>&quot;a55475b1&quot;</td><td>null</td><td>null</td><td>null</td><td>null</td><td>null</td><td>null</td></tr><tr><td>2588481</td><td>null</td><td>null</td><td>&quot;a55475b1&quot;</td><td>&quot;a55475b1&quot;</td><td>&quot;a55475b1&quot;</td><td>&quot;a55475b1&quot;</td><td>null</td><td>null</td><td>null</td><td>null</td><td>null</td><td>null</td><td>null</td><td>null</td><td>null</td><td>null</td><td>&quot;a55475b1&quot;</td><td>null</td><td>null</td><td>null</td><td>null</td><td>null</td><td>null</td><td>&quot;a55475b1&quot;</td><td>&quot;a55475b1&quot;</td><td>null</td><td>null</td><td>null</td><td>null</td><td>null</td><td>null</td><td>null</td><td>null</td><td>null</td><td>3</td><td>null</td><td>&hellip;</td><td>null</td><td>null</td><td>null</td><td>null</td><td>null</td><td>null</td><td>null</td><td>null</td><td>null</td><td>null</td><td>null</td><td>null</td><td>null</td><td>null</td><td>null</td><td>null</td><td>null</td><td>null</td><td>null</td><td>null</td><td>null</td><td>null</td><td>null</td><td>null</td><td>&quot;a55475b1&quot;</td><td>&quot;a55475b1&quot;</td><td>2019-07-08</td><td>null</td><td>null</td><td>&quot;a55475b1&quot;</td><td>&quot;a55475b1&quot;</td><td>null</td><td>null</td><td>null</td><td>null</td><td>null</td><td>null</td></tr><tr><td>2588481</td><td>null</td><td>null</td><td>&quot;a55475b1&quot;</td><td>&quot;a55475b1&quot;</td><td>&quot;a55475b1&quot;</td><td>&quot;a55475b1&quot;</td><td>null</td><td>null</td><td>null</td><td>null</td><td>null</td><td>null</td><td>null</td><td>null</td><td>null</td><td>null</td><td>&quot;a55475b1&quot;</td><td>null</td><td>null</td><td>null</td><td>null</td><td>null</td><td>null</td><td>&quot;a55475b1&quot;</td><td>&quot;a55475b1&quot;</td><td>null</td><td>null</td><td>null</td><td>null</td><td>null</td><td>null</td><td>null</td><td>null</td><td>null</td><td>4</td><td>null</td><td>&hellip;</td><td>null</td><td>null</td><td>null</td><td>null</td><td>null</td><td>null</td><td>null</td><td>null</td><td>null</td><td>null</td><td>null</td><td>null</td><td>null</td><td>null</td><td>null</td><td>null</td><td>null</td><td>null</td><td>null</td><td>null</td><td>null</td><td>null</td><td>null</td><td>null</td><td>&quot;a55475b1&quot;</td><td>&quot;a55475b1&quot;</td><td>2019-07-08</td><td>null</td><td>null</td><td>&quot;a55475b1&quot;</td><td>&quot;a55475b1&quot;</td><td>null</td><td>null</td><td>null</td><td>null</td><td>null</td><td>null</td></tr><tr><td>2588481</td><td>null</td><td>null</td><td>&quot;a55475b1&quot;</td><td>&quot;a55475b1&quot;</td><td>&quot;a55475b1&quot;</td><td>&quot;a55475b1&quot;</td><td>null</td><td>null</td><td>null</td><td>null</td><td>null</td><td>null</td><td>null</td><td>null</td><td>null</td><td>null</td><td>&quot;a55475b1&quot;</td><td>null</td><td>null</td><td>null</td><td>null</td><td>null</td><td>null</td><td>&quot;a55475b1&quot;</td><td>&quot;a55475b1&quot;</td><td>null</td><td>null</td><td>null</td><td>null</td><td>null</td><td>null</td><td>null</td><td>null</td><td>null</td><td>5</td><td>null</td><td>&hellip;</td><td>null</td><td>null</td><td>null</td><td>null</td><td>null</td><td>null</td><td>null</td><td>null</td><td>null</td><td>null</td><td>null</td><td>null</td><td>null</td><td>null</td><td>null</td><td>null</td><td>null</td><td>null</td><td>null</td><td>null</td><td>null</td><td>null</td><td>null</td><td>null</td><td>&quot;a55475b1&quot;</td><td>&quot;a55475b1&quot;</td><td>null</td><td>null</td><td>null</td><td>&quot;a55475b1&quot;</td><td>&quot;a55475b1&quot;</td><td>null</td><td>null</td><td>null</td><td>null</td><td>null</td><td>null</td></tr><tr><td>2588481</td><td>null</td><td>null</td><td>&quot;a55475b1&quot;</td><td>&quot;a55475b1&quot;</td><td>&quot;a55475b1&quot;</td><td>&quot;a55475b1&quot;</td><td>null</td><td>null</td><td>null</td><td>null</td><td>null</td><td>null</td><td>null</td><td>null</td><td>null</td><td>null</td><td>&quot;a55475b1&quot;</td><td>null</td><td>null</td><td>null</td><td>null</td><td>null</td><td>null</td><td>&quot;a55475b1&quot;</td><td>&quot;a55475b1&quot;</td><td>null</td><td>null</td><td>null</td><td>null</td><td>null</td><td>null</td><td>null</td><td>null</td><td>null</td><td>6</td><td>null</td><td>&hellip;</td><td>null</td><td>null</td><td>null</td><td>null</td><td>null</td><td>null</td><td>null</td><td>null</td><td>null</td><td>null</td><td>null</td><td>null</td><td>null</td><td>null</td><td>null</td><td>null</td><td>null</td><td>null</td><td>null</td><td>null</td><td>null</td><td>null</td><td>null</td><td>null</td><td>&quot;a55475b1&quot;</td><td>&quot;a55475b1&quot;</td><td>2019-01-03</td><td>null</td><td>null</td><td>&quot;a55475b1&quot;</td><td>&quot;a55475b1&quot;</td><td>null</td><td>null</td><td>null</td><td>null</td><td>null</td><td>null</td></tr><tr><td>2588481</td><td>null</td><td>null</td><td>&quot;a55475b1&quot;</td><td>&quot;a55475b1&quot;</td><td>&quot;a55475b1&quot;</td><td>&quot;a55475b1&quot;</td><td>null</td><td>null</td><td>null</td><td>null</td><td>null</td><td>null</td><td>null</td><td>null</td><td>null</td><td>null</td><td>&quot;a55475b1&quot;</td><td>null</td><td>null</td><td>null</td><td>null</td><td>null</td><td>null</td><td>&quot;a55475b1&quot;</td><td>&quot;a55475b1&quot;</td><td>null</td><td>null</td><td>null</td><td>null</td><td>null</td><td>null</td><td>null</td><td>null</td><td>null</td><td>7</td><td>null</td><td>&hellip;</td><td>null</td><td>null</td><td>null</td><td>null</td><td>null</td><td>null</td><td>null</td><td>null</td><td>null</td><td>null</td><td>null</td><td>null</td><td>null</td><td>null</td><td>null</td><td>null</td><td>null</td><td>null</td><td>null</td><td>null</td><td>null</td><td>null</td><td>null</td><td>null</td><td>&quot;a55475b1&quot;</td><td>&quot;a55475b1&quot;</td><td>2019-07-01</td><td>null</td><td>null</td><td>&quot;a55475b1&quot;</td><td>&quot;a55475b1&quot;</td><td>null</td><td>null</td><td>null</td><td>null</td><td>null</td><td>null</td></tr><tr><td>2588481</td><td>null</td><td>null</td><td>&quot;a55475b1&quot;</td><td>&quot;a55475b1&quot;</td><td>&quot;a55475b1&quot;</td><td>&quot;a55475b1&quot;</td><td>null</td><td>null</td><td>null</td><td>null</td><td>null</td><td>null</td><td>null</td><td>null</td><td>null</td><td>null</td><td>&quot;a55475b1&quot;</td><td>null</td><td>null</td><td>null</td><td>null</td><td>null</td><td>null</td><td>&quot;a55475b1&quot;</td><td>&quot;a55475b1&quot;</td><td>null</td><td>null</td><td>null</td><td>null</td><td>null</td><td>null</td><td>null</td><td>null</td><td>null</td><td>8</td><td>null</td><td>&hellip;</td><td>null</td><td>null</td><td>null</td><td>null</td><td>null</td><td>null</td><td>null</td><td>null</td><td>null</td><td>null</td><td>null</td><td>null</td><td>null</td><td>null</td><td>null</td><td>null</td><td>null</td><td>null</td><td>null</td><td>null</td><td>null</td><td>null</td><td>null</td><td>null</td><td>&quot;a55475b1&quot;</td><td>&quot;a55475b1&quot;</td><td>2019-05-04</td><td>null</td><td>null</td><td>&quot;a55475b1&quot;</td><td>&quot;a55475b1&quot;</td><td>null</td><td>null</td><td>null</td><td>null</td><td>null</td><td>null</td></tr><tr><td>2588481</td><td>null</td><td>null</td><td>&quot;a55475b1&quot;</td><td>&quot;a55475b1&quot;</td><td>&quot;a55475b1&quot;</td><td>&quot;a55475b1&quot;</td><td>null</td><td>null</td><td>null</td><td>null</td><td>null</td><td>null</td><td>null</td><td>null</td><td>null</td><td>null</td><td>&quot;a55475b1&quot;</td><td>null</td><td>null</td><td>null</td><td>null</td><td>null</td><td>null</td><td>&quot;a55475b1&quot;</td><td>&quot;a55475b1&quot;</td><td>null</td><td>null</td><td>null</td><td>null</td><td>null</td><td>null</td><td>null</td><td>null</td><td>null</td><td>9</td><td>null</td><td>&hellip;</td><td>null</td><td>null</td><td>null</td><td>null</td><td>null</td><td>null</td><td>null</td><td>null</td><td>null</td><td>null</td><td>null</td><td>null</td><td>null</td><td>null</td><td>null</td><td>null</td><td>null</td><td>null</td><td>null</td><td>null</td><td>null</td><td>null</td><td>null</td><td>null</td><td>&quot;a55475b1&quot;</td><td>&quot;a55475b1&quot;</td><td>2019-02-06</td><td>null</td><td>null</td><td>&quot;a55475b1&quot;</td><td>&quot;a55475b1&quot;</td><td>null</td><td>null</td><td>null</td><td>null</td><td>null</td><td>null</td></tr><tr><td>2588481</td><td>null</td><td>null</td><td>&quot;a55475b1&quot;</td><td>&quot;a55475b1&quot;</td><td>&quot;a55475b1&quot;</td><td>&quot;a55475b1&quot;</td><td>null</td><td>null</td><td>null</td><td>null</td><td>null</td><td>null</td><td>null</td><td>null</td><td>null</td><td>null</td><td>&quot;a55475b1&quot;</td><td>null</td><td>null</td><td>null</td><td>null</td><td>null</td><td>null</td><td>&quot;a55475b1&quot;</td><td>&quot;a55475b1&quot;</td><td>null</td><td>null</td><td>null</td><td>null</td><td>null</td><td>null</td><td>null</td><td>null</td><td>null</td><td>10</td><td>null</td><td>&hellip;</td><td>null</td><td>null</td><td>null</td><td>null</td><td>null</td><td>null</td><td>null</td><td>null</td><td>null</td><td>null</td><td>null</td><td>null</td><td>null</td><td>null</td><td>null</td><td>null</td><td>null</td><td>null</td><td>null</td><td>null</td><td>null</td><td>null</td><td>null</td><td>null</td><td>&quot;a55475b1&quot;</td><td>&quot;a55475b1&quot;</td><td>2019-05-03</td><td>null</td><td>null</td><td>&quot;a55475b1&quot;</td><td>&quot;a55475b1&quot;</td><td>null</td><td>null</td><td>null</td><td>null</td><td>null</td><td>null</td></tr></tbody></table></div>"
      ],
      "text/plain": [
       "shape: (4_108_212, 79)\n",
       "┌─────────┬────────────┬───────────┬───────────┬───┬───────────┬───────────┬───────────┬───────────┐\n",
       "│ case_id ┆ annualeffe ┆ annualeff ┆ classific ┆ … ┆ totaldebt ┆ totaldebt ┆ totalouts ┆ totalouts │\n",
       "│ ---     ┆ ctiverate_ ┆ ectiverat ┆ ationofco ┆   ┆ overdueva ┆ overdueva ┆ tanddebtv ┆ tanddebtv │\n",
       "│ i64     ┆ 199L       ┆ e_63L     ┆ ntr_13M   ┆   ┆ lue_178A  ┆ lue_718A  ┆ alue_39A  ┆ alue_668A │\n",
       "│         ┆ ---        ┆ ---       ┆ ---       ┆   ┆ ---       ┆ ---       ┆ ---       ┆ ---       │\n",
       "│         ┆ str        ┆ f64       ┆ str       ┆   ┆ f64       ┆ f64       ┆ f64       ┆ f64       │\n",
       "╞═════════╪════════════╪═══════════╪═══════════╪═══╪═══════════╪═══════════╪═══════════╪═══════════╡\n",
       "│ 388     ┆ null       ┆ null      ┆ 4408ff0f  ┆ … ┆ 0.0       ┆ 0.0       ┆ 374419.5  ┆ 0.0       │\n",
       "│ 388     ┆ null       ┆ null      ┆ ea6782cc  ┆ … ┆ null      ┆ null      ┆ null      ┆ null      │\n",
       "│ 388     ┆ null       ┆ null      ┆ a55475b1  ┆ … ┆ null      ┆ null      ┆ null      ┆ null      │\n",
       "│ 388     ┆ null       ┆ null      ┆ a55475b1  ┆ … ┆ null      ┆ null      ┆ null      ┆ null      │\n",
       "│ 388     ┆ null       ┆ null      ┆ a55475b1  ┆ … ┆ null      ┆ null      ┆ null      ┆ null      │\n",
       "│ …       ┆ …          ┆ …         ┆ …         ┆ … ┆ …         ┆ …         ┆ …         ┆ …         │\n",
       "│ 2588481 ┆ null       ┆ null      ┆ a55475b1  ┆ … ┆ null      ┆ null      ┆ null      ┆ null      │\n",
       "│ 2588481 ┆ null       ┆ null      ┆ a55475b1  ┆ … ┆ null      ┆ null      ┆ null      ┆ null      │\n",
       "│ 2588481 ┆ null       ┆ null      ┆ a55475b1  ┆ … ┆ null      ┆ null      ┆ null      ┆ null      │\n",
       "│ 2588481 ┆ null       ┆ null      ┆ a55475b1  ┆ … ┆ null      ┆ null      ┆ null      ┆ null      │\n",
       "│ 2588481 ┆ null       ┆ null      ┆ a55475b1  ┆ … ┆ null      ┆ null      ┆ null      ┆ null      │\n",
       "└─────────┴────────────┴───────────┴───────────┴───┴───────────┴───────────┴───────────┴───────────┘"
      ]
     },
     "execution_count": 6,
     "metadata": {},
     "output_type": "execute_result"
    }
   ],
   "source": [
    "train_credit_bureau_a_1_0"
   ]
  },
  {
   "cell_type": "markdown",
   "metadata": {},
   "source": [
    "tax_registry_a_1"
   ]
  },
  {
   "cell_type": "code",
   "execution_count": null,
   "metadata": {},
   "outputs": [],
   "source": [
    "tax_registry_a_1 = pl.read_csv(train_path + 'train_tax_registry_a_1.csv').pipe(set_dtypes)"
   ]
  },
  {
   "cell_type": "markdown",
   "metadata": {},
   "source": [
    "### Depth 2\n",
    "\n",
    "- aggregate by case_is, num_group1"
   ]
  },
  {
   "cell_type": "markdown",
   "metadata": {},
   "source": [
    "applprev_2"
   ]
  },
  {
   "cell_type": "code",
   "execution_count": null,
   "metadata": {},
   "outputs": [],
   "source": [
    "def applprev_2_cleaning():\n",
    "    train_applprev_2 = pl.read_csv(train_path + 'train_applprev_2.csv').pipe(set_dtypes)\n",
    "    base_columns = ['case_id', 'num_group1', 'num_group2']\n",
    "    tar_columns = [col for col in train_applprev_2.columns if col not in base_columns]\n",
    "    train_applprev_2_miss_fil = missing_value_pct(train_applprev_2, base_columns, tar_columns, 0.90)\n",
    "    train_applprev_2_agg = train_applprev_2_miss_fil.group_by(['case_id','conts_type_509L']).agg(pl.count().alias('type_count'))\n",
    "    train_applprev_2_agg.write_csv(result_path + 'train_applprev_2_agg.csv')\n",
    "    \n",
    "applprev_2_cleaning()"
   ]
  },
  {
   "cell_type": "markdown",
   "metadata": {},
   "source": [
    "person_2"
   ]
  },
  {
   "cell_type": "code",
   "execution_count": null,
   "metadata": {},
   "outputs": [],
   "source": [
    "def person_2_cleaning():\n",
    "    train_person_2 = pl.read_csv(train_path + 'train_person_2.csv').pipe(set_dtypes)\n",
    "    base_columns = ['case_id', 'num_group1', 'num_group2']\n",
    "    tar_columns = [col for col in train_person_2.columns if col not in base_columns]\n",
    "    train_person_2_miss_fil = missing_value_pct(train_person_2, base_columns, tar_columns, 0.90)\n",
    "    train_person_2_miss_fil.write_csv(result_path + 'train_person_2_miss_fil.csv')\n",
    "    \n",
    "person_2_cleaning()"
   ]
  },
  {
   "cell_type": "markdown",
   "metadata": {},
   "source": [
    "# Aggregations"
   ]
  },
  {
   "cell_type": "markdown",
   "metadata": {},
   "source": [
    "### Depth 2"
   ]
  },
  {
   "cell_type": "markdown",
   "metadata": {},
   "source": [
    "person_2"
   ]
  },
  {
   "cell_type": "code",
   "execution_count": null,
   "metadata": {},
   "outputs": [],
   "source": [
    "def get_mode_value(primary_keys, value):\n",
    "    return (\n",
    "        pl.col(value)\n",
    "        .drop_nulls()\n",
    "        .mode()\n",
    "        .first()\n",
    "        .over(primary_keys)\n",
    "        .alias(f'mode_{value}')\n",
    "    )"
   ]
  },
  {
   "cell_type": "code",
   "execution_count": null,
   "metadata": {},
   "outputs": [],
   "source": [
    "train_person_2_miss_fil = pl.read_csv(result_path + 'train_person_2_miss_fil.csv')\n",
    "\n",
    "columns_to_process = ['addres_district_368M', 'addres_zip_823M', 'conts_role_79M', 'empls_economicalst_849M', 'empls_employer_name_740M']\n",
    "train_person_2_agg = train_base.select(pl.col(['case_id']))\n",
    "for col in columns_to_process:\n",
    "    temp = (train_person_2_miss_fil.with_columns([\n",
    "                get_mode_value(primary_keys=['case_id'], value=col)\n",
    "            ])\n",
    "            .select(pl.col(['case_id',f'mode_{col}']))\n",
    "            .unique())\n",
    "    \n",
    "    train_person_2_agg = train_person_2_agg.join(temp, on='case_id', how='left')"
   ]
  }
 ],
 "metadata": {
  "kernelspec": {
   "display_name": "base",
   "language": "python",
   "name": "python3"
  },
  "language_info": {
   "codemirror_mode": {
    "name": "ipython",
    "version": 3
   },
   "file_extension": ".py",
   "mimetype": "text/x-python",
   "name": "python",
   "nbconvert_exporter": "python",
   "pygments_lexer": "ipython3",
   "version": "3.10.9"
  }
 },
 "nbformat": 4,
 "nbformat_minor": 2
}
