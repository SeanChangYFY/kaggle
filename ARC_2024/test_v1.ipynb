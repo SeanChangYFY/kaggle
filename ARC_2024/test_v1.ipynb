{
 "cells": [
  {
   "cell_type": "code",
   "execution_count": 1,
   "metadata": {},
   "outputs": [],
   "source": [
    "import json"
   ]
  },
  {
   "cell_type": "code",
   "execution_count": 2,
   "metadata": {},
   "outputs": [],
   "source": [
    "def read_json(data_path):\n",
    "    with open(data_path) as f:\n",
    "        data = json.load(f)\n",
    "    return data"
   ]
  },
  {
   "cell_type": "code",
   "execution_count": 7,
   "metadata": {},
   "outputs": [],
   "source": [
    "training_challenges_path = 'arc-prize-2024/arc-agi_training_challenges.json'\n",
    "\n",
    "train_raw = read_json(training_challenges_path)"
   ]
  },
  {
   "cell_type": "code",
   "execution_count": 15,
   "metadata": {},
   "outputs": [
    {
     "data": {
      "text/plain": [
       "400"
      ]
     },
     "execution_count": 15,
     "metadata": {},
     "output_type": "execute_result"
    }
   ],
   "source": [
    "# size of training data\n",
    "len(train_raw)"
   ]
  },
  {
   "cell_type": "code",
   "execution_count": 13,
   "metadata": {},
   "outputs": [
    {
     "data": {
      "text/plain": [
       "1"
      ]
     },
     "execution_count": 13,
     "metadata": {},
     "output_type": "execute_result"
    }
   ],
   "source": [
    "len(train_raw['007bbfb7']['train'])"
   ]
  },
  {
   "cell_type": "markdown",
   "metadata": {},
   "source": [
    "### Idea: Pattern Specific LLM\n",
    "Our objective is to train Language Models (LLMs) tailored to solve puzzles with specific patterns. This involves the following steps:\n",
    "\n",
    "1. Instruction Construction:\n",
    "- Develop clear prompts to define the training purpose for the model.\n",
    "\n",
    "2. Teaching the Model:\n",
    "- Train the model with a representative example of the target pattern from the dataset.\n",
    "3. Evaluation of Teaching:\n",
    "- Assess the model's performance by testing it with another example and evaluating the results using a specified evaluation function.\n",
    "\n",
    "4. Pattern Categorization:\n",
    "- Identify and categorize the distinct patterns in the training dataset.\n",
    "- Research to find existing pattern categorizations.\n",
    "- Determine the suitability of different models for various patterns."
   ]
  }
 ],
 "metadata": {
  "kernelspec": {
   "display_name": "base",
   "language": "python",
   "name": "python3"
  },
  "language_info": {
   "codemirror_mode": {
    "name": "ipython",
    "version": 3
   },
   "file_extension": ".py",
   "mimetype": "text/x-python",
   "name": "python",
   "nbconvert_exporter": "python",
   "pygments_lexer": "ipython3",
   "version": "3.11.5"
  }
 },
 "nbformat": 4,
 "nbformat_minor": 2
}
