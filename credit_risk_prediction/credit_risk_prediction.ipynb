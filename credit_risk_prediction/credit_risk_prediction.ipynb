{
 "cells": [
  {
   "cell_type": "markdown",
   "source": [
    "# Outline\n",
    "1. EDA\n",
    "2. Deal with missing value\n",
    "3. Feature engineering\n",
    "4. Preprocessing(normalization, skewness, imbalance)\n",
    "5. Model training\n",
    "6. Evaluation\n",
    "7. Prediction"
   ],
   "metadata": {
    "collapsed": false
   }
  },
  {
   "cell_type": "markdown",
   "source": [
    "# Libraries"
   ],
   "metadata": {
    "collapsed": false
   }
  },
  {
   "cell_type": "code",
   "execution_count": 1,
   "metadata": {
    "collapsed": true,
    "ExecuteTime": {
     "end_time": "2023-07-15T16:29:48.113716500Z",
     "start_time": "2023-07-15T16:29:48.104120300Z"
    }
   },
   "outputs": [],
   "source": [
    "import pandas as pd\n",
    "import numpy as np\n",
    "import matplotlib.pyplot as plt\n",
    "import seaborn as sns"
   ]
  },
  {
   "cell_type": "markdown",
   "source": [
    "# Helper functions"
   ],
   "metadata": {
    "collapsed": false
   }
  },
  {
   "cell_type": "code",
   "execution_count": 86,
   "outputs": [],
   "source": [
    "# show the missing value percentage for features\n",
    "def missing_value_percentage(df):\n",
    "    total = df.isnull().sum().sort_values(ascending=False)\n",
    "    percentage = (df.isnull().sum() / len(df)).sort_values(ascending=False)*100\n",
    "    percentage_str = percentage.map('{:.2f}%'.format)\n",
    "    missing_data = pd.concat([total, percentage_str], axis = 1, keys=['Total', 'Percentage'])\n",
    "    missing_data = missing_data[total > 0]\n",
    "\n",
    "    return missing_data"
   ],
   "metadata": {
    "collapsed": false
   }
  },
  {
   "cell_type": "code",
   "execution_count": 151,
   "outputs": [],
   "source": [
    "def random_select(df, target, features):\n",
    "    selection = df[target].sample(n=1).iloc[0]\n",
    "    df_selected = df[df[target] == selection][[target] + features]\n",
    "    return df_selected"
   ],
   "metadata": {
    "collapsed": false
   }
  },
  {
   "cell_type": "markdown",
   "source": [
    "| Feature Name                  | Description                                |\n",
    "|-------------------------------|--------------------------------------------|\n",
    "| `person_age`                  | Age                                        |\n",
    "| `person_income`               | Annual Income                              |\n",
    "| `person_home_ownership`       | Home ownership                             |\n",
    "| `person_emp_length`           | Employment length (in years)               |\n",
    "| `loan_intent`                 | Loan intent                                |\n",
    "| `loan_grade`                  | Loan grade                                 |\n",
    "| `loan_amnt`                   | Loan amount                                |\n",
    "| `loan_int_rate`               | Interest rate                              |\n",
    "| `loan_status`                 | Loan status (0 is non default 1 is default)|\n",
    "| `loan_percent_income`         | Percent income                             |\n",
    "| `cb_person_default_on_file`   | Historical default                         |\n",
    "| `cb_preson_cred_hist_length`  | Credit history length                      |\n"
   ],
   "metadata": {
    "collapsed": false
   }
  },
  {
   "cell_type": "code",
   "execution_count": 7,
   "outputs": [],
   "source": [
    "data = pd.read_csv(\"credit_risk_dataset.csv\")"
   ],
   "metadata": {
    "collapsed": false,
    "ExecuteTime": {
     "end_time": "2023-07-15T16:32:23.244542700Z",
     "start_time": "2023-07-15T16:32:23.204597400Z"
    }
   }
  },
  {
   "cell_type": "markdown",
   "source": [
    "# EDA"
   ],
   "metadata": {
    "collapsed": false
   }
  },
  {
   "cell_type": "code",
   "execution_count": 8,
   "outputs": [
    {
     "data": {
      "text/plain": "         person_age  person_income  person_emp_length     loan_amnt  \\\ncount  32581.000000   3.258100e+04       31686.000000  32581.000000   \nmean      27.734600   6.607485e+04           4.789686   9589.371106   \nstd        6.348078   6.198312e+04           4.142630   6322.086646   \nmin       20.000000   4.000000e+03           0.000000    500.000000   \n25%       23.000000   3.850000e+04           2.000000   5000.000000   \n50%       26.000000   5.500000e+04           4.000000   8000.000000   \n75%       30.000000   7.920000e+04           7.000000  12200.000000   \nmax      144.000000   6.000000e+06         123.000000  35000.000000   \n\n       loan_int_rate   loan_status  loan_percent_income  \\\ncount   29465.000000  32581.000000         32581.000000   \nmean       11.011695      0.218164             0.170203   \nstd         3.240459      0.413006             0.106782   \nmin         5.420000      0.000000             0.000000   \n25%         7.900000      0.000000             0.090000   \n50%        10.990000      0.000000             0.150000   \n75%        13.470000      0.000000             0.230000   \nmax        23.220000      1.000000             0.830000   \n\n       cb_person_cred_hist_length  \ncount                32581.000000  \nmean                     5.804211  \nstd                      4.055001  \nmin                      2.000000  \n25%                      3.000000  \n50%                      4.000000  \n75%                      8.000000  \nmax                     30.000000  ",
      "text/html": "<div>\n<style scoped>\n    .dataframe tbody tr th:only-of-type {\n        vertical-align: middle;\n    }\n\n    .dataframe tbody tr th {\n        vertical-align: top;\n    }\n\n    .dataframe thead th {\n        text-align: right;\n    }\n</style>\n<table border=\"1\" class=\"dataframe\">\n  <thead>\n    <tr style=\"text-align: right;\">\n      <th></th>\n      <th>person_age</th>\n      <th>person_income</th>\n      <th>person_emp_length</th>\n      <th>loan_amnt</th>\n      <th>loan_int_rate</th>\n      <th>loan_status</th>\n      <th>loan_percent_income</th>\n      <th>cb_person_cred_hist_length</th>\n    </tr>\n  </thead>\n  <tbody>\n    <tr>\n      <th>count</th>\n      <td>32581.000000</td>\n      <td>3.258100e+04</td>\n      <td>31686.000000</td>\n      <td>32581.000000</td>\n      <td>29465.000000</td>\n      <td>32581.000000</td>\n      <td>32581.000000</td>\n      <td>32581.000000</td>\n    </tr>\n    <tr>\n      <th>mean</th>\n      <td>27.734600</td>\n      <td>6.607485e+04</td>\n      <td>4.789686</td>\n      <td>9589.371106</td>\n      <td>11.011695</td>\n      <td>0.218164</td>\n      <td>0.170203</td>\n      <td>5.804211</td>\n    </tr>\n    <tr>\n      <th>std</th>\n      <td>6.348078</td>\n      <td>6.198312e+04</td>\n      <td>4.142630</td>\n      <td>6322.086646</td>\n      <td>3.240459</td>\n      <td>0.413006</td>\n      <td>0.106782</td>\n      <td>4.055001</td>\n    </tr>\n    <tr>\n      <th>min</th>\n      <td>20.000000</td>\n      <td>4.000000e+03</td>\n      <td>0.000000</td>\n      <td>500.000000</td>\n      <td>5.420000</td>\n      <td>0.000000</td>\n      <td>0.000000</td>\n      <td>2.000000</td>\n    </tr>\n    <tr>\n      <th>25%</th>\n      <td>23.000000</td>\n      <td>3.850000e+04</td>\n      <td>2.000000</td>\n      <td>5000.000000</td>\n      <td>7.900000</td>\n      <td>0.000000</td>\n      <td>0.090000</td>\n      <td>3.000000</td>\n    </tr>\n    <tr>\n      <th>50%</th>\n      <td>26.000000</td>\n      <td>5.500000e+04</td>\n      <td>4.000000</td>\n      <td>8000.000000</td>\n      <td>10.990000</td>\n      <td>0.000000</td>\n      <td>0.150000</td>\n      <td>4.000000</td>\n    </tr>\n    <tr>\n      <th>75%</th>\n      <td>30.000000</td>\n      <td>7.920000e+04</td>\n      <td>7.000000</td>\n      <td>12200.000000</td>\n      <td>13.470000</td>\n      <td>0.000000</td>\n      <td>0.230000</td>\n      <td>8.000000</td>\n    </tr>\n    <tr>\n      <th>max</th>\n      <td>144.000000</td>\n      <td>6.000000e+06</td>\n      <td>123.000000</td>\n      <td>35000.000000</td>\n      <td>23.220000</td>\n      <td>1.000000</td>\n      <td>0.830000</td>\n      <td>30.000000</td>\n    </tr>\n  </tbody>\n</table>\n</div>"
     },
     "execution_count": 8,
     "metadata": {},
     "output_type": "execute_result"
    }
   ],
   "source": [
    "data.describe()"
   ],
   "metadata": {
    "collapsed": false,
    "ExecuteTime": {
     "end_time": "2023-07-15T16:32:45.930181800Z",
     "start_time": "2023-07-15T16:32:45.881665400Z"
    }
   }
  }
 ],
 "metadata": {
  "kernelspec": {
   "display_name": "Python 3",
   "language": "python",
   "name": "python3"
  },
  "language_info": {
   "codemirror_mode": {
    "name": "ipython",
    "version": 2
   },
   "file_extension": ".py",
   "mimetype": "text/x-python",
   "name": "python",
   "nbconvert_exporter": "python",
   "pygments_lexer": "ipython2",
   "version": "2.7.6"
  }
 },
 "nbformat": 4,
 "nbformat_minor": 0
}
