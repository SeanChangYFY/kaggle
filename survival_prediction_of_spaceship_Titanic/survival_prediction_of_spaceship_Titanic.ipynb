{
 "cells": [
  {
   "attachments": {},
   "cell_type": "markdown",
   "metadata": {},
   "source": [
    "# Intoduction"
   ]
  },
  {
   "attachments": {},
   "cell_type": "markdown",
   "metadata": {},
   "source": [
    "This notebook represents my first participation to a Kaggle competition.\n",
    "\n",
    "My goal is following:\n",
    "1. Explore the data to gain insights\n",
    "2. Feature engineering based on the insights\n",
    "3. Impute missing values\n",
    "5. Preprocessing\n",
    "6. Training Machine Learning methods\n",
    "7. Make the predicition"
   ]
  },
  {
   "attachments": {},
   "cell_type": "markdown",
   "metadata": {},
   "source": [
    "# Libraries"
   ]
  },
  {
   "cell_type": "code",
   "execution_count": 1,
   "metadata": {},
   "outputs": [],
   "source": [
    "import numpy as np\n",
    "import pandas as pd\n",
    "import matplotlib.pyplot as plt\n",
    "import seaborn as sns\n",
    "import math\n",
    "\n",
    "from sklearn.model_selection import train_test_split, GridSearchCV, RandomizedSearchCV\n",
    "from sklearn.metrics import accuracy_score, recall_score, precision_score, f1_score, roc_auc_score, roc_curve\n",
    "\n",
    "from sklearn.compose import ColumnTransformer\n",
    "from sklearn.preprocessing import FunctionTransformer, StandardScaler, MinMaxScaler, MaxAbsScaler, OneHotEncoder, OrdinalEncoder\n",
    "from sklearn.pipeline import make_pipeline, Pipeline\n",
    "from sklearn.impute import SimpleImputer\n",
    "\n",
    "from sklearn.linear_model import LogisticRegression\n",
    "from sklearn.ensemble import RandomForestClassifier\n",
    "from xgboost import XGBClassifier\n",
    "from lightgbm import LGBMClassifier\n",
    "from catboost import  CatBoostClassifier"
   ]
  },
  {
   "attachments": {},
   "cell_type": "markdown",
   "metadata": {},
   "source": [
    "# Data description"
   ]
  },
  {
   "cell_type": "code",
   "execution_count": 3,
   "metadata": {},
   "outputs": [],
   "source": [
    "train = pd.read_csv('./train.csv')\n",
    "test = pd.read_csv('./test.csv')"
   ]
  },
  {
   "attachments": {},
   "cell_type": "markdown",
   "metadata": {},
   "source": [
    "Data shape"
   ]
  },
  {
   "cell_type": "code",
   "execution_count": 4,
   "metadata": {},
   "outputs": [
    {
     "name": "stdout",
     "output_type": "stream",
     "text": [
      "Shape of train data: 8693 rows and 14 columns\n",
      "Shape of test data: 4277 rows and 13 columns\n"
     ]
    },
    {
     "data": {
      "text/html": [
       "<div>\n",
       "<style scoped>\n",
       "    .dataframe tbody tr th:only-of-type {\n",
       "        vertical-align: middle;\n",
       "    }\n",
       "\n",
       "    .dataframe tbody tr th {\n",
       "        vertical-align: top;\n",
       "    }\n",
       "\n",
       "    .dataframe thead th {\n",
       "        text-align: right;\n",
       "    }\n",
       "</style>\n",
       "<table border=\"1\" class=\"dataframe\">\n",
       "  <thead>\n",
       "    <tr style=\"text-align: right;\">\n",
       "      <th></th>\n",
       "      <th>PassengerId</th>\n",
       "      <th>HomePlanet</th>\n",
       "      <th>CryoSleep</th>\n",
       "      <th>Cabin</th>\n",
       "      <th>Destination</th>\n",
       "      <th>Age</th>\n",
       "      <th>VIP</th>\n",
       "      <th>RoomService</th>\n",
       "      <th>FoodCourt</th>\n",
       "      <th>ShoppingMall</th>\n",
       "      <th>Spa</th>\n",
       "      <th>VRDeck</th>\n",
       "      <th>Name</th>\n",
       "      <th>Transported</th>\n",
       "    </tr>\n",
       "  </thead>\n",
       "  <tbody>\n",
       "    <tr>\n",
       "      <th>0</th>\n",
       "      <td>0001_01</td>\n",
       "      <td>Europa</td>\n",
       "      <td>False</td>\n",
       "      <td>B/0/P</td>\n",
       "      <td>TRAPPIST-1e</td>\n",
       "      <td>39.0</td>\n",
       "      <td>False</td>\n",
       "      <td>0.0</td>\n",
       "      <td>0.0</td>\n",
       "      <td>0.0</td>\n",
       "      <td>0.0</td>\n",
       "      <td>0.0</td>\n",
       "      <td>Maham Ofracculy</td>\n",
       "      <td>False</td>\n",
       "    </tr>\n",
       "    <tr>\n",
       "      <th>1</th>\n",
       "      <td>0002_01</td>\n",
       "      <td>Earth</td>\n",
       "      <td>False</td>\n",
       "      <td>F/0/S</td>\n",
       "      <td>TRAPPIST-1e</td>\n",
       "      <td>24.0</td>\n",
       "      <td>False</td>\n",
       "      <td>109.0</td>\n",
       "      <td>9.0</td>\n",
       "      <td>25.0</td>\n",
       "      <td>549.0</td>\n",
       "      <td>44.0</td>\n",
       "      <td>Juanna Vines</td>\n",
       "      <td>True</td>\n",
       "    </tr>\n",
       "    <tr>\n",
       "      <th>2</th>\n",
       "      <td>0003_01</td>\n",
       "      <td>Europa</td>\n",
       "      <td>False</td>\n",
       "      <td>A/0/S</td>\n",
       "      <td>TRAPPIST-1e</td>\n",
       "      <td>58.0</td>\n",
       "      <td>True</td>\n",
       "      <td>43.0</td>\n",
       "      <td>3576.0</td>\n",
       "      <td>0.0</td>\n",
       "      <td>6715.0</td>\n",
       "      <td>49.0</td>\n",
       "      <td>Altark Susent</td>\n",
       "      <td>False</td>\n",
       "    </tr>\n",
       "    <tr>\n",
       "      <th>3</th>\n",
       "      <td>0003_02</td>\n",
       "      <td>Europa</td>\n",
       "      <td>False</td>\n",
       "      <td>A/0/S</td>\n",
       "      <td>TRAPPIST-1e</td>\n",
       "      <td>33.0</td>\n",
       "      <td>False</td>\n",
       "      <td>0.0</td>\n",
       "      <td>1283.0</td>\n",
       "      <td>371.0</td>\n",
       "      <td>3329.0</td>\n",
       "      <td>193.0</td>\n",
       "      <td>Solam Susent</td>\n",
       "      <td>False</td>\n",
       "    </tr>\n",
       "    <tr>\n",
       "      <th>4</th>\n",
       "      <td>0004_01</td>\n",
       "      <td>Earth</td>\n",
       "      <td>False</td>\n",
       "      <td>F/1/S</td>\n",
       "      <td>TRAPPIST-1e</td>\n",
       "      <td>16.0</td>\n",
       "      <td>False</td>\n",
       "      <td>303.0</td>\n",
       "      <td>70.0</td>\n",
       "      <td>151.0</td>\n",
       "      <td>565.0</td>\n",
       "      <td>2.0</td>\n",
       "      <td>Willy Santantines</td>\n",
       "      <td>True</td>\n",
       "    </tr>\n",
       "  </tbody>\n",
       "</table>\n",
       "</div>"
      ],
      "text/plain": [
       "  PassengerId HomePlanet CryoSleep  Cabin  Destination   Age    VIP  \\\n",
       "0     0001_01     Europa     False  B/0/P  TRAPPIST-1e  39.0  False   \n",
       "1     0002_01      Earth     False  F/0/S  TRAPPIST-1e  24.0  False   \n",
       "2     0003_01     Europa     False  A/0/S  TRAPPIST-1e  58.0   True   \n",
       "3     0003_02     Europa     False  A/0/S  TRAPPIST-1e  33.0  False   \n",
       "4     0004_01      Earth     False  F/1/S  TRAPPIST-1e  16.0  False   \n",
       "\n",
       "   RoomService  FoodCourt  ShoppingMall     Spa  VRDeck               Name  \\\n",
       "0          0.0        0.0           0.0     0.0     0.0    Maham Ofracculy   \n",
       "1        109.0        9.0          25.0   549.0    44.0       Juanna Vines   \n",
       "2         43.0     3576.0           0.0  6715.0    49.0      Altark Susent   \n",
       "3          0.0     1283.0         371.0  3329.0   193.0       Solam Susent   \n",
       "4        303.0       70.0         151.0   565.0     2.0  Willy Santantines   \n",
       "\n",
       "   Transported  \n",
       "0        False  \n",
       "1         True  \n",
       "2        False  \n",
       "3        False  \n",
       "4         True  "
      ]
     },
     "execution_count": 4,
     "metadata": {},
     "output_type": "execute_result"
    }
   ],
   "source": [
    "print(f'Shape of train data: {train.shape[0]} rows and {train.shape[1]} columns')\n",
    "print(f'Shape of test data: {test.shape[0]} rows and {test.shape[1]} columns') \n",
    "train.head()"
   ]
  },
  {
   "attachments": {},
   "cell_type": "markdown",
   "metadata": {},
   "source": [
    "Records of each passenger"
   ]
  },
  {
   "cell_type": "code",
   "execution_count": 5,
   "metadata": {},
   "outputs": [
    {
     "name": "stdout",
     "output_type": "stream",
     "text": [
      "passengers in train: 8693\n",
      "passengers in test: 4277\n"
     ]
    }
   ],
   "source": [
    "print('passengers in train:', train.PassengerId.nunique())\n",
    "print('passengers in test:', test.PassengerId.nunique())"
   ]
  },
  {
   "attachments": {},
   "cell_type": "markdown",
   "metadata": {},
   "source": [
    "The passenger number equals to the data rows in each dataset, which means one passenger one record."
   ]
  },
  {
   "attachments": {},
   "cell_type": "markdown",
   "metadata": {},
   "source": [
    "### Feature descriptions:"
   ]
  },
  {
   "attachments": {},
   "cell_type": "markdown",
   "metadata": {},
   "source": [
    "- PassengerId : A unique Id for each passenger. Each Id takes the form gggg_pp where gggg indicates a group the passenger is travelling with and pp is their number within the group. People in a group are often family members, but not always.\n",
    "- HomePlanet : The planet the passenger departed from, typically their planet of permanent residence.\n",
    "- CryoSleep : Indicates whether the passenger elected to be put into suspended animation for the duration of the voyage. Passengers in cryosleep are confined to their cabins.\n",
    "- Cabin : The cabin number where the passenger is staying. Takes the form deck/num/side, where side can be either P for Port or S for Starboard.\n",
    "- Destination : The planet the passenger will be debarking to.\n",
    "- Age : The age of the passenger.\n",
    "- VIP : Whether the passenger has paid for special VIP service during the voyage.\n",
    "- RoomService, FoodCourt, ShoppingMall, Spa, VRDeck : Amount the passenger has billed at each of the Spaceship Titanic's many luxury amenities.\n",
    "- Name : The first and last names of the passenger.\n",
    "\n",
    "- Transported : Whether the passenger was transported to another dimension. This is the target, the column you are trying to predict."
   ]
  },
  {
   "attachments": {},
   "cell_type": "markdown",
   "metadata": {},
   "source": [
    "# EDA"
   ]
  },
  {
   "attachments": {},
   "cell_type": "markdown",
   "metadata": {},
   "source": [
    "### Target distribution\n",
    "Explore the target to see whether under/over-sampling is needed"
   ]
  },
  {
   "cell_type": "code",
   "execution_count": 6,
   "metadata": {},
   "outputs": [
    {
     "data": {
      "text/plain": [
       "Text(0.5, 1.0, 'Target Distribution')"
      ]
     },
     "execution_count": 6,
     "metadata": {},
     "output_type": "execute_result"
    },
    {
     "data": {
      "image/png": "[encoded data removed]",
      "text/plain": [
       "<Figure size 216x216 with 1 Axes>"
      ]
     },
     "metadata": {},
     "output_type": "display_data"
    }
   ],
   "source": [
    "# set the figure size\n",
    "plt.figure(figsize = (3,3))\n",
    "\n",
    "\n",
    "# since our target, 'Transported', is categorical, using pie chart to show the percentage of each type\n",
    "train.Transported.value_counts().plot.pie(autopct = '%1.1f%%').set_title('Target Distribution')"
   ]
  },
  {
   "attachments": {},
   "cell_type": "markdown",
   "metadata": {},
   "source": [
    "The target is balanced, so we dont need the under/over-sampling."
   ]
  },
  {
   "attachments": {},
   "cell_type": "markdown",
   "metadata": {},
   "source": [
    "### Continuous features"
   ]
  },
  {
   "cell_type": "code",
   "execution_count": 7,
   "metadata": {},
   "outputs": [
    {
     "data": {
      "text/plain": [
       "PassengerId      object\n",
       "HomePlanet       object\n",
       "CryoSleep        object\n",
       "Cabin            object\n",
       "Destination      object\n",
       "Age             float64\n",
       "VIP              object\n",
       "RoomService     float64\n",
       "FoodCourt       float64\n",
       "ShoppingMall    float64\n",
       "Spa             float64\n",
       "VRDeck          float64\n",
       "Name             object\n",
       "Transported        bool\n",
       "dtype: object"
      ]
     },
     "execution_count": 7,
     "metadata": {},
     "output_type": "execute_result"
    }
   ],
   "source": [
    "# list feature types\n",
    "train.dtypes"
   ]
  },
  {
   "cell_type": "code",
   "execution_count": 8,
   "metadata": {},
   "outputs": [
    {
     "data": {
      "text/plain": [
       "Index(['Age', 'RoomService', 'FoodCourt', 'ShoppingMall', 'Spa', 'VRDeck'], dtype='object')"
      ]
     },
     "execution_count": 8,
     "metadata": {},
     "output_type": "execute_result"
    }
   ],
   "source": [
    "# get the continuous features\n",
    "train.select_dtypes('float64').columns"
   ]
  },
  {
   "attachments": {},
   "cell_type": "markdown",
   "metadata": {},
   "source": [
    "### Age"
   ]
  },
  {
   "attachments": {},
   "cell_type": "markdown",
   "metadata": {},
   "source": [
    "Visualize the 'Age' distribution togerther with 'Transported' to get insights"
   ]
  },
  {
   "cell_type": "code",
   "execution_count": 9,
   "metadata": {},
   "outputs": [
    {
     "data": {
      "text/plain": [
       "Text(0.5, 1.0, 'Age distribution')"
      ]
     },
     "execution_count": 9,
     "metadata": {},
     "output_type": "execute_result"
    },
    {
     "data": {
      "image/png": "[encoded data removed]",
      "text/plain": [
       "<Figure size 720x360 with 1 Axes>"
      ]
     },
     "metadata": {
      "needs_background": "light"
     },
     "output_type": "display_data"
    }
   ],
   "source": [
    "# set the figure size\n",
    "plt.figure(figsize = (10,5))\n",
    "\n",
    "sns.histplot(data = train, x = 'Age', hue = 'Transported', binwidth=3, kde=True)\n",
    "\n",
    "plt.title('Age distribution')"
   ]
  },
  {
   "attachments": {},
   "cell_type": "markdown",
   "metadata": {},
   "source": [
    "The KDE plot shows the probability of getting transported or not at each age.\n",
    "\n",
    "So we can find:\n",
    "- 0~18 years old have **higher** chance to be transported.\n",
    "- 18~40 years old have **lower** chance to be transported.\n",
    "- over 40 years old are **equal** like to be transported.\n",
    "\n",
    "Insights:\n",
    "- create a new feature represents the category of age by 0~18, 18~40, >40"
   ]
  },
  {
   "attachments": {},
   "cell_type": "markdown",
   "metadata": {},
   "source": [
    "### Expenditure features"
   ]
  },
  {
   "cell_type": "code",
   "execution_count": 10,
   "metadata": {},
   "outputs": [
    {
     "data": {
      "text/plain": [
       "Index(['RoomService', 'FoodCourt', 'ShoppingMall', 'Spa', 'VRDeck'], dtype='object')"
      ]
     },
     "execution_count": 10,
     "metadata": {},
     "output_type": "execute_result"
    }
   ],
   "source": [
    "expenditure_features = train.select_dtypes('float64').columns.drop('Age')\n",
    "expenditure_features"
   ]
  },
  {
   "cell_type": "code",
   "execution_count": 11,
   "metadata": {},
   "outputs": [
    {
     "data": {
      "image/png": "[encoded data removed]",
      "text/plain": [
       "<Figure size 720x360 with 5 Axes>"
      ]
     },
     "metadata": {
      "needs_background": "light"
     },
     "output_type": "display_data"
    }
   ],
   "source": [
    "# visualize the expenditure features with hitogram and show them at once\n",
    "\n",
    "fig = plt.figure(figsize=(10,5))\n",
    "\n",
    "for idx, val in enumerate(expenditure_features):\n",
    "    ax = fig.add_subplot(2,3,idx+1)\n",
    "    sns.histplot(data=train, x=val, axes=ax, bins=20 ,hue='Transported', kde=True)\n",
    "    ax.set_title(val)\n",
    "    \n",
    "plt.tight_layout()  \n",
    "plt.show()"
   ]
  },
  {
   "attachments": {},
   "cell_type": "markdown",
   "metadata": {},
   "source": [
    "Since the data is uneven(most of passenger don't spend money), let's limit the y axis to make it more clear."
   ]
  },
  {
   "cell_type": "code",
   "execution_count": 12,
   "metadata": {},
   "outputs": [
    {
     "data": {
      "image/png": "[encoded data removed]",
      "text/plain": [
       "<Figure size 720x360 with 5 Axes>"
      ]
     },
     "metadata": {
      "needs_background": "light"
     },
     "output_type": "display_data"
    }
   ],
   "source": [
    "# visualize the expenditure features with hitogram and show them at once\n",
    "\n",
    "fig = plt.figure(figsize=(10,5))\n",
    "\n",
    "for idx, val in enumerate(expenditure_features):\n",
    "    ax = fig.add_subplot(2,3,idx+1)\n",
    "    sns.histplot(data=train, x=val, axes=ax, bins=20 ,hue='Transported', kde=True)\n",
    "    ax.set_title(val)\n",
    "    \n",
    "    plt.ylim([0,500])\n",
    "    \n",
    "plt.tight_layout()  \n",
    "plt.show()"
   ]
  },
  {
   "attachments": {},
   "cell_type": "markdown",
   "metadata": {},
   "source": [
    "We can find:\n",
    "- Most passengers don't spend money\n",
    "- There are smaller number of outliers\n",
    "- Passengers who are transported tend to spend less(orange line is lower than blue line)\n",
    "- The KDE plot of 'FoodCout' and 'ShoppingMall' is different with others\n",
    "\n",
    "Insights:\n",
    "- Create new feature which represent passenger spend money or not.\n",
    "- Create new feature which represent the total spent of each passenger.\n",
    "- Create new feature which consider 'FoodCout' and 'ShoppingMall' as one group, and group the rest expenditure features.\n",
    "- The features distribute skewly, we may used log transformation to make it become normal distribution."
   ]
  },
  {
   "attachments": {},
   "cell_type": "markdown",
   "metadata": {},
   "source": [
    "### Categorical features"
   ]
  },
  {
   "cell_type": "code",
   "execution_count": 13,
   "metadata": {},
   "outputs": [
    {
     "data": {
      "text/plain": [
       "Index(['HomePlanet', 'CryoSleep', 'Destination', 'VIP'], dtype='object')"
      ]
     },
     "execution_count": 13,
     "metadata": {},
     "output_type": "execute_result"
    }
   ],
   "source": [
    "categorical_features = train.select_dtypes('object').columns.drop(['PassengerId', 'Name', 'Cabin'])\n",
    "categorical_features"
   ]
  },
  {
   "cell_type": "code",
   "execution_count": 14,
   "metadata": {},
   "outputs": [
    {
     "data": {
      "image/png": "[encoded data removed]",
      "text/plain": [
       "<Figure size 1080x360 with 4 Axes>"
      ]
     },
     "metadata": {
      "needs_background": "light"
     },
     "output_type": "display_data"
    }
   ],
   "source": [
    "# visualize the observation number of each categorical features by count chart\n",
    "\n",
    "# set the figure size\n",
    "fig = plt.figure(figsize=(15,5))\n",
    "\n",
    "for idx, val in enumerate(categorical_features):\n",
    "    ax = fig.add_subplot(1,4,idx+1)\n",
    "    sns.countplot(data=train, x=val, axes=ax, hue='Transported')\n",
    "    ax.set_title(val)\n",
    "    \n",
    "plt.show()"
   ]
  },
  {
   "attachments": {},
   "cell_type": "markdown",
   "metadata": {},
   "source": [
    "We can find:\n",
    "- The state of feature,'CryoSleep', shows obvious difference in Transported.\n",
    "- 'VIP' does not provide useful information.\n",
    "\n",
    "\n",
    "Insights:\n",
    "- The feature 'VIP' could be droppred\n"
   ]
  },
  {
   "attachments": {},
   "cell_type": "markdown",
   "metadata": {},
   "source": [
    "### Qualitative features"
   ]
  },
  {
   "cell_type": "code",
   "execution_count": 15,
   "metadata": {},
   "outputs": [
    {
     "data": {
      "text/html": [
       "<div>\n",
       "<style scoped>\n",
       "    .dataframe tbody tr th:only-of-type {\n",
       "        vertical-align: middle;\n",
       "    }\n",
       "\n",
       "    .dataframe tbody tr th {\n",
       "        vertical-align: top;\n",
       "    }\n",
       "\n",
       "    .dataframe thead th {\n",
       "        text-align: right;\n",
       "    }\n",
       "</style>\n",
       "<table border=\"1\" class=\"dataframe\">\n",
       "  <thead>\n",
       "    <tr style=\"text-align: right;\">\n",
       "      <th></th>\n",
       "      <th>PassengerId</th>\n",
       "      <th>Cabin</th>\n",
       "      <th>Name</th>\n",
       "    </tr>\n",
       "  </thead>\n",
       "  <tbody>\n",
       "    <tr>\n",
       "      <th>0</th>\n",
       "      <td>0001_01</td>\n",
       "      <td>B/0/P</td>\n",
       "      <td>Maham Ofracculy</td>\n",
       "    </tr>\n",
       "    <tr>\n",
       "      <th>1</th>\n",
       "      <td>0002_01</td>\n",
       "      <td>F/0/S</td>\n",
       "      <td>Juanna Vines</td>\n",
       "    </tr>\n",
       "    <tr>\n",
       "      <th>2</th>\n",
       "      <td>0003_01</td>\n",
       "      <td>A/0/S</td>\n",
       "      <td>Altark Susent</td>\n",
       "    </tr>\n",
       "    <tr>\n",
       "      <th>3</th>\n",
       "      <td>0003_02</td>\n",
       "      <td>A/0/S</td>\n",
       "      <td>Solam Susent</td>\n",
       "    </tr>\n",
       "    <tr>\n",
       "      <th>4</th>\n",
       "      <td>0004_01</td>\n",
       "      <td>F/1/S</td>\n",
       "      <td>Willy Santantines</td>\n",
       "    </tr>\n",
       "  </tbody>\n",
       "</table>\n",
       "</div>"
      ],
      "text/plain": [
       "  PassengerId  Cabin               Name\n",
       "0     0001_01  B/0/P    Maham Ofracculy\n",
       "1     0002_01  F/0/S       Juanna Vines\n",
       "2     0003_01  A/0/S      Altark Susent\n",
       "3     0003_02  A/0/S       Solam Susent\n",
       "4     0004_01  F/1/S  Willy Santantines"
      ]
     },
     "execution_count": 15,
     "metadata": {},
     "output_type": "execute_result"
    }
   ],
   "source": [
    "qualitative_features = train[['PassengerId','Cabin','Name']]\n",
    "\n",
    "qualitative_features.head()"
   ]
  },
  {
   "attachments": {},
   "cell_type": "markdown",
   "metadata": {},
   "source": [
    "We can find:\n",
    "- first 4 number in 'PassengerId' is the group number, we may extract this number out as a new feature.\n",
    "- the information in 'Cabin' cae be extracted out\n",
    "\n",
    "\n",
    "Insights:\n",
    "- We can create new feature that indicates the group number\n",
    "- We can create new feature that indicates the group size\n",
    "- We can create new features that represented deck, num ,side\n"
   ]
  },
  {
   "cell_type": "markdown",
   "metadata": {},
   "source": [
    "## Check missing values"
   ]
  },
  {
   "cell_type": "code",
   "execution_count": 16,
   "metadata": {},
   "outputs": [],
   "source": [
    "# create a function for showing the percentage of missing values in each feature\n",
    "def show_missing_value_percentage(df):\n",
    "   total = df.isnull().sum().sort_values(ascending=False)\n",
    "   percentage = (df.isnull().sum() / df.count()).sort_values(ascending=False) * 100\n",
    "   percentage_str = percentage.map('{:.2f}%'.format)\n",
    "   missing_data = pd.concat([total, percentage_str], axis = 1, keys=['Total', 'Percentage'])\n",
    "   missing_data = missing_data[total > 0]\n",
    "   \n",
    "   return missing_data "
   ]
  },
  {
   "cell_type": "code",
   "execution_count": 17,
   "metadata": {},
   "outputs": [
    {
     "data": {
      "text/html": [
       "<div>\n",
       "<style scoped>\n",
       "    .dataframe tbody tr th:only-of-type {\n",
       "        vertical-align: middle;\n",
       "    }\n",
       "\n",
       "    .dataframe tbody tr th {\n",
       "        vertical-align: top;\n",
       "    }\n",
       "\n",
       "    .dataframe thead th {\n",
       "        text-align: right;\n",
       "    }\n",
       "</style>\n",
       "<table border=\"1\" class=\"dataframe\">\n",
       "  <thead>\n",
       "    <tr style=\"text-align: right;\">\n",
       "      <th></th>\n",
       "      <th>Total</th>\n",
       "      <th>Percentage</th>\n",
       "    </tr>\n",
       "  </thead>\n",
       "  <tbody>\n",
       "    <tr>\n",
       "      <th>CryoSleep</th>\n",
       "      <td>217</td>\n",
       "      <td>2.56%</td>\n",
       "    </tr>\n",
       "    <tr>\n",
       "      <th>ShoppingMall</th>\n",
       "      <td>208</td>\n",
       "      <td>2.45%</td>\n",
       "    </tr>\n",
       "    <tr>\n",
       "      <th>VIP</th>\n",
       "      <td>203</td>\n",
       "      <td>2.39%</td>\n",
       "    </tr>\n",
       "    <tr>\n",
       "      <th>HomePlanet</th>\n",
       "      <td>201</td>\n",
       "      <td>2.37%</td>\n",
       "    </tr>\n",
       "    <tr>\n",
       "      <th>Name</th>\n",
       "      <td>200</td>\n",
       "      <td>2.35%</td>\n",
       "    </tr>\n",
       "    <tr>\n",
       "      <th>Cabin</th>\n",
       "      <td>199</td>\n",
       "      <td>2.34%</td>\n",
       "    </tr>\n",
       "    <tr>\n",
       "      <th>VRDeck</th>\n",
       "      <td>188</td>\n",
       "      <td>2.21%</td>\n",
       "    </tr>\n",
       "    <tr>\n",
       "      <th>FoodCourt</th>\n",
       "      <td>183</td>\n",
       "      <td>2.15%</td>\n",
       "    </tr>\n",
       "    <tr>\n",
       "      <th>Spa</th>\n",
       "      <td>183</td>\n",
       "      <td>2.15%</td>\n",
       "    </tr>\n",
       "    <tr>\n",
       "      <th>Destination</th>\n",
       "      <td>182</td>\n",
       "      <td>2.14%</td>\n",
       "    </tr>\n",
       "    <tr>\n",
       "      <th>RoomService</th>\n",
       "      <td>181</td>\n",
       "      <td>2.13%</td>\n",
       "    </tr>\n",
       "    <tr>\n",
       "      <th>Age</th>\n",
       "      <td>179</td>\n",
       "      <td>2.10%</td>\n",
       "    </tr>\n",
       "  </tbody>\n",
       "</table>\n",
       "</div>"
      ],
      "text/plain": [
       "              Total Percentage\n",
       "CryoSleep       217      2.56%\n",
       "ShoppingMall    208      2.45%\n",
       "VIP             203      2.39%\n",
       "HomePlanet      201      2.37%\n",
       "Name            200      2.35%\n",
       "Cabin           199      2.34%\n",
       "VRDeck          188      2.21%\n",
       "FoodCourt       183      2.15%\n",
       "Spa             183      2.15%\n",
       "Destination     182      2.14%\n",
       "RoomService     181      2.13%\n",
       "Age             179      2.10%"
      ]
     },
     "execution_count": 17,
     "metadata": {},
     "output_type": "execute_result"
    }
   ],
   "source": [
    "show_missing_value_percentage(train)"
   ]
  },
  {
   "cell_type": "code",
   "execution_count": 18,
   "metadata": {},
   "outputs": [
    {
     "data": {
      "text/html": [
       "<div>\n",
       "<style scoped>\n",
       "    .dataframe tbody tr th:only-of-type {\n",
       "        vertical-align: middle;\n",
       "    }\n",
       "\n",
       "    .dataframe tbody tr th {\n",
       "        vertical-align: top;\n",
       "    }\n",
       "\n",
       "    .dataframe thead th {\n",
       "        text-align: right;\n",
       "    }\n",
       "</style>\n",
       "<table border=\"1\" class=\"dataframe\">\n",
       "  <thead>\n",
       "    <tr style=\"text-align: right;\">\n",
       "      <th></th>\n",
       "      <th>Total</th>\n",
       "      <th>Percentage</th>\n",
       "    </tr>\n",
       "  </thead>\n",
       "  <tbody>\n",
       "    <tr>\n",
       "      <th>FoodCourt</th>\n",
       "      <td>106</td>\n",
       "      <td>2.54%</td>\n",
       "    </tr>\n",
       "    <tr>\n",
       "      <th>Spa</th>\n",
       "      <td>101</td>\n",
       "      <td>2.42%</td>\n",
       "    </tr>\n",
       "    <tr>\n",
       "      <th>Cabin</th>\n",
       "      <td>100</td>\n",
       "      <td>2.39%</td>\n",
       "    </tr>\n",
       "    <tr>\n",
       "      <th>ShoppingMall</th>\n",
       "      <td>98</td>\n",
       "      <td>2.35%</td>\n",
       "    </tr>\n",
       "    <tr>\n",
       "      <th>Name</th>\n",
       "      <td>94</td>\n",
       "      <td>2.25%</td>\n",
       "    </tr>\n",
       "    <tr>\n",
       "      <th>CryoSleep</th>\n",
       "      <td>93</td>\n",
       "      <td>2.22%</td>\n",
       "    </tr>\n",
       "    <tr>\n",
       "      <th>VIP</th>\n",
       "      <td>93</td>\n",
       "      <td>2.22%</td>\n",
       "    </tr>\n",
       "    <tr>\n",
       "      <th>Destination</th>\n",
       "      <td>92</td>\n",
       "      <td>2.20%</td>\n",
       "    </tr>\n",
       "    <tr>\n",
       "      <th>Age</th>\n",
       "      <td>91</td>\n",
       "      <td>2.17%</td>\n",
       "    </tr>\n",
       "    <tr>\n",
       "      <th>HomePlanet</th>\n",
       "      <td>87</td>\n",
       "      <td>2.08%</td>\n",
       "    </tr>\n",
       "    <tr>\n",
       "      <th>RoomService</th>\n",
       "      <td>82</td>\n",
       "      <td>1.95%</td>\n",
       "    </tr>\n",
       "    <tr>\n",
       "      <th>VRDeck</th>\n",
       "      <td>80</td>\n",
       "      <td>1.91%</td>\n",
       "    </tr>\n",
       "  </tbody>\n",
       "</table>\n",
       "</div>"
      ],
      "text/plain": [
       "              Total Percentage\n",
       "FoodCourt       106      2.54%\n",
       "Spa             101      2.42%\n",
       "Cabin           100      2.39%\n",
       "ShoppingMall     98      2.35%\n",
       "Name             94      2.25%\n",
       "CryoSleep        93      2.22%\n",
       "VIP              93      2.22%\n",
       "Destination      92      2.20%\n",
       "Age              91      2.17%\n",
       "HomePlanet       87      2.08%\n",
       "RoomService      82      1.95%\n",
       "VRDeck           80      1.91%"
      ]
     },
     "execution_count": 18,
     "metadata": {},
     "output_type": "execute_result"
    }
   ],
   "source": [
    "show_missing_value_percentage(test)"
   ]
  },
  {
   "cell_type": "markdown",
   "metadata": {},
   "source": [
    " - No missing values in 'Transported', which is our target\n",
    " - The percentage of missing vlaues in each features is less than 3%, which is few."
   ]
  },
  {
   "cell_type": "markdown",
   "metadata": {},
   "source": [
    "### Calculate how many rows contains missing value"
   ]
  },
  {
   "cell_type": "code",
   "execution_count": 19,
   "metadata": {},
   "outputs": [
    {
     "name": "stdout",
     "output_type": "stream",
     "text": [
      "percentage of rows contain missing values : 24.01%\n"
     ]
    }
   ],
   "source": [
    "print('percentage of rows contain missing values : {:.2%}'.format(1 - (len(train.dropna())/len(train))))"
   ]
  },
  {
   "cell_type": "markdown",
   "metadata": {},
   "source": [
    "- We will lost nearly 1/4 data if we drop the observation which contains missing value.\n",
    "- So we have to impute missing values with the insights from EDA"
   ]
  },
  {
   "attachments": {},
   "cell_type": "markdown",
   "metadata": {},
   "source": [
    "### Initial imputation before feature engineering"
   ]
  },
  {
   "cell_type": "code",
   "execution_count": 20,
   "metadata": {},
   "outputs": [],
   "source": [
    "# create copy for avoiding to change the orginal table\n",
    "train_copy = train.copy()\n",
    "test_copy = test.copy()"
   ]
  },
  {
   "attachments": {},
   "cell_type": "markdown",
   "metadata": {},
   "source": [
    "Impute the mean value of 'Age'\n",
    "\n",
    "Aim: to be able to create age categories"
   ]
  },
  {
   "cell_type": "code",
   "execution_count": 21,
   "metadata": {},
   "outputs": [],
   "source": [
    "# new a imputer\n",
    "age_imputer = SimpleImputer(strategy='mean', missing_values=np.nan)\n",
    "# imputation\n",
    "train_copy[['Age']] = age_imputer.fit_transform(train_copy[['Age']])\n",
    "test_copy[['Age']] = age_imputer.fit_transform(test_copy[['Age']])"
   ]
  },
  {
   "cell_type": "code",
   "execution_count": 22,
   "metadata": {},
   "outputs": [
    {
     "name": "stdout",
     "output_type": "stream",
     "text": [
      "missing values of \"Age\" in training data: 0\n",
      "missing values of \"Age\" in testing data: 0\n"
     ]
    }
   ],
   "source": [
    "print('missing values of \"Age\" in training data:',len(train_copy[train_copy['Age'].isna()]))\n",
    "print('missing values of \"Age\" in testing data:',len(test_copy[test_copy['Age'].isna()]))"
   ]
  },
  {
   "attachments": {},
   "cell_type": "markdown",
   "metadata": {},
   "source": [
    "Impute 'Cabin' for 'Z/9999/Z'\n",
    "\n",
    "Aim: to be able to split the 'Cabin' column into deck, num, side"
   ]
  },
  {
   "cell_type": "code",
   "execution_count": 23,
   "metadata": {},
   "outputs": [],
   "source": [
    "# new a imputer\n",
    "cabin_imputer = SimpleImputer(strategy='constant', fill_value='Z/9999/Z')\n",
    "# imputation\n",
    "train_copy[['Cabin']] = cabin_imputer.fit_transform(train_copy[['Cabin']])\n",
    "test_copy[['Cabin']] = cabin_imputer.fit_transform(test_copy[['Cabin']])"
   ]
  },
  {
   "cell_type": "code",
   "execution_count": 24,
   "metadata": {},
   "outputs": [
    {
     "name": "stdout",
     "output_type": "stream",
     "text": [
      "missing values of \"Cabin\" in training data: 0\n",
      "missing values of \"Cabin\" in testing data: 0\n"
     ]
    }
   ],
   "source": [
    "print('missing values of \"Cabin\" in training data:',len(train_copy[train_copy['Cabin'].isna()]))\n",
    "print('missing values of \"Cabin\" in testing data:',len(test_copy[test_copy['Cabin'].isna()]))"
   ]
  },
  {
   "attachments": {},
   "cell_type": "markdown",
   "metadata": {},
   "source": [
    "## Feature Engineering"
   ]
  },
  {
   "attachments": {},
   "cell_type": "markdown",
   "metadata": {},
   "source": [
    "- In this section, new features are going to be created as functions based on the insights .\n",
    "\n",
    "- These functions will make us easier to apply the same processing on different tables.\n",
    "\n"
   ]
  },
  {
   "attachments": {},
   "cell_type": "markdown",
   "metadata": {},
   "source": [
    "### Age"
   ]
  },
  {
   "cell_type": "code",
   "execution_count": 25,
   "metadata": {},
   "outputs": [],
   "source": [
    "def create_age_category(df):\n",
    "    \n",
    "    df['age_category'] = np.where(\n",
    "                                df['Age'] <= 18, 'child', np.where(\n",
    "                                df['Age'] <= 40, 'young_adult', 'adult'\n",
    "        )\n",
    "    )\n",
    "    return df\n",
    "\n",
    "def create_age_subcategory(df) :\n",
    "    \n",
    "    df[\"AgeSubcategory\"] = np.where(\n",
    "                                df[\"Age\"] <= 2, \"Baby\", np.where(\n",
    "                                df[\"Age\"] <= 10, \"Kid\", np.where(\n",
    "                                df[\"Age\"] <= 19, \"Teenager\", np.where(\n",
    "                                df[\"Age\"] <= 29, \"twenties\", np.where(\n",
    "                                df[\"Age\"] <= 39, \"Thirties\", np.where(\n",
    "                                df[\"Age\"] <= 49, \"Forties\",                                                         \n",
    "                                    \"Mature\"))))))\n",
    "    \n",
    "    return df    "
   ]
  },
  {
   "attachments": {},
   "cell_type": "markdown",
   "metadata": {},
   "source": [
    "### Expenditure features"
   ]
  },
  {
   "attachments": {},
   "cell_type": "markdown",
   "metadata": {},
   "source": [
    "In this section, we are goin to do:\n",
    "- Create new feature which represent the total spent of each passenger.\n",
    "- Create new feature which represent passenger spend money or not.\n",
    "- Create new feature which consider 'FoodCout' and 'ShoppingMall' as one group, and group the rest expenditure features(luxury expenditure)."
   ]
  },
  {
   "attachments": {},
   "cell_type": "markdown",
   "metadata": {},
   "source": [
    "Feature: Total expenses "
   ]
  },
  {
   "cell_type": "code",
   "execution_count": 26,
   "metadata": {},
   "outputs": [],
   "source": [
    "def create_total_expenses(df):\n",
    "    \n",
    "    df['total_expenses'] = df[expenditure_features].sum(axis=1)\n",
    "    \n",
    "    return df"
   ]
  },
  {
   "attachments": {},
   "cell_type": "markdown",
   "metadata": {},
   "source": [
    "Feature: have_expenses"
   ]
  },
  {
   "cell_type": "code",
   "execution_count": 27,
   "metadata": {},
   "outputs": [],
   "source": [
    "def create_have_expenses(df):\n",
    "    \n",
    "    df['have_expenses'] = (df['total_expenses'] == 0).astype(bool)\n",
    "    df['have_expenses'] = (df['total_expenses'] != 0).astype(bool)\n",
    "    \n",
    "    return df"
   ]
  },
  {
   "attachments": {},
   "cell_type": "markdown",
   "metadata": {},
   "source": [
    "Feature: expenses_group"
   ]
  },
  {
   "cell_type": "code",
   "execution_count": 28,
   "metadata": {},
   "outputs": [],
   "source": [
    "def create_expenses_group(df):\n",
    "    \n",
    "      \n",
    "    df['normal_expenses'] = df['FoodCourt'] + df['ShoppingMall']\n",
    "    df['luxury_expenses'] = df['RoomService'] + df['Spa'] + df['VRDeck']\n",
    "    \n",
    "    \n",
    "    \n",
    "    return df"
   ]
  },
  {
   "attachments": {},
   "cell_type": "markdown",
   "metadata": {},
   "source": [
    "### Qualitative Features"
   ]
  },
  {
   "attachments": {},
   "cell_type": "markdown",
   "metadata": {},
   "source": [
    "Feature: group number of each passenger belongs to"
   ]
  },
  {
   "cell_type": "code",
   "execution_count": 29,
   "metadata": {},
   "outputs": [],
   "source": [
    "def create_passenger_group_number(df):\n",
    "    \n",
    "    df['passenger_group_number'] = df['PassengerId'].apply(lambda x : x.split('_')[0])\n",
    "    \n",
    "    return df"
   ]
  },
  {
   "attachments": {},
   "cell_type": "markdown",
   "metadata": {},
   "source": [
    "Feature : cabin information - deck, num, side"
   ]
  },
  {
   "cell_type": "code",
   "execution_count": 30,
   "metadata": {},
   "outputs": [],
   "source": [
    "def create_cabin_feature(df):\n",
    "        \n",
    "    df['Cabin_deck'] = df['Cabin'].apply(lambda x : x.split('/')[0])\n",
    "    df['Cabin_num'] = df['Cabin'].apply(lambda x : x.split('/')[1])\n",
    "    df['Cabin_side'] = df['Cabin'].apply(lambda x : x.split('/')[2])\n",
    "    \n",
    "    # drop the 'Cabin' since the information is extraced out\n",
    "    df.drop('Cabin', axis = 1)\n",
    "    \n",
    "    return df"
   ]
  },
  {
   "attachments": {},
   "cell_type": "markdown",
   "metadata": {},
   "source": [
    "### Create the new feature pipeline\n",
    "\n",
    "Since both the training and testing set are going to be transformed in the same manner, the FunctionTransformer is a tool to do this job efficiently."
   ]
  },
  {
   "cell_type": "code",
   "execution_count": 31,
   "metadata": {},
   "outputs": [],
   "source": [
    "age_transformer= FunctionTransformer(create_age_category)\n",
    "age_subcat_transformer = FunctionTransformer(create_age_subcategory)\n",
    "total_expenses_transformer = FunctionTransformer(create_total_expenses)\n",
    "have_expenses_transformer = FunctionTransformer(create_have_expenses)\n",
    "expenses_group_transformer = FunctionTransformer(create_expenses_group)\n",
    "passenger_group_number_transformer = FunctionTransformer(create_passenger_group_number)\n",
    "cabin_transformer = FunctionTransformer(create_cabin_feature)"
   ]
  },
  {
   "cell_type": "code",
   "execution_count": 32,
   "metadata": {},
   "outputs": [],
   "source": [
    "feature_engineering = make_pipeline(\n",
    "    age_transformer,\n",
    "    age_subcat_transformer,\n",
    "    total_expenses_transformer,\n",
    "    have_expenses_transformer,\n",
    "    expenses_group_transformer,\n",
    "    passenger_group_number_transformer,\n",
    "    cabin_transformer\n",
    ")"
   ]
  },
  {
   "cell_type": "code",
   "execution_count": 33,
   "metadata": {},
   "outputs": [],
   "source": [
    "train_new_features = feature_engineering.transform(train_copy)\n",
    "test_new_features = feature_engineering.transform(test_copy)"
   ]
  },
  {
   "cell_type": "code",
   "execution_count": 34,
   "metadata": {},
   "outputs": [
    {
     "data": {
      "text/plain": [
       "Text(0.5, 1.0, 'Transported based on age_category')"
      ]
     },
     "execution_count": 34,
     "metadata": {},
     "output_type": "execute_result"
    },
    {
     "data": {
      "image/png": "[encoded data removed]",
      "text/plain": [
       "<Figure size 432x288 with 1 Axes>"
      ]
     },
     "metadata": {
      "needs_background": "light"
     },
     "output_type": "display_data"
    }
   ],
   "source": [
    "splot = sns.countplot(data=train_new_features, x='age_category', hue='Transported')\n",
    "\n",
    "for p in splot.patches:\n",
    "    splot.annotate(format(p.get_height(), \".0f\"), (p.get_x() + p.get_width() / 2., p.get_height()), ha = \"center\", va = \"center\", xytext = (0, 10), textcoords = \"offset points\")\n",
    "plt.title('Transported based on age_category')"
   ]
  },
  {
   "attachments": {},
   "cell_type": "markdown",
   "metadata": {},
   "source": [
    "## Dealing with missing value"
   ]
  },
  {
   "attachments": {},
   "cell_type": "markdown",
   "metadata": {},
   "source": [
    "Procedures:\n",
    "1. CryoSleep X Expense\n",
    "2. Passenger Group X HomePlanet\n",
    "3. Cabin X HomePlanet\n",
    "4. Expenditure features X Age\n",
    "5. VIP X Age"
   ]
  },
  {
   "attachments": {},
   "cell_type": "markdown",
   "metadata": {},
   "source": [
    "### Expense X CryoSleep\n",
    "\n",
    "motivation:\n",
    "can the passengers in CryoSleep spend money?"
   ]
  },
  {
   "cell_type": "code",
   "execution_count": 35,
   "metadata": {},
   "outputs": [
    {
     "data": {
      "text/plain": [
       "<AxesSubplot:xlabel='have_expenses', ylabel='CryoSleep'>"
      ]
     },
     "execution_count": 35,
     "metadata": {},
     "output_type": "execute_result"
    },
    {
     "data": {
      "image/png": "[encoded data removed]",
      "text/plain": [
       "<Figure size 432x216 with 2 Axes>"
      ]
     },
     "metadata": {
      "needs_background": "light"
     },
     "output_type": "display_data"
    }
   ],
   "source": [
    "df_cryo_expenses = train_new_features.groupby(['CryoSleep','have_expenses'])['have_expenses'].size().unstack().fillna(0)\n",
    "df_cryo_expenses\n",
    "\n",
    "plt.figure(figsize=(6,3))\n",
    "sns.heatmap(df_cryo_expenses, annot=True, fmt='g')"
   ]
  },
  {
   "attachments": {},
   "cell_type": "markdown",
   "metadata": {},
   "source": [
    "What we learn:\n",
    "1. Passengers in CryoSleep CANNOT spend money\n",
    "2. Most passengers who are not in CryoSleep DO spend money\n",
    "\n",
    "Upcoming step:\n",
    "1. Impute 'CryoSleep' = False if have_expenses = True\n",
    "2. Impute 0 to all expenditure features if 'CryoSleep' = True"
   ]
  },
  {
   "cell_type": "code",
   "execution_count": 36,
   "metadata": {},
   "outputs": [],
   "source": [
    "# Impute 'CryoSleep' = False if have_expenses = True\n",
    "def impute_cryosleep_false_if_haveexpenses_true(df):\n",
    "    \n",
    "    df.loc[df['have_expenses'] == True, 'CryoSleep'] = False\n",
    "    \n",
    "    return df"
   ]
  },
  {
   "cell_type": "code",
   "execution_count": 37,
   "metadata": {},
   "outputs": [],
   "source": [
    "# Impute 0 to all expenditure features if 'CryoSleep' = True\n",
    "def impute_0_to_expenditure_if_cryosleep_true(df, expenditure_features):\n",
    "    \n",
    "    df.loc[df['CryoSleep'] == True, 'total_expenses'] = 0\n",
    "    for col in expenditure_features:\n",
    "        df.loc[df['CryoSleep'] == True, col] = 0\n",
    "    \n",
    "    return df"
   ]
  },
  {
   "cell_type": "code",
   "execution_count": 38,
   "metadata": {},
   "outputs": [
    {
     "name": "stdout",
     "output_type": "stream",
     "text": [
      "Train: Missing values in CryoSleep:  217\n",
      "Test: Missing values in CryoSleep:  93\n"
     ]
    }
   ],
   "source": [
    "# show number of missing values BEFORE imputation\n",
    "print(\"Train: Missing values in CryoSleep: \", train_new_features[\"CryoSleep\"].isnull().sum())\n",
    "print(\"Test: Missing values in CryoSleep: \", test_new_features[\"CryoSleep\"].isnull().sum())"
   ]
  },
  {
   "cell_type": "code",
   "execution_count": 39,
   "metadata": {},
   "outputs": [],
   "source": [
    "train_new_features = impute_cryosleep_false_if_haveexpenses_true(train_new_features)\n",
    "train_new_features = impute_0_to_expenditure_if_cryosleep_true(train_new_features,expenditure_features)\n",
    "\n",
    "test_new_features = impute_cryosleep_false_if_haveexpenses_true(test_new_features)\n",
    "test_new_features = impute_0_to_expenditure_if_cryosleep_true(test_new_features,expenditure_features)"
   ]
  },
  {
   "cell_type": "code",
   "execution_count": 40,
   "metadata": {},
   "outputs": [
    {
     "name": "stdout",
     "output_type": "stream",
     "text": [
      "Train: Missing values in CryoSleep:  98\n",
      "Test: Missing values in CryoSleep:  38\n"
     ]
    }
   ],
   "source": [
    "# show number of missing values AFTER imputation\n",
    "print(\"Train: Missing values in CryoSleep: \", train_new_features[\"CryoSleep\"].isnull().sum())\n",
    "print(\"Test: Missing values in CryoSleep: \", test_new_features[\"CryoSleep\"].isnull().sum())"
   ]
  },
  {
   "attachments": {},
   "cell_type": "markdown",
   "metadata": {},
   "source": [
    "### Passenger Group X HomePlanet\n",
    "\n",
    "motivation: do passengers in the same group come from the same HomePlanet?"
   ]
  },
  {
   "cell_type": "code",
   "execution_count": 41,
   "metadata": {},
   "outputs": [
    {
     "name": "stdout",
     "output_type": "stream",
     "text": [
      "Group numbers with different HomePlanet: 0\n"
     ]
    }
   ],
   "source": [
    "df_uni_homeplanet = train_new_features.groupby(['passenger_group_number'])['HomePlanet'].nunique().reset_index().rename(columns={'HomePlanet' : 'uni_homeplanet'})\n",
    "print('Group numbers with different HomePlanet:', len(df_uni_homeplanet[df_uni_homeplanet['uni_homeplanet'] > 1]))"
   ]
  },
  {
   "attachments": {},
   "cell_type": "markdown",
   "metadata": {},
   "source": [
    "What we learned:\n",
    "- So the passengers in the same group come from the same HomePlanet\n",
    "\n",
    "Upcoming step:\n",
    "- If 'HomePlanet' is missing, impute it with the HomePlanet of the other passenger within the same group"
   ]
  },
  {
   "cell_type": "code",
   "execution_count": 42,
   "metadata": {},
   "outputs": [],
   "source": [
    "def impute_HomePlanet_based_on_group(df):\n",
    "    \n",
    "    mode_dict = df.groupby(['passenger_group_number'])['HomePlanet'].agg(pd.Series.mode).to_dict()\n",
    "    \n",
    "    new_dict = {key: value for key, value in mode_dict.items() if type(value) == str}\n",
    "    \n",
    "    for group_id, Home_Planet in new_dict.items():\n",
    "        df.loc[df['passenger_group_number'] == group_id, 'HomePlanet'] = Home_Planet\n",
    "    \n",
    "    return df"
   ]
  },
  {
   "cell_type": "code",
   "execution_count": 43,
   "metadata": {},
   "outputs": [
    {
     "name": "stdout",
     "output_type": "stream",
     "text": [
      "Train: Missing values in HomePlanet:  201\n",
      "Test: Missing values in HomePlanet:  87\n"
     ]
    }
   ],
   "source": [
    "# show number of missing values BEFORE imputation\n",
    "print(\"Train: Missing values in HomePlanet: \", train_new_features[\"HomePlanet\"].isnull().sum())\n",
    "print(\"Test: Missing values in HomePlanet: \", test_new_features[\"HomePlanet\"].isnull().sum())"
   ]
  },
  {
   "cell_type": "code",
   "execution_count": 44,
   "metadata": {},
   "outputs": [],
   "source": [
    "train_new_features = impute_HomePlanet_based_on_group(train_new_features)\n",
    "test_new_features = impute_HomePlanet_based_on_group(test_new_features)"
   ]
  },
  {
   "cell_type": "code",
   "execution_count": 45,
   "metadata": {},
   "outputs": [
    {
     "name": "stdout",
     "output_type": "stream",
     "text": [
      "Train: Missing values in HomePlanet:  111\n",
      "Test: Missing values in HomePlanet:  46\n"
     ]
    }
   ],
   "source": [
    "# show number of missing values AFTER imputation\n",
    "print(\"Train: Missing values in HomePlanet: \", train_new_features[\"HomePlanet\"].isnull().sum())\n",
    "print(\"Test: Missing values in HomePlanet: \", test_new_features[\"HomePlanet\"].isnull().sum())"
   ]
  },
  {
   "attachments": {},
   "cell_type": "markdown",
   "metadata": {},
   "source": [
    "The amount of missing value in 'HomePlanet' decrease nearly 50%, the next is try to impute based on the link between 'HomePlanet' and 'Cabin'"
   ]
  },
  {
   "attachments": {},
   "cell_type": "markdown",
   "metadata": {},
   "source": [
    "### Cabin X HomePlanet"
   ]
  },
  {
   "cell_type": "code",
   "execution_count": 46,
   "metadata": {},
   "outputs": [
    {
     "data": {
      "text/plain": [
       "<AxesSubplot:xlabel='Cabin_deck', ylabel='HomePlanet'>"
      ]
     },
     "execution_count": 46,
     "metadata": {},
     "output_type": "execute_result"
    },
    {
     "data": {
      "image/png": "[encoded data removed]",
      "text/plain": [
       "<Figure size 792x216 with 2 Axes>"
      ]
     },
     "metadata": {
      "needs_background": "light"
     },
     "output_type": "display_data"
    }
   ],
   "source": [
    "df_cabin_deck = train_new_features.groupby(['Cabin_deck','HomePlanet'])['HomePlanet'].size().unstack().fillna(0)\n",
    "\n",
    "plt.figure(figsize = (11,3))\n",
    "sns.heatmap(data=df_cabin_deck.T, annot=True, fmt='g')"
   ]
  },
  {
   "attachments": {},
   "cell_type": "markdown",
   "metadata": {},
   "source": [
    "What we learned:\n",
    "- All passenger in 'CabinDeck':A, B, C, T come form 'Europa'\n",
    "- All passenger in 'CabinDeck':G come form 'Earth'\n",
    "\n",
    "Upcoming step:\n",
    "- Impute 'HomePlanet' = 'Europa' if 'CabinDeck' is in ('A','B','C','T')\n",
    "- Impute 'HomePlanet' = 'Earth' if 'CabinDeck' == 'G'"
   ]
  },
  {
   "cell_type": "code",
   "execution_count": 47,
   "metadata": {},
   "outputs": [],
   "source": [
    "cabin_deck_to_planet = {\"A\": \"Europa\", \"B\": \"Europa\", \"C\": \"Europa\", \"G\": \"Earth\", \"T\": \"Europa\"}\n",
    "\n",
    "def impute_homeplanet_europa_based_on_cabindeck(df, cabin_deck_to_planet):\n",
    "    \n",
    "    for cabin_deck, home_planet in cabin_deck_to_planet.items():\n",
    "        df.loc[df['Cabin_deck'] == cabin_deck, 'HomePlanet'] = home_planet\n",
    "    \n",
    "    return df"
   ]
  },
  {
   "cell_type": "code",
   "execution_count": 48,
   "metadata": {},
   "outputs": [],
   "source": [
    "train_new_features = impute_homeplanet_europa_based_on_cabindeck(train_new_features, cabin_deck_to_planet)\n",
    "test_new_features = impute_homeplanet_europa_based_on_cabindeck(test_new_features, cabin_deck_to_planet)"
   ]
  },
  {
   "cell_type": "code",
   "execution_count": 49,
   "metadata": {},
   "outputs": [
    {
     "name": "stdout",
     "output_type": "stream",
     "text": [
      "Train: Missing values in HomePlanet:  63\n",
      "Test: Missing values in HomePlanet:  31\n"
     ]
    }
   ],
   "source": [
    "# show number of missing values AFTER imputation\n",
    "print(\"Train: Missing values in HomePlanet: \", train_new_features[\"HomePlanet\"].isnull().sum())\n",
    "print(\"Test: Missing values in HomePlanet: \", test_new_features[\"HomePlanet\"].isnull().sum())"
   ]
  },
  {
   "attachments": {},
   "cell_type": "markdown",
   "metadata": {},
   "source": [
    "### Expenditure features X Age\n",
    "\n",
    "The missing values in expenditure features(RoomService、Spa、VRDeck、FoodCourt、ShooppingMall) can be imputed based on 'AgeSubcategory'"
   ]
  },
  {
   "cell_type": "code",
   "execution_count": 50,
   "metadata": {},
   "outputs": [
    {
     "data": {
      "text/plain": [
       "<AxesSubplot:xlabel='AgeSubcategory', ylabel='have_expenses'>"
      ]
     },
     "execution_count": 50,
     "metadata": {},
     "output_type": "execute_result"
    },
    {
     "data": {
      "image/png": "[encoded data removed]",
      "text/plain": [
       "<Figure size 792x216 with 2 Axes>"
      ]
     },
     "metadata": {
      "needs_background": "light"
     },
     "output_type": "display_data"
    }
   ],
   "source": [
    "df_expense_age = train_new_features.groupby(['AgeSubcategory','have_expenses'])['have_expenses'].size().unstack().fillna(0)\n",
    "\n",
    "plt.figure(figsize = (11,3))\n",
    "sns.heatmap(data=df_expense_age.T, annot=True, fmt='g')"
   ]
  },
  {
   "attachments": {},
   "cell_type": "markdown",
   "metadata": {},
   "source": [
    "- Baby and Kid didn't spend money, so the missing vlaue in expenditure features of these two categories will be imputed 0"
   ]
  },
  {
   "cell_type": "code",
   "execution_count": 51,
   "metadata": {},
   "outputs": [
    {
     "name": "stdout",
     "output_type": "stream",
     "text": [
      "Train: Missing value in column RoomService  : 113\n",
      "Train: Missing value in column FoodCourt  : 113\n",
      "Train: Missing value in column ShoppingMall  : 112\n",
      "Train: Missing value in column Spa  : 118\n",
      "Train: Missing value in column VRDeck  : 126\n",
      "Test: Missing value in column RoomService  : 57\n",
      "Test: Missing value in column FoodCourt  : 67\n",
      "Test: Missing value in column ShoppingMall  : 63\n",
      "Test: Missing value in column Spa  : 59\n",
      "Test: Missing value in column VRDeck  : 51\n"
     ]
    }
   ],
   "source": [
    "# show the missing values in expenditure features BEFORE imputation:\n",
    "\n",
    "for expenses in expenditure_features:\n",
    "    print(f'Train: Missing value in column {expenses}  : {train_new_features[expenses].isnull().sum()}')\n",
    "    \n",
    "for expenses in expenditure_features:\n",
    "    print(f'Test: Missing value in column {expenses}  : {test_new_features[expenses].isnull().sum()}')"
   ]
  },
  {
   "cell_type": "code",
   "execution_count": 52,
   "metadata": {},
   "outputs": [],
   "source": [
    "def impute_expenses_0_for_baby_kid(df, expenditure_features):\n",
    "    \n",
    "    for expenses in expenditure_features:\n",
    "        df.loc[(df['AgeSubcategory'] == 'Baby') | (df['AgeSubcategory'] == 'Kid'), expenses] = 0\n",
    "        \n",
    "    return df"
   ]
  },
  {
   "cell_type": "code",
   "execution_count": 53,
   "metadata": {},
   "outputs": [],
   "source": [
    "train_new_features = impute_expenses_0_for_baby_kid(train_new_features, expenditure_features)\n",
    "test_new_features = impute_expenses_0_for_baby_kid(test_new_features, expenditure_features)"
   ]
  },
  {
   "cell_type": "code",
   "execution_count": 54,
   "metadata": {},
   "outputs": [
    {
     "name": "stdout",
     "output_type": "stream",
     "text": [
      "Missing value in column RoomService of training data : 108\n",
      "Missing value in column FoodCourt of training data : 106\n",
      "Missing value in column ShoppingMall of training data : 104\n",
      "Missing value in column Spa of training data : 114\n",
      "Missing value in column VRDeck of training data : 110\n",
      "Missing value in column RoomService of testing data : 56\n",
      "Missing value in column FoodCourt of testing data : 65\n",
      "Missing value in column ShoppingMall of testing data : 61\n",
      "Missing value in column Spa of testing data : 52\n",
      "Missing value in column VRDeck of testing data : 44\n"
     ]
    }
   ],
   "source": [
    "# show the missing values in expenditure features AFTER imputation:\n",
    "\n",
    "for expenses in expenditure_features:\n",
    "    print(f'Missing value in column {expenses} of training data : {train_new_features[expenses].isnull().sum()}')\n",
    "    \n",
    "for expenses in expenditure_features:\n",
    "    print(f'Missing value in column {expenses} of testing data : {test_new_features[expenses].isnull().sum()}')"
   ]
  },
  {
   "attachments": {},
   "cell_type": "markdown",
   "metadata": {},
   "source": [
    "### VIP X Age"
   ]
  },
  {
   "cell_type": "code",
   "execution_count": 55,
   "metadata": {},
   "outputs": [
    {
     "data": {
      "text/plain": [
       "<AxesSubplot:xlabel='AgeSubcategory', ylabel='VIP'>"
      ]
     },
     "execution_count": 55,
     "metadata": {},
     "output_type": "execute_result"
    },
    {
     "data": {
      "image/png": "[encoded data removed]",
      "text/plain": [
       "<Figure size 792x216 with 2 Axes>"
      ]
     },
     "metadata": {
      "needs_background": "light"
     },
     "output_type": "display_data"
    }
   ],
   "source": [
    "df_vip_age = train_new_features.groupby(['AgeSubcategory','VIP'])['VIP'].size().unstack().fillna(0)\n",
    "\n",
    "plt.figure(figsize = (11,3))\n",
    "sns.heatmap(data=df_vip_age.T, annot=True, fmt='g')"
   ]
  },
  {
   "cell_type": "code",
   "execution_count": 56,
   "metadata": {},
   "outputs": [
    {
     "name": "stdout",
     "output_type": "stream",
     "text": [
      "Train: Missing values in VIP:  203\n",
      "Test: Missing values in VIP:  93\n"
     ]
    }
   ],
   "source": [
    "# show number of missing values BEFORE imputation\n",
    "print(\"Train: Missing values in VIP: \", train_new_features[\"VIP\"].isnull().sum())\n",
    "print(\"Test: Missing values in VIP: \", test_new_features[\"VIP\"].isnull().sum())"
   ]
  },
  {
   "cell_type": "code",
   "execution_count": 57,
   "metadata": {},
   "outputs": [],
   "source": [
    "def impute_vip_false_if_baby_kid_teen(df):\n",
    "    \n",
    "    df.loc[(df['AgeSubcategory'] == 'Baby') | (df['AgeSubcategory'] == 'Kid'), 'VIP'] = False\n",
    "    \n",
    "    return df"
   ]
  },
  {
   "cell_type": "code",
   "execution_count": 58,
   "metadata": {},
   "outputs": [],
   "source": [
    "train_new_features = impute_vip_false_if_baby_kid_teen(train_new_features)\n",
    "test_new_features = impute_vip_false_if_baby_kid_teen(test_new_features)"
   ]
  },
  {
   "cell_type": "code",
   "execution_count": 59,
   "metadata": {},
   "outputs": [
    {
     "name": "stdout",
     "output_type": "stream",
     "text": [
      "Train: Missing values in VIP:  181\n",
      "Test: Missing values in VIP:  89\n"
     ]
    }
   ],
   "source": [
    "# show number of missing values AFTER imputation\n",
    "print(\"Train: Missing values in VIP: \", train_new_features[\"VIP\"].isnull().sum())\n",
    "print(\"Test: Missing values in VIP: \", test_new_features[\"VIP\"].isnull().sum())"
   ]
  },
  {
   "attachments": {},
   "cell_type": "markdown",
   "metadata": {},
   "source": [
    "#### Impute all the individual expenses with 0 if total_expenses = 0"
   ]
  },
  {
   "cell_type": "code",
   "execution_count": 60,
   "metadata": {},
   "outputs": [],
   "source": [
    "def impute_expense_0_if_totalexpenses_0(df, expenditure_features):\n",
    "    \n",
    "    for expenses in expenditure_features:\n",
    "        \n",
    "        df.loc[df['total_expenses'] == 0, expenses] = 0\n",
    "        \n",
    "    return df"
   ]
  },
  {
   "cell_type": "code",
   "execution_count": 61,
   "metadata": {},
   "outputs": [],
   "source": [
    "train_new_features = impute_expense_0_if_totalexpenses_0(train_new_features, expenditure_features)\n",
    "test_new_features = impute_expense_0_if_totalexpenses_0(test_new_features, expenditure_features)"
   ]
  },
  {
   "cell_type": "code",
   "execution_count": 62,
   "metadata": {},
   "outputs": [
    {
     "name": "stdout",
     "output_type": "stream",
     "text": [
      "Missing value in column RoomService of training data : 103\n",
      "Missing value in column FoodCourt of training data : 102\n",
      "Missing value in column ShoppingMall of training data : 100\n",
      "Missing value in column Spa of training data : 112\n",
      "Missing value in column VRDeck of training data : 102\n",
      "Missing value in column RoomService of testing data : 53\n",
      "Missing value in column FoodCourt of testing data : 65\n",
      "Missing value in column ShoppingMall of testing data : 60\n",
      "Missing value in column Spa of testing data : 50\n",
      "Missing value in column VRDeck of testing data : 41\n"
     ]
    }
   ],
   "source": [
    "# show the missing values in expenditure features AFTER imputation:\n",
    "for expenses in expenditure_features:\n",
    "    print(f'Missing value in column {expenses} of training data : {train_new_features[expenses].isnull().sum()}')\n",
    "    \n",
    "for expenses in expenditure_features:\n",
    "    print(f'Missing value in column {expenses} of testing data : {test_new_features[expenses].isnull().sum()}')"
   ]
  },
  {
   "attachments": {},
   "cell_type": "markdown",
   "metadata": {},
   "source": [
    "Update the exepnses group since some missing values are gone"
   ]
  },
  {
   "cell_type": "code",
   "execution_count": 63,
   "metadata": {},
   "outputs": [],
   "source": [
    "train_new_features = create_expenses_group(train_new_features)\n",
    "test_new_features = create_expenses_group(test_new_features)"
   ]
  },
  {
   "attachments": {},
   "cell_type": "markdown",
   "metadata": {},
   "source": [
    "### Missing values intermediary status"
   ]
  },
  {
   "cell_type": "code",
   "execution_count": 64,
   "metadata": {},
   "outputs": [
    {
     "data": {
      "text/html": [
       "<div>\n",
       "<style scoped>\n",
       "    .dataframe tbody tr th:only-of-type {\n",
       "        vertical-align: middle;\n",
       "    }\n",
       "\n",
       "    .dataframe tbody tr th {\n",
       "        vertical-align: top;\n",
       "    }\n",
       "\n",
       "    .dataframe thead th {\n",
       "        text-align: right;\n",
       "    }\n",
       "</style>\n",
       "<table border=\"1\" class=\"dataframe\">\n",
       "  <thead>\n",
       "    <tr style=\"text-align: right;\">\n",
       "      <th></th>\n",
       "      <th>Total</th>\n",
       "      <th>Percentage</th>\n",
       "    </tr>\n",
       "  </thead>\n",
       "  <tbody>\n",
       "    <tr>\n",
       "      <th>luxury_expenses</th>\n",
       "      <td>311</td>\n",
       "      <td>3.71%</td>\n",
       "    </tr>\n",
       "    <tr>\n",
       "      <th>normal_expenses</th>\n",
       "      <td>201</td>\n",
       "      <td>2.37%</td>\n",
       "    </tr>\n",
       "    <tr>\n",
       "      <th>Name</th>\n",
       "      <td>200</td>\n",
       "      <td>2.35%</td>\n",
       "    </tr>\n",
       "    <tr>\n",
       "      <th>Destination</th>\n",
       "      <td>182</td>\n",
       "      <td>2.14%</td>\n",
       "    </tr>\n",
       "    <tr>\n",
       "      <th>VIP</th>\n",
       "      <td>181</td>\n",
       "      <td>2.13%</td>\n",
       "    </tr>\n",
       "    <tr>\n",
       "      <th>Spa</th>\n",
       "      <td>112</td>\n",
       "      <td>1.31%</td>\n",
       "    </tr>\n",
       "    <tr>\n",
       "      <th>RoomService</th>\n",
       "      <td>103</td>\n",
       "      <td>1.20%</td>\n",
       "    </tr>\n",
       "    <tr>\n",
       "      <th>FoodCourt</th>\n",
       "      <td>102</td>\n",
       "      <td>1.19%</td>\n",
       "    </tr>\n",
       "    <tr>\n",
       "      <th>VRDeck</th>\n",
       "      <td>102</td>\n",
       "      <td>1.19%</td>\n",
       "    </tr>\n",
       "    <tr>\n",
       "      <th>ShoppingMall</th>\n",
       "      <td>100</td>\n",
       "      <td>1.16%</td>\n",
       "    </tr>\n",
       "    <tr>\n",
       "      <th>CryoSleep</th>\n",
       "      <td>98</td>\n",
       "      <td>1.14%</td>\n",
       "    </tr>\n",
       "    <tr>\n",
       "      <th>HomePlanet</th>\n",
       "      <td>63</td>\n",
       "      <td>0.73%</td>\n",
       "    </tr>\n",
       "  </tbody>\n",
       "</table>\n",
       "</div>"
      ],
      "text/plain": [
       "                 Total Percentage\n",
       "luxury_expenses    311      3.71%\n",
       "normal_expenses    201      2.37%\n",
       "Name               200      2.35%\n",
       "Destination        182      2.14%\n",
       "VIP                181      2.13%\n",
       "Spa                112      1.31%\n",
       "RoomService        103      1.20%\n",
       "FoodCourt          102      1.19%\n",
       "VRDeck             102      1.19%\n",
       "ShoppingMall       100      1.16%\n",
       "CryoSleep           98      1.14%\n",
       "HomePlanet          63      0.73%"
      ]
     },
     "execution_count": 64,
     "metadata": {},
     "output_type": "execute_result"
    }
   ],
   "source": [
    "show_missing_value_percentage(train_new_features)"
   ]
  },
  {
   "cell_type": "code",
   "execution_count": 65,
   "metadata": {},
   "outputs": [
    {
     "data": {
      "text/html": [
       "<div>\n",
       "<style scoped>\n",
       "    .dataframe tbody tr th:only-of-type {\n",
       "        vertical-align: middle;\n",
       "    }\n",
       "\n",
       "    .dataframe tbody tr th {\n",
       "        vertical-align: top;\n",
       "    }\n",
       "\n",
       "    .dataframe thead th {\n",
       "        text-align: right;\n",
       "    }\n",
       "</style>\n",
       "<table border=\"1\" class=\"dataframe\">\n",
       "  <thead>\n",
       "    <tr style=\"text-align: right;\">\n",
       "      <th></th>\n",
       "      <th>Total</th>\n",
       "      <th>Percentage</th>\n",
       "    </tr>\n",
       "  </thead>\n",
       "  <tbody>\n",
       "    <tr>\n",
       "      <th>luxury_expenses</th>\n",
       "      <td>142</td>\n",
       "      <td>3.43%</td>\n",
       "    </tr>\n",
       "    <tr>\n",
       "      <th>normal_expenses</th>\n",
       "      <td>124</td>\n",
       "      <td>2.99%</td>\n",
       "    </tr>\n",
       "    <tr>\n",
       "      <th>Name</th>\n",
       "      <td>94</td>\n",
       "      <td>2.25%</td>\n",
       "    </tr>\n",
       "    <tr>\n",
       "      <th>Destination</th>\n",
       "      <td>92</td>\n",
       "      <td>2.20%</td>\n",
       "    </tr>\n",
       "    <tr>\n",
       "      <th>VIP</th>\n",
       "      <td>89</td>\n",
       "      <td>2.13%</td>\n",
       "    </tr>\n",
       "    <tr>\n",
       "      <th>FoodCourt</th>\n",
       "      <td>65</td>\n",
       "      <td>1.54%</td>\n",
       "    </tr>\n",
       "    <tr>\n",
       "      <th>ShoppingMall</th>\n",
       "      <td>60</td>\n",
       "      <td>1.42%</td>\n",
       "    </tr>\n",
       "    <tr>\n",
       "      <th>RoomService</th>\n",
       "      <td>53</td>\n",
       "      <td>1.25%</td>\n",
       "    </tr>\n",
       "    <tr>\n",
       "      <th>Spa</th>\n",
       "      <td>50</td>\n",
       "      <td>1.18%</td>\n",
       "    </tr>\n",
       "    <tr>\n",
       "      <th>VRDeck</th>\n",
       "      <td>41</td>\n",
       "      <td>0.97%</td>\n",
       "    </tr>\n",
       "    <tr>\n",
       "      <th>CryoSleep</th>\n",
       "      <td>38</td>\n",
       "      <td>0.90%</td>\n",
       "    </tr>\n",
       "    <tr>\n",
       "      <th>HomePlanet</th>\n",
       "      <td>31</td>\n",
       "      <td>0.73%</td>\n",
       "    </tr>\n",
       "  </tbody>\n",
       "</table>\n",
       "</div>"
      ],
      "text/plain": [
       "                 Total Percentage\n",
       "luxury_expenses    142      3.43%\n",
       "normal_expenses    124      2.99%\n",
       "Name                94      2.25%\n",
       "Destination         92      2.20%\n",
       "VIP                 89      2.13%\n",
       "FoodCourt           65      1.54%\n",
       "ShoppingMall        60      1.42%\n",
       "RoomService         53      1.25%\n",
       "Spa                 50      1.18%\n",
       "VRDeck              41      0.97%\n",
       "CryoSleep           38      0.90%\n",
       "HomePlanet          31      0.73%"
      ]
     },
     "execution_count": 65,
     "metadata": {},
     "output_type": "execute_result"
    }
   ],
   "source": [
    "show_missing_value_percentage(test_new_features)"
   ]
  },
  {
   "attachments": {},
   "cell_type": "markdown",
   "metadata": {},
   "source": [
    "### Impute the continuous features with median"
   ]
  },
  {
   "cell_type": "code",
   "execution_count": 66,
   "metadata": {},
   "outputs": [],
   "source": [
    "continues_features =  train_new_features.select_dtypes('float64').columns.drop(['normal_expenses', 'luxury_expenses'])"
   ]
  },
  {
   "cell_type": "code",
   "execution_count": 67,
   "metadata": {},
   "outputs": [],
   "source": [
    "def impute_continus_features_median(df, continues_features):\n",
    "    \n",
    "    imputator = SimpleImputer(strategy='median')\n",
    "    \n",
    "    for features in continues_features:\n",
    "        df[features]  = imputator.fit_transform(df[[features]])\n",
    "        \n",
    "    return df"
   ]
  },
  {
   "cell_type": "code",
   "execution_count": 68,
   "metadata": {},
   "outputs": [],
   "source": [
    "train_new_features = impute_continus_features_median(train_new_features, continues_features)\n",
    "test_new_features = impute_continus_features_median(test_new_features, continues_features)"
   ]
  },
  {
   "cell_type": "code",
   "execution_count": 69,
   "metadata": {},
   "outputs": [],
   "source": [
    "# update the expenses_group to fill the NAs\n",
    "train_new_features = create_expenses_group(train_new_features)\n",
    "test_new_features = create_expenses_group(test_new_features)"
   ]
  },
  {
   "attachments": {},
   "cell_type": "markdown",
   "metadata": {},
   "source": [
    "### Impute the categorical features which remaining have miss values"
   ]
  },
  {
   "cell_type": "code",
   "execution_count": 70,
   "metadata": {},
   "outputs": [
    {
     "name": "stdout",
     "output_type": "stream",
     "text": [
      "Index(['HomePlanet', 'CryoSleep', 'Destination', 'VIP', 'Name'], dtype='object')\n"
     ]
    }
   ],
   "source": [
    "remain_cat_features = train_new_features.columns[train_new_features.isna().any()]\n",
    "print(remain_cat_features)"
   ]
  },
  {
   "cell_type": "code",
   "execution_count": 71,
   "metadata": {},
   "outputs": [],
   "source": [
    "def impute_categorical_features(df, remain_cat_features):\n",
    "    \n",
    "    df[remain_cat_features] = df[remain_cat_features].fillna(df[remain_cat_features].mode().iloc[0])\n",
    "    \n",
    "    return df"
   ]
  },
  {
   "cell_type": "code",
   "execution_count": 72,
   "metadata": {},
   "outputs": [],
   "source": [
    "train_new_features = impute_categorical_features(train_new_features, remain_cat_features)\n",
    "test_new_features = impute_categorical_features(test_new_features, remain_cat_features)"
   ]
  },
  {
   "cell_type": "code",
   "execution_count": 73,
   "metadata": {},
   "outputs": [
    {
     "data": {
      "text/html": [
       "<div>\n",
       "<style scoped>\n",
       "    .dataframe tbody tr th:only-of-type {\n",
       "        vertical-align: middle;\n",
       "    }\n",
       "\n",
       "    .dataframe tbody tr th {\n",
       "        vertical-align: top;\n",
       "    }\n",
       "\n",
       "    .dataframe thead th {\n",
       "        text-align: right;\n",
       "    }\n",
       "</style>\n",
       "<table border=\"1\" class=\"dataframe\">\n",
       "  <thead>\n",
       "    <tr style=\"text-align: right;\">\n",
       "      <th></th>\n",
       "      <th>Total</th>\n",
       "      <th>Percentage</th>\n",
       "    </tr>\n",
       "  </thead>\n",
       "  <tbody>\n",
       "  </tbody>\n",
       "</table>\n",
       "</div>"
      ],
      "text/plain": [
       "Empty DataFrame\n",
       "Columns: [Total, Percentage]\n",
       "Index: []"
      ]
     },
     "execution_count": 73,
     "metadata": {},
     "output_type": "execute_result"
    }
   ],
   "source": [
    "show_missing_value_percentage(train_new_features)"
   ]
  },
  {
   "cell_type": "code",
   "execution_count": 74,
   "metadata": {},
   "outputs": [
    {
     "data": {
      "text/html": [
       "<div>\n",
       "<style scoped>\n",
       "    .dataframe tbody tr th:only-of-type {\n",
       "        vertical-align: middle;\n",
       "    }\n",
       "\n",
       "    .dataframe tbody tr th {\n",
       "        vertical-align: top;\n",
       "    }\n",
       "\n",
       "    .dataframe thead th {\n",
       "        text-align: right;\n",
       "    }\n",
       "</style>\n",
       "<table border=\"1\" class=\"dataframe\">\n",
       "  <thead>\n",
       "    <tr style=\"text-align: right;\">\n",
       "      <th></th>\n",
       "      <th>Total</th>\n",
       "      <th>Percentage</th>\n",
       "    </tr>\n",
       "  </thead>\n",
       "  <tbody>\n",
       "  </tbody>\n",
       "</table>\n",
       "</div>"
      ],
      "text/plain": [
       "Empty DataFrame\n",
       "Columns: [Total, Percentage]\n",
       "Index: []"
      ]
     },
     "execution_count": 74,
     "metadata": {},
     "output_type": "execute_result"
    }
   ],
   "source": [
    "show_missing_value_percentage(test_new_features)"
   ]
  },
  {
   "attachments": {},
   "cell_type": "markdown",
   "metadata": {},
   "source": [
    "# Preprocessing"
   ]
  },
  {
   "attachments": {},
   "cell_type": "markdown",
   "metadata": {},
   "source": [
    "## Drop unwanted column"
   ]
  },
  {
   "cell_type": "code",
   "execution_count": 75,
   "metadata": {},
   "outputs": [],
   "source": [
    "train_for_preprocessing = train_new_features.drop(['PassengerId','Cabin', 'Cabin_num','passenger_group_number','Name','Transported'],axis = 1)\n",
    "y = train_new_features['Transported'].copy().astype(int)\n",
    "test_for_preprocessing = test_new_features.drop(['Cabin','Cabin_num','passenger_group_number','Name'],axis = 1)"
   ]
  },
  {
   "attachments": {},
   "cell_type": "markdown",
   "metadata": {},
   "source": [
    "## Log transform"
   ]
  },
  {
   "cell_type": "code",
   "execution_count": 76,
   "metadata": {},
   "outputs": [
    {
     "data": {
      "image/png": "[encoded data removed]",
      "text/plain": [
       "<Figure size 1080x360 with 8 Axes>"
      ]
     },
     "metadata": {
      "needs_background": "light"
     },
     "output_type": "display_data"
    }
   ],
   "source": [
    "# show the distribution of continues features \n",
    "numerical_features = train_for_preprocessing.select_dtypes('float').columns.drop('Age')\n",
    "fig = plt.figure(figsize=(15,5))\n",
    "\n",
    "for idx, val in enumerate(numerical_features):\n",
    "    ax = fig.add_subplot(2,5,idx+1)\n",
    "    sns.histplot(data=train_for_preprocessing, x=val, axes=ax, bins=20)\n",
    "    ax.set_title(val)\n",
    "    \n",
    "    plt.ylim([0,500])\n",
    "    \n",
    "plt.tight_layout()  \n",
    "plt.show()"
   ]
  },
  {
   "attachments": {},
   "cell_type": "markdown",
   "metadata": {},
   "source": [
    "All the numerical features except Age will be log transformed"
   ]
  },
  {
   "cell_type": "code",
   "execution_count": 77,
   "metadata": {},
   "outputs": [],
   "source": [
    "# log transform\n",
    "\n",
    "for col in numerical_features:\n",
    "    train_for_preprocessing[col] = np.log(1 + train_for_preprocessing[col])\n",
    "    test_for_preprocessing[col] = np.log(1 + test_for_preprocessing[col])"
   ]
  },
  {
   "cell_type": "code",
   "execution_count": 78,
   "metadata": {},
   "outputs": [
    {
     "data": {
      "image/png": "[encoded data removed]",
      "text/plain": [
       "<Figure size 1080x360 with 8 Axes>"
      ]
     },
     "metadata": {
      "needs_background": "light"
     },
     "output_type": "display_data"
    }
   ],
   "source": [
    "# check the result after log transform\n",
    "fig = plt.figure(figsize=(15,5))\n",
    "\n",
    "for idx, val in enumerate(numerical_features):\n",
    "    ax = fig.add_subplot(2,5,idx+1)\n",
    "    sns.histplot(data=train_for_preprocessing, x=val, axes=ax, bins=20)\n",
    "    ax.set_title(val)\n",
    "    \n",
    "    plt.ylim([0,500])\n",
    "    \n",
    "plt.tight_layout()  \n",
    "plt.show()"
   ]
  },
  {
   "attachments": {},
   "cell_type": "markdown",
   "metadata": {},
   "source": [
    "## Scaling & Encoding\n",
    "\n",
    "- implement scaling on numerical features\n",
    "- implement encoding(one-hot encoding) on categorical features"
   ]
  },
  {
   "cell_type": "code",
   "execution_count": 79,
   "metadata": {},
   "outputs": [],
   "source": [
    "numerical_cols = [col for col in train_for_preprocessing.columns if train_for_preprocessing[col].dtypes in ['int64','float64']]\n",
    "categorical_cols = [col for col in train_for_preprocessing.columns if train_for_preprocessing[col].dtypes in ['object'] and col != 'PassengerId']\n",
    "bool_cols = [col for col in train_for_preprocessing.columns if \n",
    "            train_for_preprocessing[col].dtypes in ['bool'] or\n",
    "            train_for_preprocessing[col].nunique() == 2\n",
    "            ]"
   ]
  },
  {
   "cell_type": "code",
   "execution_count": 80,
   "metadata": {},
   "outputs": [],
   "source": [
    "# scale numerical dtat to have mean = 0, variance = 1\n",
    "numerical_transformer = Pipeline(steps=[('scaler', StandardScaler())])\n",
    "\n",
    "# one-hot encode categorical data\n",
    "categorical_transformer = Pipeline(steps = [('onehot', OneHotEncoder(drop='if_binary', handle_unknown='ignore',sparse=False))])\n",
    "\n",
    "# label encode boolean data\n",
    "boolean_transformer = Pipeline(steps=[('bool', OrdinalEncoder())])\n",
    "\n",
    "# combine the transformers\n",
    "preprocessing = ColumnTransformer(\n",
    "    transformers=[\n",
    "        ('num', numerical_transformer, numerical_cols),\n",
    "        ('cat', categorical_transformer, categorical_cols),\n",
    "        ('bool', boolean_transformer, bool_cols)\n",
    "    ],\n",
    "    remainder='passthrough'\n",
    ")\n",
    "\n",
    "train_transformed = preprocessing.fit_transform(train_for_preprocessing)\n",
    "test_transformed = preprocessing.transform(test_for_preprocessing)\n",
    "\n",
    "# get the names of the one-hot encoded columns\n",
    "feature_names = preprocessing.get_feature_names_out()\n",
    "\n",
    "transformed_train_df = pd.DataFrame(train_transformed, columns=feature_names)\n",
    "transformed_test_df = pd.DataFrame(test_transformed, columns=feature_names)"
   ]
  },
  {
   "cell_type": "code",
   "execution_count": 81,
   "metadata": {},
   "outputs": [],
   "source": [
    "x_train, x_valid, y_train, y_valid = train_test_split(transformed_train_df, y, test_size=0.3, random_state=0)"
   ]
  },
  {
   "attachments": {},
   "cell_type": "markdown",
   "metadata": {},
   "source": [
    "# Training"
   ]
  },
  {
   "attachments": {},
   "cell_type": "markdown",
   "metadata": {},
   "source": [
    "Several models are compared and the best one is selected based on the performance."
   ]
  },
  {
   "attachments": {},
   "cell_type": "markdown",
   "metadata": {},
   "source": [
    "Briefly describe the models:\n",
    "\n",
    "**Logistic Regression**:\n",
    "This model uses Maximum Likelihood Estimation to fit a Sigmoid function on the target variable distribution. This is commonly uses in classification problems.\n",
    "\n",
    "**Random Froest(RF)**:\n",
    "This is an ensemble of decision trees, and the trees are constrcuted by bootstrap sampling. Each tree will generate a prediction, and the final prediction determined by majority votes in classification problem.\n",
    "\n",
    "**Extreme Gradient Boosting(XGBoost)**:\n",
    "This model is also an ensemble model, but the way of deriving trees is different with RF. It is constructed by several simple models sequentially, and each tree is trained to correct the errors made by the previous tree. Moreover, XGBoost uses a technique called \"gradient boosting\" to optimize the result.\n",
    "\n",
    "**​Light Gradient Boosting Machine (LGBM)**: \n",
    "LGBM works essentially the same as XGBoost but with a lighter boosting technique. It usually produces similar results to XGBoost but is significantly faster."
   ]
  },
  {
   "cell_type": "code",
   "execution_count": 82,
   "metadata": {},
   "outputs": [],
   "source": [
    "RANDOM_STATE = 6"
   ]
  },
  {
   "cell_type": "code",
   "execution_count": 83,
   "metadata": {},
   "outputs": [
    {
     "data": {
      "text/plain": [
       "{'LR': LogisticRegression(random_state=6, solver='liblinear'),\n",
       " 'RF': RandomForestClassifier(random_state=6),\n",
       " 'XGBC': XGBClassifier(base_score=None, booster=None, callbacks=None,\n",
       "               colsample_bylevel=None, colsample_bynode=None,\n",
       "               colsample_bytree=None, early_stopping_rounds=None,\n",
       "               enable_categorical=False, eval_metric=None, gamma=None,\n",
       "               gpu_id=None, grow_policy=None, importance_type=None,\n",
       "               interaction_constraints=None, learning_rate=None, max_bin=None,\n",
       "               max_cat_to_onehot=None, max_delta_step=None, max_depth=None,\n",
       "               max_leaves=None, min_child_weight=None, missing=nan,\n",
       "               monotone_constraints=None, n_estimators=100, n_jobs=None,\n",
       "               num_parallel_tree=None, predictor=None, random_state=6,\n",
       "               reg_alpha=None, reg_lambda=None, ...),\n",
       " 'LGBM': LGBMClassifier(random_state=6)}"
      ]
     },
     "execution_count": 83,
     "metadata": {},
     "output_type": "execute_result"
    }
   ],
   "source": [
    "classifiers_dict = {\n",
    "    'LR' : LogisticRegression(solver='liblinear' ,random_state=RANDOM_STATE),\n",
    "    'RF' : RandomForestClassifier(random_state=RANDOM_STATE),\n",
    "    'XGBC' : XGBClassifier(random_state=RANDOM_STATE, use_label_encoder=False),\n",
    "    'LGBM' : LGBMClassifier(random_state=RANDOM_STATE),\n",
    "    \n",
    "    \n",
    "}\n",
    "classifiers_dict"
   ]
  },
  {
   "cell_type": "code",
   "execution_count": 84,
   "metadata": {},
   "outputs": [],
   "source": [
    "# grids for GridSearchCV\n",
    "LR_grid = {\n",
    "    \"penalty\": [\"l1\",\"l2\"],\n",
    "    \"C\": [0.25, 0.5, 0.75, 1, 1.25, 1.5],\n",
    "    \"max_iter\": [50, 100, 150]\n",
    "}\n",
    "\n",
    "RF_grid = {\n",
    "    'n_estimators': [50, 100, 150, 200],\n",
    "    'max_depth': [1, 2, 5, 10],\n",
    "    'max_features': [10, 20, 25, 50]\n",
    "}\n",
    "\n",
    "XGBC_grid = {\n",
    "    'n_estimators': [50, 100, 150, 200, 250],\n",
    "    'max_depth': [1, 2, 5, 10, 15],\n",
    "    \"colsample_bytree\": [0.5, 1.0],\n",
    "    \"gamma\": [0.5, 1.0],\n",
    "    \"subsample\": [0.5, 1.0]\n",
    "    \n",
    "}\n",
    "\n",
    "LGBM_grid = {\n",
    "    'n_estimators': [50, 100, 150, 200, 250],\n",
    "    'max_depth': [1, 2, 5, 10, 15],\n",
    "    'learning_rate': [0.001, 0.01, 0.05, 0.1],\n",
    "    'feature_fraction' : [0.2, 0.5, 1.0]\n",
    "}\n",
    "\n"
   ]
  },
  {
   "cell_type": "code",
   "execution_count": 85,
   "metadata": {},
   "outputs": [],
   "source": [
    "grid_set = {\n",
    "    'LR' : LR_grid,\n",
    "    'RF' : RF_grid,\n",
    "    'XGBC' : XGBC_grid,\n",
    "    'LGBM' : LGBM_grid\n",
    "}"
   ]
  },
  {
   "cell_type": "code",
   "execution_count": 86,
   "metadata": {},
   "outputs": [
    {
     "name": "stdout",
     "output_type": "stream",
     "text": [
      "Model LR\n",
      "0.7945768282662284\n",
      "{'C': 0.25, 'max_iter': 50, 'penalty': 'l1'}\n",
      "Model RF\n",
      "0.7988496302382908\n",
      "{'max_depth': 10, 'max_features': 10, 'n_estimators': 200}\n",
      "Model XGBC\n",
      "0.8036154478225145\n",
      "{'colsample_bytree': 1.0, 'gamma': 0.5, 'max_depth': 5, 'n_estimators': 50, 'subsample': 1.0}\n",
      "[LightGBM] [Warning] feature_fraction is set=0.5, colsample_bytree=1.0 will be ignored. Current value: feature_fraction=0.5\n",
      "Model LGBM\n",
      "0.8059161873459326\n",
      "{'feature_fraction': 0.5, 'learning_rate': 0.1, 'max_depth': 5, 'n_estimators': 200}\n"
     ]
    }
   ],
   "source": [
    "classifier_training_scores = {}\n",
    "i = 0\n",
    "\n",
    "for key, classifier in classifiers_dict.items():\n",
    "    \n",
    "    # Grid serach the parameter\n",
    "    clf = GridSearchCV(estimator=classifier, param_grid = grid_set[key], n_jobs=-1, cv=None)\n",
    "    \n",
    "    # train \n",
    "    clf.fit(x_train, y_train)\n",
    "    \n",
    "    # scoring(by default, scoring = accuracy_score for classification)\n",
    "    clf.score(x_train, y_train)\n",
    "    \n",
    "    \n",
    "    \n",
    "    print('Model', key)\n",
    "    print(clf.best_score_)\n",
    "    print(clf.best_params_)\n",
    "    \n",
    "    \n",
    "    classifier_training_scores[i] ={\n",
    "        'classifier': key,\n",
    "        'best_score': clf.best_score_,\n",
    "        'best_params': clf.best_params_\n",
    "    }\n",
    "    \n",
    "    \n",
    "    i += 1"
   ]
  },
  {
   "cell_type": "code",
   "execution_count": 144,
   "metadata": {},
   "outputs": [
    {
     "data": {
      "text/html": [
       "<div>\n",
       "<style scoped>\n",
       "    .dataframe tbody tr th:only-of-type {\n",
       "        vertical-align: middle;\n",
       "    }\n",
       "\n",
       "    .dataframe tbody tr th {\n",
       "        vertical-align: top;\n",
       "    }\n",
       "\n",
       "    .dataframe thead th {\n",
       "        text-align: right;\n",
       "    }\n",
       "</style>\n",
       "<table border=\"1\" class=\"dataframe\">\n",
       "  <thead>\n",
       "    <tr style=\"text-align: right;\">\n",
       "      <th></th>\n",
       "      <th>classifier</th>\n",
       "      <th>best_score</th>\n",
       "      <th>best_params</th>\n",
       "    </tr>\n",
       "  </thead>\n",
       "  <tbody>\n",
       "    <tr>\n",
       "      <th>3</th>\n",
       "      <td>LGBM</td>\n",
       "      <td>0.805588</td>\n",
       "      <td>{'feature_fraction': 1.0, 'learning_rate': 0.0...</td>\n",
       "    </tr>\n",
       "    <tr>\n",
       "      <th>2</th>\n",
       "      <td>XGBC</td>\n",
       "      <td>0.803615</td>\n",
       "      <td>{'colsample_bytree': 1.0, 'gamma': 0.5, 'max_d...</td>\n",
       "    </tr>\n",
       "    <tr>\n",
       "      <th>1</th>\n",
       "      <td>RF</td>\n",
       "      <td>0.798685</td>\n",
       "      <td>{'max_depth': 10, 'max_features': 10, 'n_estim...</td>\n",
       "    </tr>\n",
       "    <tr>\n",
       "      <th>0</th>\n",
       "      <td>LR</td>\n",
       "      <td>0.794577</td>\n",
       "      <td>{'C': 0.25, 'max_iter': 50, 'penalty': 'l1'}</td>\n",
       "    </tr>\n",
       "  </tbody>\n",
       "</table>\n",
       "</div>"
      ],
      "text/plain": [
       "  classifier best_score                                        best_params\n",
       "3       LGBM   0.805588  {'feature_fraction': 1.0, 'learning_rate': 0.0...\n",
       "2       XGBC   0.803615  {'colsample_bytree': 1.0, 'gamma': 0.5, 'max_d...\n",
       "1         RF   0.798685  {'max_depth': 10, 'max_features': 10, 'n_estim...\n",
       "0         LR   0.794577       {'C': 0.25, 'max_iter': 50, 'penalty': 'l1'}"
      ]
     },
     "execution_count": 144,
     "metadata": {},
     "output_type": "execute_result"
    }
   ],
   "source": [
    "pd.DataFrame(classifier_training_scores).transpose().sort_values('best_score', ascending= False)"
   ]
  },
  {
   "cell_type": "code",
   "execution_count": 96,
   "metadata": {},
   "outputs": [],
   "source": [
    "# best model and hyperparamter\n",
    "final_model = LGBMClassifier(**classifier_training_scores[3]['best_params'], random_state=RANDOM_STATE)\n"
   ]
  },
  {
   "attachments": {},
   "cell_type": "markdown",
   "metadata": {},
   "source": [
    "# Prediction"
   ]
  },
  {
   "cell_type": "code",
   "execution_count": 101,
   "metadata": {},
   "outputs": [
    {
     "name": "stdout",
     "output_type": "stream",
     "text": [
      "[LightGBM] [Warning] feature_fraction is set=0.5, colsample_bytree=1.0 will be ignored. Current value: feature_fraction=0.5\n"
     ]
    },
    {
     "data": {
      "text/plain": [
       "array([[2.95376161e-01, 7.04623839e-01],\n",
       "       [9.97566814e-01, 2.43318572e-03],\n",
       "       [8.30119647e-04, 9.99169880e-01],\n",
       "       ...,\n",
       "       [2.77057224e-02, 9.72294278e-01],\n",
       "       [9.05837095e-02, 9.09416290e-01],\n",
       "       [3.05814693e-01, 6.94185307e-01]])"
      ]
     },
     "execution_count": 101,
     "metadata": {},
     "output_type": "execute_result"
    }
   ],
   "source": [
    "final_model.fit(x_train, y_train)\n",
    "final_model.predict_proba(transformed_test_df)"
   ]
  }
 ],
 "metadata": {
  "kernelspec": {
   "display_name": "base",
   "language": "python",
   "name": "python3"
  },
  "language_info": {
   "codemirror_mode": {
    "name": "ipython",
    "version": 3
   },
   "file_extension": ".py",
   "mimetype": "text/x-python",
   "name": "python",
   "nbconvert_exporter": "python",
   "pygments_lexer": "ipython3",
   "version": "3.8.8"
  },
  "orig_nbformat": 4,
  "vscode": {
   "interpreter": {
    "hash": "e9261e4b8d81df69c83e35cc6f2e40b148a17ff965934ea230e7854a5f0ec50d"
   }
  }
 },
 "nbformat": 4,
 "nbformat_minor": 2
}
